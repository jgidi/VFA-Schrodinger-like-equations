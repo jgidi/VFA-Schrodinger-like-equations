{
 "cells": [
  {
   "cell_type": "code",
   "execution_count": 7,
   "metadata": {},
   "outputs": [],
   "source": [
    "import sys\n",
    "\n",
    "sys.path.append(\"../\")\n",
    "\n",
    "import pennylane as qml\n",
    "import pennylane.numpy as np\n",
    "from main import *\n",
    "\n",
    "np.random.seed(0)  # For reproducibility"
   ]
  },
  {
   "cell_type": "code",
   "execution_count": 8,
   "metadata": {},
   "outputs": [],
   "source": [
    "from qiskit_ibm_runtime.fake_provider import FakeManilaV2\n",
    "from qiskit_aer import AerSimulator\n",
    "backend = FakeManilaV2()\n",
    "aer = AerSimulator()\n",
    "aer_noise = AerSimulator.from_backend(backend)"
   ]
  },
  {
   "cell_type": "code",
   "execution_count": 9,
   "metadata": {},
   "outputs": [],
   "source": [
    "num_wires = 7\n",
    "num_layers = 1\n",
    "\n",
    "var_state_class = RY_ansatz(num_wires, num_layers)\n",
    "var_state = var_state_class.construct_circuit\n",
    "num_params = var_state_class.num_params\n",
    "\n",
    "params = np.random.randn(num_params) * 0.01"
   ]
  },
  {
   "cell_type": "code",
   "execution_count": 10,
   "metadata": {},
   "outputs": [],
   "source": [
    "shots = 10**6"
   ]
  },
  {
   "cell_type": "markdown",
   "metadata": {},
   "source": [
    "With Quantum Fourier Transform"
   ]
  },
  {
   "cell_type": "code",
   "execution_count": 11,
   "metadata": {},
   "outputs": [
    {
     "name": "stdout",
     "output_type": "stream",
     "text": [
      "278.23505043360217\n",
      "278.11758769675635\n"
     ]
    }
   ],
   "source": [
    "X, P = X_and_P_ops(range(num_wires), \n",
    "                    x_min=-5, \n",
    "                    x_max=5, \n",
    "                    semiclassical=False )\n",
    "\n",
    "Q = [X.pow(2).s_prod(0.5), P.pow(2).s_prod(0.5)]\n",
    "\n",
    "Expval  = expval_XP( params, var_state, Q, aer, \n",
    "                    shots=shots, dynamic=True )\n",
    "print( Expval )\n",
    "\n",
    "Expval  = expval_XP( params, var_state, Q, aer_noise, \n",
    "                    shots=shots, dynamic=True )\n",
    "print( Expval )"
   ]
  },
  {
   "cell_type": "markdown",
   "metadata": {},
   "source": [
    "With semiclassical Fourier Transform"
   ]
  },
  {
   "cell_type": "code",
   "execution_count": 12,
   "metadata": {},
   "outputs": [
    {
     "name": "stdout",
     "output_type": "stream",
     "text": [
      "278.32582015573394\n",
      "278.01248619491736\n"
     ]
    }
   ],
   "source": [
    "X, P = X_and_P_ops(range(num_wires), \n",
    "                    x_min=-5, \n",
    "                    x_max=5, \n",
    "                    semiclassical=True )\n",
    "\n",
    "Q = [X.pow(2).s_prod(0.5), P.pow(2).s_prod(0.5)]\n",
    "\n",
    "Expval  = expval_XP( params, var_state, Q, aer, \n",
    "                    shots=shots, dynamic=True )\n",
    "print( Expval )\n",
    "\n",
    "Expval  = expval_XP( params, var_state, Q, aer_noise, \n",
    "                    shots=shots, dynamic=True )\n",
    "print( Expval )"
   ]
  },
  {
   "cell_type": "code",
   "execution_count": null,
   "metadata": {},
   "outputs": [],
   "source": []
  }
 ],
 "metadata": {
  "kernelspec": {
   "display_name": "pennylane",
   "language": "python",
   "name": "python3"
  },
  "language_info": {
   "codemirror_mode": {
    "name": "ipython",
    "version": 3
   },
   "file_extension": ".py",
   "mimetype": "text/x-python",
   "name": "python",
   "nbconvert_exporter": "python",
   "pygments_lexer": "ipython3",
   "version": "3.12.1"
  }
 },
 "nbformat": 4,
 "nbformat_minor": 2
}
