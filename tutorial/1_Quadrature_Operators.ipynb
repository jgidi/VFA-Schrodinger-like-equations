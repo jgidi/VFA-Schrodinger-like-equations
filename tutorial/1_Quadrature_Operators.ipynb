{
 "cells": [
  {
   "cell_type": "code",
   "execution_count": 21,
   "metadata": {},
   "outputs": [],
   "source": [
    "import sys\n",
    "\n",
    "sys.path.append(\"../\")\n",
    "\n",
    "import pennylane as qml\n",
    "import pennylane.numpy as np\n",
    "from main import *\n",
    "\n",
    "np.random.seed(0)  # For reproducibility"
   ]
  },
  {
   "cell_type": "markdown",
   "metadata": {},
   "source": [
    "In this notebook we present the syntaxis to create and evaluate quantum states and operators in first quantization in a qubit-based quantum computer.\n",
    "\n",
    "In the first place let us define the number of qubits and the device to perform the simulations."
   ]
  },
  {
   "cell_type": "code",
   "execution_count": 22,
   "metadata": {},
   "outputs": [],
   "source": [
    "num_wires = 3\n",
    "dev = qml.device( 'lightning.qubit', wires=2*num_wires )"
   ]
  },
  {
   "cell_type": "markdown",
   "metadata": {},
   "source": [
    "Second, we create discrete versions of the position operator $X$ and the momentum operator $P$ between $x_{min}=-5$ and $x_{max}=5$ with the function ```X_and_P_ops``` "
   ]
  },
  {
   "cell_type": "code",
   "execution_count": 23,
   "metadata": {},
   "outputs": [
    {
     "data": {
      "text/plain": [
       "(<Hamiltonian: terms=1, wires=[0, 1, 2]>,\n",
       " <Hamiltonian: terms=1, wires=[0, 1, 2]>)"
      ]
     },
     "execution_count": 23,
     "metadata": {},
     "output_type": "execute_result"
    }
   ],
   "source": [
    "X, P = X_and_P_ops(range(num_wires), x_min=-5, x_max=5)\n",
    "X, P"
   ]
  },
  {
   "cell_type": "markdown",
   "metadata": {},
   "source": [
    "We now will evaluate the expected value of those operators in a random quantum state $|\\psi\\rangle$."
   ]
  },
  {
   "cell_type": "code",
   "execution_count": 24,
   "metadata": {},
   "outputs": [
    {
     "data": {
      "text/plain": [
       "(<Figure size 400x400 with 1 Axes>, <Axes: >)"
      ]
     },
     "execution_count": 24,
     "metadata": {},
     "output_type": "execute_result"
    },
    {
     "data": {
      "image/png": "[encoded data removed]",
      "text/plain": [
       "<Figure size 400x400 with 1 Axes>"
      ]
     },
     "metadata": {},
     "output_type": "display_data"
    }
   ],
   "source": [
    "def psi(params):\n",
    "    qml.MottonenStatePreparation(params, range(num_wires))\n",
    "\n",
    "\n",
    "params = np.random.randn(2**num_wires) + 1j * np.random.randn(2**num_wires)\n",
    "params = params / np.linalg.norm(params)\n",
    "\n",
    "qml.draw_mpl(psi)(params)"
   ]
  },
  {
   "cell_type": "code",
   "execution_count": 25,
   "metadata": {},
   "outputs": [
    {
     "name": "stdout",
     "output_type": "stream",
     "text": [
      "[ 0.41768427-0.02443969j  0.0947474 +0.09721964j  0.23174112+0.03410598j\n",
      "  0.53058848+0.34433625j  0.44219187+0.18019504j -0.2313954 +0.02880966j\n",
      "  0.2249576 +0.10509591j -0.03583767+0.07900589j]\n"
     ]
    }
   ],
   "source": [
    "print( params )"
   ]
  },
  {
   "cell_type": "markdown",
   "metadata": {},
   "source": [
    "We can evaluate the expecting value of $X$ or $P$ over $|\\psi\\rangle$ creating the corresponding __quantum tape__ with the function ```tapes_expval_XP```. This function has two outputs: the tapes and a function that takes the probabilities over these tapes to obtain the expected value."
   ]
  },
  {
   "cell_type": "code",
   "execution_count": 26,
   "metadata": {},
   "outputs": [
    {
     "name": "stdout",
     "output_type": "stream",
     "text": [
      "0: ──RY─╭●─────╭●────────╭●────────────╭●──RZ─╭●─────╭●────────╭●────────────╭●─┤ ╭Probs\n",
      "1: ──RY─╰X──RY─╰X─╭●─────│──────╭●─────│───RZ─╰X──RZ─╰X─╭●─────│──────╭●─────│──┤ ├Probs\n",
      "2: ──RY───────────╰X──RY─╰X──RY─╰X──RY─╰X──RZ───────────╰X──RZ─╰X──RZ─╰X──RZ─╰X─┤ ╰Probs\n"
     ]
    }
   ],
   "source": [
    "tape_X, fun_X = tapes_expval_XP(params, psi, X)\n",
    "print(tape_X[0].draw())"
   ]
  },
  {
   "cell_type": "markdown",
   "metadata": {},
   "source": [
    "The expected value is executing the tapes and employing the postprocessing function."
   ]
  },
  {
   "cell_type": "code",
   "execution_count": 27,
   "metadata": {},
   "outputs": [
    {
     "data": {
      "text/plain": [
       "-0.8072673075874343"
      ]
     },
     "execution_count": 27,
     "metadata": {},
     "output_type": "execute_result"
    }
   ],
   "source": [
    "probs_X = qml.execute( tape_X, dev )\n",
    "fun_X( probs_X )"
   ]
  },
  {
   "cell_type": "markdown",
   "metadata": {},
   "source": [
    "We can also directly obtain the expected value using the function ```expval_XP```."
   ]
  },
  {
   "cell_type": "code",
   "execution_count": 28,
   "metadata": {},
   "outputs": [
    {
     "data": {
      "text/plain": [
       "-0.8072673075874343"
      ]
     },
     "execution_count": 28,
     "metadata": {},
     "output_type": "execute_result"
    }
   ],
   "source": [
    "expval_XP(params, psi, X, dev)"
   ]
  },
  {
   "cell_type": "markdown",
   "metadata": {},
   "source": [
    "For the evaluation of $P$, the tape includes the Fourier Transfom to change the basis from the eigenbasis of $X$ to the eigenbasis of $P$."
   ]
  },
  {
   "cell_type": "code",
   "execution_count": 29,
   "metadata": {},
   "outputs": [
    {
     "name": "stdout",
     "output_type": "stream",
     "text": [
      "0: ──RY─╭●─────╭●────────╭●────────────╭●──RZ─╭●─────╭●────────╭●────────────╭●──Rϕ──RX──Rϕ──Rϕ─╭●\n",
      "1: ──RY─╰X──RY─╰X─╭●─────│──────╭●─────│───RZ─╰X──RZ─╰X─╭●─────│──────╭●─────│──────────────────╰X\n",
      "2: ──RY───────────╰X──RY─╰X──RY─╰X──RY─╰X──RZ───────────╰X──RZ─╰X──RZ─╰X──RZ─╰X───────────────────\n",
      "\n",
      "──────╭●──Rϕ─╭●─────╭●───────────────────────────────────────────┤ ╭Probs\n",
      "───Rϕ─╰X──Rϕ─│──────│───Rϕ──RX──Rϕ──Rϕ─╭●─────╭●─────────────────┤ ├Probs\n",
      "─────────────╰X──Rϕ─╰X──Rϕ─────────────╰X──Rϕ─╰X──Rϕ──Rϕ──RX──Rϕ─┤ ╰Probs\n"
     ]
    }
   ],
   "source": [
    "tape_P, fun_P = tapes_expval_XP(params, psi, P)\n",
    "print(tape_P[0].draw())"
   ]
  },
  {
   "cell_type": "code",
   "execution_count": 30,
   "metadata": {},
   "outputs": [
    {
     "data": {
      "text/plain": [
       "-0.33213096824813393"
      ]
     },
     "execution_count": 30,
     "metadata": {},
     "output_type": "execute_result"
    }
   ],
   "source": [
    "probs_P = qml.execute( tape_P, dev )\n",
    "fun_P( probs_P )"
   ]
  },
  {
   "cell_type": "markdown",
   "metadata": {},
   "source": [
    "Setting the input ```semiclassical=True``` of ```X_and_P_ops```, the evaluation of $P$ is performed with a semiclassical implementation of the Fourier transform. This replaces the controlled operations with mid-circuit measurements and classical controls, thus reducing the depth of the quantum circuit."
   ]
  },
  {
   "cell_type": "code",
   "execution_count": 31,
   "metadata": {},
   "outputs": [
    {
     "name": "stdout",
     "output_type": "stream",
     "text": [
      "0: ──RY─╭●─────╭●────────╭●────────────╭●──RZ─╭●─────╭●────────╭●────────────╭●──Rϕ──RX──Rϕ──┤↗├────\n",
      "1: ──RY─╰X──RY─╰X─╭●─────│──────╭●─────│───RZ─╰X──RZ─╰X─╭●─────│──────╭●─────│────────────────║───Rϕ\n",
      "2: ──RY───────────╰X──RY─╰X──RY─╰X──RY─╰X──RZ───────────╰X──RZ─╰X──RZ─╰X──RZ─╰X───────────────║───║─\n",
      "                                                                                              ╚═══╩═\n",
      "                                                                                                    \n",
      "\n",
      "───────────────────────────────────┤ ╭Probs\n",
      "───Rϕ──RX──Rϕ──┤↗├─────────────────┤ ├Probs\n",
      "───Rϕ───────────║───Rϕ──Rϕ──RX──Rϕ─┤ ╰Probs\n",
      "═══╝            ║   ║                      \n",
      "                ╚═══╝                      \n"
     ]
    }
   ],
   "source": [
    "X_sc, P_sc = X_and_P_ops(range(num_wires), -5, 5, semiclassical=True)\n",
    "tape_P_sc, fun_P_sc = tapes_expval_XP(params, psi, P_sc)\n",
    "print(tape_P_sc[0].draw())"
   ]
  },
  {
   "cell_type": "markdown",
   "metadata": {},
   "source": [
    "We show a better plot of the Fourier Transform from our implementation of the operation `QFT`, in the standard manner (```semi_classical=False```)"
   ]
  },
  {
   "cell_type": "code",
   "execution_count": 32,
   "metadata": {},
   "outputs": [
    {
     "data": {
      "text/plain": [
       "(<Figure size 900x400 with 1 Axes>, <Axes: >)"
      ]
     },
     "execution_count": 32,
     "metadata": {},
     "output_type": "execute_result"
    },
    {
     "data": {
      "image/png": "[encoded data removed]",
      "text/plain": [
       "<Figure size 900x400 with 1 Axes>"
      ]
     },
     "metadata": {},
     "output_type": "display_data"
    }
   ],
   "source": [
    "qft = QFT(range(num_wires), semi_classical=False)\n",
    "\n",
    "\n",
    "def fun():\n",
    "    qft.decomposition()\n",
    "\n",
    "\n",
    "qml.draw_mpl(fun, style=\"pennylane\")()"
   ]
  },
  {
   "cell_type": "markdown",
   "metadata": {},
   "source": [
    "and using the semiclassical variation"
   ]
  },
  {
   "cell_type": "code",
   "execution_count": 33,
   "metadata": {},
   "outputs": [
    {
     "data": {
      "text/plain": [
       "(<Figure size 1000x500 with 1 Axes>, <Axes: >)"
      ]
     },
     "execution_count": 33,
     "metadata": {},
     "output_type": "execute_result"
    },
    {
     "data": {
      "image/png": "[encoded data removed]",
      "text/plain": [
       "<Figure size 1000x500 with 1 Axes>"
      ]
     },
     "metadata": {},
     "output_type": "display_data"
    }
   ],
   "source": [
    "qft = QFT(range(num_wires), semi_classical=True)\n",
    "\n",
    "\n",
    "def fun():\n",
    "    qft.decomposition()\n",
    "\n",
    "\n",
    "qml.draw_mpl(fun, style=\"pennylane\")()"
   ]
  },
  {
   "cell_type": "markdown",
   "metadata": {},
   "source": [
    "These circuits give the same expected value as the standard implementation. The ```lightning device``` does not support natively mid-circuit measurements, which are used in the semi-classical QFT. In order to simulate semi-classical QFT with ```lighting device```, we have to transform the mid-circuit measurements of the tapes into C-NOTs and auxiliary qubits with the function ```qml.defer_measurements```. "
   ]
  },
  {
   "cell_type": "code",
   "execution_count": 34,
   "metadata": {},
   "outputs": [
    {
     "data": {
      "text/plain": [
       "-0.33213096824813393"
      ]
     },
     "execution_count": 34,
     "metadata": {},
     "output_type": "execute_result"
    }
   ],
   "source": [
    "tape_P_sc_defer = [ qml.defer_measurements(tape)[0][0] for tape in tape_P_sc ]\n",
    "probs_P_sc = qml.execute( tape_P_sc_defer, dev )\n",
    "fun_P_sc( probs_P_sc )"
   ]
  },
  {
   "cell_type": "markdown",
   "metadata": {},
   "source": [
    "This is done automatically in the function ```expval_XP```."
   ]
  },
  {
   "cell_type": "code",
   "execution_count": 35,
   "metadata": {},
   "outputs": [
    {
     "data": {
      "text/plain": [
       "-0.33213096824813393"
      ]
     },
     "execution_count": 35,
     "metadata": {},
     "output_type": "execute_result"
    }
   ],
   "source": [
    "expval_XP(params, psi, P_sc, dev )"
   ]
  },
  {
   "cell_type": "markdown",
   "metadata": {},
   "source": [
    "We can also evaluate arbitrary quadrature operator $Q=aX+bP$ puting each term of the sum in a ```list```."
   ]
  },
  {
   "cell_type": "code",
   "execution_count": 36,
   "metadata": {},
   "outputs": [
    {
     "data": {
      "text/plain": [
       "[<Hamiltonian: terms=1, wires=[0, 1, 2]>,\n",
       " <Hamiltonian: terms=1, wires=[0, 1, 2]>]"
      ]
     },
     "execution_count": 36,
     "metadata": {},
     "output_type": "execute_result"
    }
   ],
   "source": [
    "a = 1\n",
    "b = 1\n",
    "\n",
    "Q = [X.s_prod(a), P.s_prod(b)]\n",
    "Q"
   ]
  },
  {
   "cell_type": "markdown",
   "metadata": {},
   "source": [
    "In this case the program perform a simulation for each term in the list."
   ]
  },
  {
   "cell_type": "code",
   "execution_count": 37,
   "metadata": {},
   "outputs": [
    {
     "data": {
      "text/plain": [
       "-1.139398275835568"
      ]
     },
     "execution_count": 37,
     "metadata": {},
     "output_type": "execute_result"
    }
   ],
   "source": [
    "expval_XP(params, psi, Q, dev)"
   ]
  },
  {
   "cell_type": "markdown",
   "metadata": {},
   "source": [
    "We can also evaluate the gradient of ```exp_val_XP```."
   ]
  },
  {
   "cell_type": "code",
   "execution_count": 38,
   "metadata": {},
   "outputs": [
    {
     "data": {
      "text/plain": [
       "tensor([ 1.48597445,  1.74389913,  1.12901019,  0.65356724, -0.25067299,\n",
       "        -0.42631781,  0.48396153, -0.3001442 ], requires_grad=True)"
      ]
     },
     "execution_count": 38,
     "metadata": {},
     "output_type": "execute_result"
    }
   ],
   "source": [
    "grad_XP( params, psi, Q, dev )"
   ]
  },
  {
   "cell_type": "code",
   "execution_count": null,
   "metadata": {},
   "outputs": [],
   "source": []
  },
  {
   "cell_type": "code",
   "execution_count": null,
   "metadata": {},
   "outputs": [],
   "source": []
  },
  {
   "cell_type": "code",
   "execution_count": null,
   "metadata": {},
   "outputs": [],
   "source": []
  }
 ],
 "metadata": {
  "kernelspec": {
   "display_name": "pennylane",
   "language": "python",
   "name": "python3"
  },
  "language_info": {
   "codemirror_mode": {
    "name": "ipython",
    "version": 3
   },
   "file_extension": ".py",
   "mimetype": "text/x-python",
   "name": "python",
   "nbconvert_exporter": "python",
   "pygments_lexer": "ipython3",
   "version": "3.12.1"
  }
 },
 "nbformat": 4,
 "nbformat_minor": 2
}
