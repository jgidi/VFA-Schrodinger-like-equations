{
 "cells": [
  {
   "cell_type": "code",
   "execution_count": 1,
   "metadata": {},
   "outputs": [],
   "source": [
    "import sys\n",
    "sys.path.append('../')\n",
    "\n",
    "import matplotlib.pyplot as plt \n",
    "import pennylane as qml\n",
    "import pennylane.numpy as np \n",
    "from main import *"
   ]
  },
  {
   "cell_type": "markdown",
   "metadata": {},
   "source": [
    "In this notebook we present the sytaxis to create and evaluate quantum states and operators in first quantization in a qubit-based quantum computer. In the first place let us define the number of qubits and the device to perform the simulations."
   ]
  },
  {
   "cell_type": "code",
   "execution_count": 2,
   "metadata": {},
   "outputs": [],
   "source": [
    "num_wires = 3\n",
    "dev = qml.device( \"default.qubit\", \n",
    "                    wires=2*num_wires, shots=100)"
   ]
  },
  {
   "cell_type": "markdown",
   "metadata": {},
   "source": [
    "Second, we create discrete versions of the position operator $X$ and the momentum operator $P$ between $x_{min}=-5$ and $x_{max}=5$ with the function ```X_and_P_ops``` "
   ]
  },
  {
   "cell_type": "code",
   "execution_count": 3,
   "metadata": {},
   "outputs": [
    {
     "data": {
      "text/plain": [
       "(<Hamiltonian: terms=1, wires=[0, 1, 2]>,\n",
       " <Hamiltonian: terms=1, wires=[0, 1, 2]>)"
      ]
     },
     "execution_count": 3,
     "metadata": {},
     "output_type": "execute_result"
    }
   ],
   "source": [
    "X, P = X_and_P_ops( range(num_wires), -5, 5 )   \n",
    "X, P "
   ]
  },
  {
   "cell_type": "markdown",
   "metadata": {},
   "source": [
    "We now will evaluate the expected value of those operators in a random quantum state $|\\psi\\rangle$."
   ]
  },
  {
   "cell_type": "code",
   "execution_count": 4,
   "metadata": {},
   "outputs": [
    {
     "data": {
      "text/plain": [
       "(<Figure size 400x400 with 1 Axes>, <Axes: >)"
      ]
     },
     "execution_count": 4,
     "metadata": {},
     "output_type": "execute_result"
    },
    {
     "data": {
      "image/png": "[encoded data removed]",
      "text/plain": [
       "<Figure size 400x400 with 1 Axes>"
      ]
     },
     "metadata": {},
     "output_type": "display_data"
    }
   ],
   "source": [
    "def psi( params ):\n",
    "    qml.MottonenStatePreparation( params, range(num_wires ) )\n",
    "\n",
    "np.random.seed(0)\n",
    "params = np.random.randn(2**num_wires) + 1j*np.random.randn(2**num_wires) \n",
    "params = params / np.linalg.norm( params )\n",
    "\n",
    "qml.draw_mpl(psi)(params) "
   ]
  },
  {
   "cell_type": "markdown",
   "metadata": {},
   "source": [
    "We can evaluate the expecting value of $X$ or $P$ over $|\\psi\\rangle$ creating the corresponding __quantum tape__ with the function ```tapes_XP```."
   ]
  },
  {
   "cell_type": "code",
   "execution_count": 5,
   "metadata": {},
   "outputs": [
    {
     "name": "stdout",
     "output_type": "stream",
     "text": [
      "0: ─╭MottonenStatePreparation(M0)─┤ ╭<None>\n",
      "1: ─├MottonenStatePreparation(M0)─┤ ├<None>\n",
      "2: ─╰MottonenStatePreparation(M0)─┤ ╰<None>\n",
      "M0 = \n",
      "[ 0.41768427-0.02443969j  0.0947474 +0.09721964j  0.23174112+0.03410598j\n",
      "  0.53058848+0.34433625j  0.44219187+0.18019504j -0.2313954 +0.02880966j\n",
      "  0.2249576 +0.10509591j -0.03583767+0.07900589j]\n"
     ]
    }
   ],
   "source": [
    "tape_X = tapes_XP( params, psi, X )\n",
    "print( tape_X[0].draw() )"
   ]
  },
  {
   "cell_type": "markdown",
   "metadata": {},
   "source": [
    "The expectel value is given by the function ```exp_val_XP```."
   ]
  },
  {
   "cell_type": "code",
   "execution_count": 6,
   "metadata": {},
   "outputs": [
    {
     "data": {
      "text/plain": [
       "-0.8072673075874343"
      ]
     },
     "execution_count": 6,
     "metadata": {},
     "output_type": "execute_result"
    }
   ],
   "source": [
    "exp_val_XP( circuit_tapes=tape_X, device=dev )"
   ]
  },
  {
   "cell_type": "markdown",
   "metadata": {},
   "source": [
    "We can also simple give directly to ```exp_val_XP``` the arguments of ```tapes_XP``` plus the device"
   ]
  },
  {
   "cell_type": "code",
   "execution_count": 7,
   "metadata": {},
   "outputs": [
    {
     "data": {
      "text/plain": [
       "-0.8072673075874343"
      ]
     },
     "execution_count": 7,
     "metadata": {},
     "output_type": "execute_result"
    }
   ],
   "source": [
    "exp_val_XP( params, psi, X, dev )"
   ]
  },
  {
   "cell_type": "markdown",
   "metadata": {},
   "source": [
    "For the evaluation of $P$ the tape include the Fourier Transfom inorder to change the basis from the eigenbasis of $X$ to the eigenbasis of $P$. "
   ]
  },
  {
   "cell_type": "code",
   "execution_count": 8,
   "metadata": {},
   "outputs": [
    {
     "name": "stdout",
     "output_type": "stream",
     "text": [
      "0: ─╭MottonenStatePreparation(M0)──H─╭●──╭●────────────┤ ╭<None>\n",
      "1: ─├MottonenStatePreparation(M0)────╰Rϕ─│────H─╭●─────┤ ├<None>\n",
      "2: ─╰MottonenStatePreparation(M0)────────╰Rϕ────╰Rϕ──H─┤ ╰<None>\n",
      "M0 = \n",
      "[ 0.41768427-0.02443969j  0.0947474 +0.09721964j  0.23174112+0.03410598j\n",
      "  0.53058848+0.34433625j  0.44219187+0.18019504j -0.2313954 +0.02880966j\n",
      "  0.2249576 +0.10509591j -0.03583767+0.07900589j]\n"
     ]
    }
   ],
   "source": [
    "tape_P = tapes_XP( params, psi, P )\n",
    "print( tape_P[0].draw() )"
   ]
  },
  {
   "cell_type": "code",
   "execution_count": 9,
   "metadata": {},
   "outputs": [
    {
     "data": {
      "text/plain": [
       "-0.3321309682481336"
      ]
     },
     "execution_count": 9,
     "metadata": {},
     "output_type": "execute_result"
    }
   ],
   "source": [
    "exp_val_XP( circuit_tapes=tape_P, device=dev )"
   ]
  },
  {
   "cell_type": "markdown",
   "metadata": {},
   "source": [
    "Setting the input ```semiclassical=True``` of ```X_and_P_ops```, the evaluation of $P$ is perform with a semiclassical implementation of the Fourier transform. This replaces the controlled operations with mid-circuit measurements and classical controls."
   ]
  },
  {
   "cell_type": "code",
   "execution_count": 10,
   "metadata": {},
   "outputs": [
    {
     "name": "stdout",
     "output_type": "stream",
     "text": [
      "0: ─╭MottonenStatePreparation(M0)──H──┤↗├─────────────────────┤ ╭<None>\n",
      "1: ─├MottonenStatePreparation(M0)──────║───Rϕ──H───┤↗├────────┤ ├<None>\n",
      "2: ─╰MottonenStatePreparation(M0)──────║───║───Rϕ───║───Rϕ──H─┤ ╰<None>\n",
      "                                       ╚═══╩═══╝    ║   ║              \n",
      "                                                    ╚═══╝              \n",
      "M0 = \n",
      "[ 0.41768427-0.02443969j  0.0947474 +0.09721964j  0.23174112+0.03410598j\n",
      "  0.53058848+0.34433625j  0.44219187+0.18019504j -0.2313954 +0.02880966j\n",
      "  0.2249576 +0.10509591j -0.03583767+0.07900589j]\n"
     ]
    }
   ],
   "source": [
    "X, P = X_and_P_ops( range(num_wires), -5, 5, semiclassical=True )   \n",
    "tape_P = tapes_XP( params, psi, P )\n",
    "print( tape_P[0].draw() )"
   ]
  },
  {
   "cell_type": "markdown",
   "metadata": {},
   "source": [
    "This circuits gives the same expectied value than the standard implementation."
   ]
  },
  {
   "cell_type": "code",
   "execution_count": 11,
   "metadata": {},
   "outputs": [
    {
     "data": {
      "text/plain": [
       "-0.3321309682481336"
      ]
     },
     "execution_count": 11,
     "metadata": {},
     "output_type": "execute_result"
    }
   ],
   "source": [
    "exp_val_XP( circuit_tapes=tape_P, device=dev )"
   ]
  },
  {
   "cell_type": "markdown",
   "metadata": {},
   "source": [
    "We can also evaluate arbitrary quadrature operator $Q=aX+bP$ puting each term of the sum in a ```list```."
   ]
  },
  {
   "cell_type": "code",
   "execution_count": 12,
   "metadata": {},
   "outputs": [
    {
     "data": {
      "text/plain": [
       "[1*(  (1) [Hermitian0,1,2]), 1*(  (1) [Hermitian0,1,2])]"
      ]
     },
     "execution_count": 12,
     "metadata": {},
     "output_type": "execute_result"
    }
   ],
   "source": [
    "a = 1\n",
    "b = 1\n",
    "\n",
    "Q = [ qml.s_prod( a, X ), qml.s_prod( a, P ) ]\n",
    "Q "
   ]
  },
  {
   "cell_type": "markdown",
   "metadata": {},
   "source": [
    "In this case the program perform a simulation for each term in the list."
   ]
  },
  {
   "cell_type": "code",
   "execution_count": 13,
   "metadata": {},
   "outputs": [
    {
     "data": {
      "text/plain": [
       "-1.1393982758355679"
      ]
     },
     "execution_count": 13,
     "metadata": {},
     "output_type": "execute_result"
    }
   ],
   "source": [
    "exp_val_XP( params, psi, Q, dev )"
   ]
  },
  {
   "cell_type": "markdown",
   "metadata": {},
   "source": [
    "The function ```exp_val_XP``` is differentiable."
   ]
  },
  {
   "cell_type": "code",
   "execution_count": 14,
   "metadata": {},
   "outputs": [
    {
     "data": {
      "text/plain": [
       "tensor([-3.8870299 -0.67169265j,  0.11715474+1.12149215j,\n",
       "        -1.19609183-0.59190087j,  0.71705667-0.56763711j,\n",
       "         1.57439009+0.22945574j, -1.0249129 -0.11467149j,\n",
       "         1.4696715 -1.30383079j,  0.32971311-0.85879714j], requires_grad=True)"
      ]
     },
     "execution_count": 14,
     "metadata": {},
     "output_type": "execute_result"
    }
   ],
   "source": [
    "qml.grad(exp_val_XP)( params, psi, Q, dev )"
   ]
  },
  {
   "cell_type": "code",
   "execution_count": null,
   "metadata": {},
   "outputs": [],
   "source": []
  },
  {
   "cell_type": "code",
   "execution_count": null,
   "metadata": {},
   "outputs": [],
   "source": []
  },
  {
   "cell_type": "code",
   "execution_count": null,
   "metadata": {},
   "outputs": [],
   "source": []
  },
  {
   "cell_type": "code",
   "execution_count": null,
   "metadata": {},
   "outputs": [],
   "source": []
  },
  {
   "cell_type": "code",
   "execution_count": null,
   "metadata": {},
   "outputs": [],
   "source": []
  }
 ],
 "metadata": {
  "kernelspec": {
   "display_name": "pennylane",
   "language": "python",
   "name": "python3"
  },
  "language_info": {
   "codemirror_mode": {
    "name": "ipython",
    "version": 3
   },
   "file_extension": ".py",
   "mimetype": "text/x-python",
   "name": "python",
   "nbconvert_exporter": "python",
   "pygments_lexer": "ipython3",
   "version": "3.12.1"
  }
 },
 "nbformat": 4,
 "nbformat_minor": 2
}
