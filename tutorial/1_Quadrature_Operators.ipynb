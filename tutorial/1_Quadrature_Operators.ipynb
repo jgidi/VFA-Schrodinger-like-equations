{
 "cells": [
  {
   "cell_type": "code",
   "execution_count": 1,
   "metadata": {},
   "outputs": [],
   "source": [
    "import sys\n",
    "\n",
    "sys.path.append(\"../\")\n",
    "\n",
    "import pennylane as qml\n",
    "import pennylane.numpy as np\n",
    "from main import *\n",
    "\n",
    "np.random.seed(0)  # For reproducibility"
   ]
  },
  {
   "cell_type": "markdown",
   "metadata": {},
   "source": [
    "In this notebook we present the syntaxis to create and evaluate quantum states and operators in first quantization in a qubit-based quantum computer.\n",
    "\n",
    "In the first place let us define the number of qubits and the device to perform the simulations."
   ]
  },
  {
   "cell_type": "code",
   "execution_count": 2,
   "metadata": {},
   "outputs": [],
   "source": [
    "num_wires = 3\n",
    "dev = qml.device(\"default.qubit\", wires=2 * num_wires, shots=100)"
   ]
  },
  {
   "cell_type": "markdown",
   "metadata": {},
   "source": [
    "Second, we create discrete versions of the position operator $X$ and the momentum operator $P$ between $x_{min}=-5$ and $x_{max}=5$ with the function ```X_and_P_ops``` "
   ]
  },
  {
   "cell_type": "code",
   "execution_count": 3,
   "metadata": {},
   "outputs": [
    {
     "data": {
      "text/plain": [
       "(<Hamiltonian: terms=1, wires=[0, 1, 2]>,\n",
       " <Hamiltonian: terms=1, wires=[0, 1, 2]>)"
      ]
     },
     "execution_count": 3,
     "metadata": {},
     "output_type": "execute_result"
    }
   ],
   "source": [
    "X, P = X_and_P_ops(range(num_wires), x_min=-5, x_max=5)\n",
    "X, P"
   ]
  },
  {
   "cell_type": "markdown",
   "metadata": {},
   "source": [
    "We now will evaluate the expected value of those operators in a random quantum state $|\\psi\\rangle$."
   ]
  },
  {
   "cell_type": "code",
   "execution_count": 4,
   "metadata": {},
   "outputs": [
    {
     "data": {
      "text/plain": [
       "(<Figure size 400x400 with 1 Axes>, <Axes: >)"
      ]
     },
     "execution_count": 4,
     "metadata": {},
     "output_type": "execute_result"
    },
    {
     "data": {
      "image/png": "[encoded data removed]",
      "text/plain": [
       "<Figure size 400x400 with 1 Axes>"
      ]
     },
     "metadata": {},
     "output_type": "display_data"
    }
   ],
   "source": [
    "def psi(params):\n",
    "    qml.MottonenStatePreparation(params, range(num_wires))\n",
    "\n",
    "\n",
    "params = np.random.randn(2**num_wires) + 1j * np.random.randn(2**num_wires)\n",
    "params = params / np.linalg.norm(params)\n",
    "\n",
    "qml.draw_mpl(psi)(params)"
   ]
  },
  {
   "cell_type": "markdown",
   "metadata": {},
   "source": [
    "We can evaluate the expecting value of $X$ or $P$ over $|\\psi\\rangle$ creating the corresponding __quantum tape__ with the function ```tapes_XP```."
   ]
  },
  {
   "cell_type": "code",
   "execution_count": 5,
   "metadata": {},
   "outputs": [
    {
     "name": "stdout",
     "output_type": "stream",
     "text": [
      "0: ─╭MottonenStatePreparation(M0)─┤ ╭<None>\n",
      "1: ─├MottonenStatePreparation(M0)─┤ ├<None>\n",
      "2: ─╰MottonenStatePreparation(M0)─┤ ╰<None>\n",
      "M0 = \n",
      "[ 0.28530325-0.04397715j  0.07694309-0.44763735j  0.0180054 -0.02227781j\n",
      "  0.01855989+0.34732534j -0.36141434+0.28594337j  0.38625109-0.09122111j\n",
      " -0.07404348+0.31015767j -0.03381837-0.34036708j]\n"
     ]
    }
   ],
   "source": [
    "tape_X = tapes_XP(params, psi, X)\n",
    "print(tape_X[0].draw())"
   ]
  },
  {
   "cell_type": "markdown",
   "metadata": {},
   "source": [
    "The expected value is given by the function ```exp_val_XP```."
   ]
  },
  {
   "cell_type": "code",
   "execution_count": 6,
   "metadata": {},
   "outputs": [
    {
     "data": {
      "text/plain": [
       "0.19572220008169636"
      ]
     },
     "execution_count": 6,
     "metadata": {},
     "output_type": "execute_result"
    }
   ],
   "source": [
    "exp_val_XP(circuit_tapes=tape_X, device=dev)"
   ]
  },
  {
   "cell_type": "markdown",
   "metadata": {},
   "source": [
    "We can also directly give the arguments of ```tapes_XP``` to ```exp_val_XP``` and the device"
   ]
  },
  {
   "cell_type": "code",
   "execution_count": 7,
   "metadata": {},
   "outputs": [
    {
     "data": {
      "text/plain": [
       "0.19572220008169636"
      ]
     },
     "execution_count": 7,
     "metadata": {},
     "output_type": "execute_result"
    }
   ],
   "source": [
    "exp_val_XP(params, psi, X, dev)"
   ]
  },
  {
   "cell_type": "markdown",
   "metadata": {},
   "source": [
    "For the evaluation of $P$, the tape includes the Fourier Transfom to change the basis from the eigenbasis of $X$ to the eigenbasis of $P$."
   ]
  },
  {
   "cell_type": "code",
   "execution_count": 8,
   "metadata": {},
   "outputs": [
    {
     "name": "stdout",
     "output_type": "stream",
     "text": [
      "0: ─╭MottonenStatePreparation(M0)──H─╭●──╭●────────────┤ ╭<None>\n",
      "1: ─├MottonenStatePreparation(M0)────╰Rϕ─│────H─╭●─────┤ ├<None>\n",
      "2: ─╰MottonenStatePreparation(M0)────────╰Rϕ────╰Rϕ──H─┤ ╰<None>\n",
      "M0 = \n",
      "[ 0.28530325-0.04397715j  0.07694309-0.44763735j  0.0180054 -0.02227781j\n",
      "  0.01855989+0.34732534j -0.36141434+0.28594337j  0.38625109-0.09122111j\n",
      " -0.07404348+0.31015767j -0.03381837-0.34036708j]\n"
     ]
    }
   ],
   "source": [
    "tape_P = tapes_XP(params, psi, P)\n",
    "print(tape_P[0].draw())"
   ]
  },
  {
   "cell_type": "code",
   "execution_count": 9,
   "metadata": {},
   "outputs": [
    {
     "data": {
      "text/plain": [
       "-0.8975440943344881"
      ]
     },
     "execution_count": 9,
     "metadata": {},
     "output_type": "execute_result"
    }
   ],
   "source": [
    "exp_val_XP(circuit_tapes=tape_P, device=dev)"
   ]
  },
  {
   "cell_type": "markdown",
   "metadata": {},
   "source": [
    "Setting the input ```semiclassical=True``` of ```X_and_P_ops```, the evaluation of $P$ is performed with a semiclassical implementation of the Fourier transform. This replaces the controlled operations with mid-circuit measurements and classical controls, thus reducing the depth of the quantum circuit."
   ]
  },
  {
   "cell_type": "code",
   "execution_count": 10,
   "metadata": {},
   "outputs": [
    {
     "name": "stdout",
     "output_type": "stream",
     "text": [
      "0: ─╭MottonenStatePreparation(M0)──H──┤↗├─────────────────────┤ ╭<None>\n",
      "1: ─├MottonenStatePreparation(M0)──────║───Rϕ──H───┤↗├────────┤ ├<None>\n",
      "2: ─╰MottonenStatePreparation(M0)──────║───║───Rϕ───║───Rϕ──H─┤ ╰<None>\n",
      "                                       ╚═══╩═══╝    ║   ║              \n",
      "                                                    ╚═══╝              \n",
      "M0 = \n",
      "[ 0.28530325-0.04397715j  0.07694309-0.44763735j  0.0180054 -0.02227781j\n",
      "  0.01855989+0.34732534j -0.36141434+0.28594337j  0.38625109-0.09122111j\n",
      " -0.07404348+0.31015767j -0.03381837-0.34036708j]\n"
     ]
    }
   ],
   "source": [
    "X, P = X_and_P_ops(range(num_wires), -5, 5, semiclassical=True)\n",
    "tape_P = tapes_XP(params, psi, P)\n",
    "print(tape_P[0].draw())"
   ]
  },
  {
   "cell_type": "markdown",
   "metadata": {},
   "source": [
    "We show a better plot of the Fourier Transform from our implementation of the operation `QFT`, in the standard manner (```semi_classical=False```)"
   ]
  },
  {
   "cell_type": "code",
   "execution_count": 11,
   "metadata": {},
   "outputs": [
    {
     "data": {
      "text/plain": [
       "(<Figure size 900x400 with 1 Axes>, <Axes: >)"
      ]
     },
     "execution_count": 11,
     "metadata": {},
     "output_type": "execute_result"
    },
    {
     "data": {
      "image/png": "[encoded data removed]",
      "text/plain": [
       "<Figure size 900x400 with 1 Axes>"
      ]
     },
     "metadata": {},
     "output_type": "display_data"
    }
   ],
   "source": [
    "qft = QFT(range(num_wires), semi_classical=False)\n",
    "\n",
    "\n",
    "def fun():\n",
    "    qft.decomposition()\n",
    "\n",
    "\n",
    "qml.draw_mpl(fun, style=\"pennylane\")()"
   ]
  },
  {
   "cell_type": "markdown",
   "metadata": {},
   "source": [
    "and using the semiclassical variation"
   ]
  },
  {
   "cell_type": "code",
   "execution_count": 12,
   "metadata": {},
   "outputs": [
    {
     "data": {
      "text/plain": [
       "(<Figure size 1000x500 with 1 Axes>, <Axes: >)"
      ]
     },
     "execution_count": 12,
     "metadata": {},
     "output_type": "execute_result"
    },
    {
     "data": {
      "image/png": "[encoded data removed]",
      "text/plain": [
       "<Figure size 1000x500 with 1 Axes>"
      ]
     },
     "metadata": {},
     "output_type": "display_data"
    }
   ],
   "source": [
    "qft = QFT(range(num_wires), semi_classical=True)\n",
    "\n",
    "\n",
    "def fun():\n",
    "    qft.decomposition()\n",
    "\n",
    "\n",
    "qml.draw_mpl(fun, style=\"pennylane\")()"
   ]
  },
  {
   "cell_type": "markdown",
   "metadata": {},
   "source": [
    "This circuits gives the same expectied value than the standard implementation."
   ]
  },
  {
   "cell_type": "code",
   "execution_count": 13,
   "metadata": {},
   "outputs": [
    {
     "data": {
      "text/plain": [
       "-0.8975440943344881"
      ]
     },
     "execution_count": 13,
     "metadata": {},
     "output_type": "execute_result"
    }
   ],
   "source": [
    "exp_val_XP(circuit_tapes=tape_P, device=dev)"
   ]
  },
  {
   "cell_type": "markdown",
   "metadata": {},
   "source": [
    "We can also evaluate arbitrary quadrature operator $Q=aX+bP$ puting each term of the sum in a ```list```."
   ]
  },
  {
   "cell_type": "code",
   "execution_count": 14,
   "metadata": {},
   "outputs": [
    {
     "data": {
      "text/plain": [
       "[<Hamiltonian: terms=1, wires=[0, 1, 2]>,\n",
       " <Hamiltonian: terms=1, wires=[0, 1, 2]>]"
      ]
     },
     "execution_count": 14,
     "metadata": {},
     "output_type": "execute_result"
    }
   ],
   "source": [
    "a = 1\n",
    "b = 1\n",
    "\n",
    "Q = [X.s_prod(a), P.s_prod(b)]\n",
    "Q"
   ]
  },
  {
   "cell_type": "markdown",
   "metadata": {},
   "source": [
    "In this case the program perform a simulation for each term in the list."
   ]
  },
  {
   "cell_type": "code",
   "execution_count": 15,
   "metadata": {},
   "outputs": [
    {
     "data": {
      "text/plain": [
       "-0.7018218942527917"
      ]
     },
     "execution_count": 15,
     "metadata": {},
     "output_type": "execute_result"
    }
   ],
   "source": [
    "exp_val_XP(params, psi, Q, dev)"
   ]
  },
  {
   "cell_type": "markdown",
   "metadata": {},
   "source": [
    "Note that function ```exp_val_XP``` is differentiable, resulting convenient for expectation value optimization."
   ]
  },
  {
   "cell_type": "code",
   "execution_count": 16,
   "metadata": {},
   "outputs": [
    {
     "data": {
      "text/plain": [
       "tensor([-2.27390628+0.19300975j, -0.40571943-2.7037936j ,\n",
       "        -0.66346885+0.14579812j, -0.61317335+0.18041343j,\n",
       "         0.03572821-0.7395413j ,  1.47332606-0.53582554j,\n",
       "         0.01644312-1.16722994j, -0.36029387+2.56428994j], requires_grad=True)"
      ]
     },
     "execution_count": 16,
     "metadata": {},
     "output_type": "execute_result"
    }
   ],
   "source": [
    "qml.grad(exp_val_XP)(params, psi, Q, dev)"
   ]
  }
 ],
 "metadata": {
  "kernelspec": {
   "display_name": "pennylane",
   "language": "python",
   "name": "python3"
  },
  "language_info": {
   "codemirror_mode": {
    "name": "ipython",
    "version": 3
   },
   "file_extension": ".py",
   "mimetype": "text/x-python",
   "name": "python",
   "nbconvert_exporter": "python",
   "pygments_lexer": "ipython3",
   "version": "3.11.7"
  }
 },
 "nbformat": 4,
 "nbformat_minor": 2
}
