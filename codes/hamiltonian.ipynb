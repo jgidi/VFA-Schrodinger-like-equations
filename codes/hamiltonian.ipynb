{
 "cells": [
  {
   "cell_type": "code",
   "execution_count": 7,
   "metadata": {},
   "outputs": [],
   "source": [
    "import pennylane.numpy as np \n",
    "import matplotlib.pyplot as plt \n",
    "import pennylane as qml \n",
    "from VarQFT import QFT, classical_swaps"
   ]
  },
  {
   "cell_type": "code",
   "execution_count": 8,
   "metadata": {},
   "outputs": [],
   "source": [
    "import warnings\n",
    "from typing import Sequence, Tuple\n",
    "from pennylane.wires import Wires\n",
    "from pennylane.measurements import SampleMeasurement, StateMeasurement\n",
    "\n",
    "class MyMP(SampleMeasurement, StateMeasurement):\n",
    "\n",
    "    def process_samples(\n",
    "        self,\n",
    "        samples: Sequence[complex],\n",
    "        wire_order: Wires,\n",
    "        shot_range: Tuple[int] = None,\n",
    "        bin_size: int = None,\n",
    "    ):\n",
    "        # estimate the ev\n",
    "        # This also covers statistics for mid-circuit measurements manipulated using\n",
    "        # arithmetic operators\n",
    "        eigvals = qml.math.asarray(self.eigvals(), dtype=\"float64\")\n",
    "        with qml.queuing.QueuingManager.stop_recording():\n",
    "            prob = qml.probs(wires=self.wires).process_samples(\n",
    "                samples=samples, wire_order=wire_order, shot_range=shot_range, bin_size=bin_size\n",
    "            )\n",
    "\n",
    "        prob = classical_swaps( prob, len(self.wires) )\n",
    "        return qml.math.dot(prob, eigvals)\n",
    "\n",
    "\n",
    "    def process_state(self, state: Sequence[complex], wire_order: Wires):\n",
    "        # This also covers statistics for mid-circuit measurements manipulated using\n",
    "        # arithmetic operators\n",
    "        eigvals = qml.math.asarray(self.eigvals(), dtype=\"float64\")\n",
    "        # we use ``self.wires`` instead of ``self.obs`` because the observable was\n",
    "        # already applied to the state\n",
    "        with qml.queuing.QueuingManager.stop_recording():\n",
    "            prob = qml.probs(wires=self.wires).process_state(state=state, wire_order=wire_order)\n",
    "        # In case of broadcasting, `prob` has two axes and this is a matrix-vector product\n",
    "            \n",
    "        prob = classical_swaps( prob, len(self.wires) )\n",
    "        return qml.math.dot(prob, eigvals)"
   ]
  },
  {
   "cell_type": "code",
   "execution_count": 13,
   "metadata": {},
   "outputs": [],
   "source": [
    "def empty_state():\n",
    "    pass\n",
    "\n",
    "class VarFourier:\n",
    "\n",
    "    def __init__( self, \n",
    "                    num_qubits, \n",
    "                    fun_x, \n",
    "                    fun_p,\n",
    "                    dev,\n",
    "                    var_state = None, \n",
    "                    state_in  = None, \n",
    "                    semi_classical = False,\n",
    "                    xmin = -5, \n",
    "                    xmax = 5 ):\n",
    "\n",
    "        if var_state is None:\n",
    "            self.var_state = empty_state\n",
    "        else:\n",
    "            self.var_state = var_state\n",
    "\n",
    "        if state_in is None:\n",
    "            self.state_in = empty_state\n",
    "        else:\n",
    "            self.state_in = state_in\n",
    "\n",
    "        self.num_qubits = num_qubits\n",
    "        self.fun_x = fun_x\n",
    "        self.fun_p = fun_p\n",
    "        self.dev   = dev\n",
    "        self.semi_classical = semi_classical\n",
    "        self.xmin  = xmin\n",
    "        self.xmax  = xmax\n",
    "\n",
    "        x_values, p_values = self.grid_op()\n",
    "        self.x_values = x_values\n",
    "        self.p_values = p_values\n",
    "\n",
    "        self.fun_x_values = fun_x(x_values)\n",
    "        self.fun_p_values = fun_p(p_values)\n",
    "\n",
    "    def Fourier( self, dim ):\n",
    "        F = np.exp( 2j*np.pi*np.outer(np.arange(dim),\n",
    "                                        np.arange(dim))/dim \n",
    "                                        ) / np.sqrt(dim) \n",
    "        return F \n",
    "\n",
    "    def grid_op(self):\n",
    "\n",
    "        dim = 2 ** self.num_qubits \n",
    "        L   = self.xmax - self.xmin\n",
    "        dx  = L / (2**self.num_qubits - 1)\n",
    "        k  = np.linspace( -np.pi / dx, \n",
    "                            np.pi / dx, \n",
    "                            dim + 1)[:-1]\n",
    "        \n",
    "        x_values = self.xmin + dx * np.arange(dim)\n",
    "        p_values = np.fft.fftshift(k)\n",
    "\n",
    "        return x_values, p_values\n",
    "    \n",
    "    def matrix_op( self ):\n",
    "        F = self.Fourier()\n",
    "\n",
    "        Op = np.diag( self.fun_x_values ) \\\n",
    "            + F.T.conj()@np.diag( self.fun_p_values )@F\n",
    "        \n",
    "        return Op\n",
    "\n",
    "    def base_circuit(self, params):\n",
    "        self.state_in()\n",
    "        self.var_state(params)\n",
    "\n",
    "    def X_eval(self):\n",
    "        \n",
    "        @qml.qnode(self.dev)\n",
    "        def circuit_x(params):\n",
    "            self.base_circuit(params)\n",
    "            return MyMP( wires=list(range(self.num_qubits)), eigvals=self.fun_x_values  )\n",
    "        \n",
    "        return circuit_x\n",
    "    \n",
    "    def P_eval(self):\n",
    "\n",
    "        @qml.qnode(self.dev)\n",
    "        def circuit_p(params):\n",
    "            self.base_circuit(params)\n",
    "            QFT( self.num_qubits, self.semi_classical )\n",
    "            return MyMP( wires=list(range(self.num_qubits)), eigvals=self.fun_p_values )\n",
    "        \n",
    "        return circuit_p\n",
    "\n",
    "    def energy_grad(self, params):\n",
    "        dfx = qml.gradients.param_shift(self.X_eval())\n",
    "        dfp = qml.gradients.param_shift(self.P_eval())\n",
    "\n",
    "        dE = dfx(params) + dfp(params)\n",
    "\n",
    "        return dE\n",
    "\n",
    "    def energy_eval(self, params):\n",
    "        \n",
    "        circuit_x = self.X_eval()\n",
    "        circuit_p = self.P_eval()\n",
    "\n",
    "        ExpVal = circuit_x(params) + circuit_p(params)\n",
    "        \n",
    "        return ExpVal\n",
    "    \n",
    "    def state(self, params):\n",
    "\n",
    "        @qml.qnode(self.dev)\n",
    "        def get_state(params):\n",
    "            self.base_circuit(params)\n",
    "\n",
    "            return qml.state()\n",
    "        \n",
    "        return get_state(params)"
   ]
  },
  {
   "cell_type": "code",
   "execution_count": null,
   "metadata": {},
   "outputs": [],
   "source": []
  },
  {
   "cell_type": "code",
   "execution_count": 27,
   "metadata": {},
   "outputs": [
    {
     "data": {
      "text/plain": [
       "(<Figure size 400x500 with 1 Axes>, <Axes: >)"
      ]
     },
     "execution_count": 27,
     "metadata": {},
     "output_type": "execute_result"
    },
    {
     "data": {
      "image/png": "[encoded data removed]",
      "text/plain": [
       "<Figure size 400x500 with 1 Axes>"
      ]
     },
     "metadata": {},
     "output_type": "display_data"
    }
   ],
   "source": [
    "num_qubits = 4\n",
    "ansatz = \"ry ansatze\"\n",
    "if ansatz == \"ry ansatz\":\n",
    "    def var_state(params):\n",
    "        for layer, params_per_layer in enumerate(params):\n",
    "            for wire in range(num_qubits):\n",
    "                qml.Rot(*params_per_layer[wire], wires=wire)\n",
    "\n",
    "            if layer < len(params)-1:\n",
    "                for wire in range(num_qubits-1):\n",
    "                    qml.CNOT([wire,wire+1])\n",
    "\n",
    "    num_layers = 4\n",
    "    params_init = 0.01 * np.random.randn( num_layers, num_qubits, 3, requires_grad=True)\n",
    "\n",
    "\n",
    "else: # Use ZGR ansatz instead\n",
    "\n",
    "    def var_state(params):\n",
    "        # num_params = sum_{i=0}^{num_qubits} 2^{i} \n",
    "        #            = 2^{num_qubits+1} - 1\n",
    "        qml.AmplitudeEmbedding(params, normalize=True, wires=range(num_qubits))\n",
    "        '''\n",
    "        for layer, params_per_layer in enumerate(params):\n",
    "            qml.RY(params_per_layer[0], wires=0)\n",
    "            i = 1\n",
    "            for qubit in range(num_qubits):\n",
    "                for _ in range(2):\n",
    "                    for ctrl in range(qubit):\n",
    "                        qml.CNOT(wires=[ctrl, qubit])\n",
    "                        qml.RY(params_per_layer[qubit], wires=qubit)\n",
    "                        i += 1\n",
    "        '''          \n",
    "        #return circuit\n",
    "    '''\n",
    "    def var_state(params):\n",
    "    # num_params = sum_{i=0}^{num_qubits} 2^{i} \n",
    "    #            = 2^{num_qubits+1} - 1\n",
    "    for layer, params_per_layer in enumerate(params):\n",
    "        qml.Rot(*params_per_layer[0], wires=0)\n",
    "        i = 1\n",
    "        for qubit in range(num_qubits):\n",
    "            for _ in range(2):\n",
    "                for ctrl in range(qubit):\n",
    "                    qml.CNOT(wires=[ctrl, qubit])\n",
    "                    qml.Rot(*params_per_layer[qubit], wires=qubit)\n",
    "                    i += 1\n",
    "                        \n",
    "        #return circuit\n",
    "    '''\n",
    "    num_layers = 1\n",
    "    params_init = 0.01 * np.random.randn( 2**(num_qubits) , requires_grad=True)\n",
    "    #var_state = zgr_ansatz(num_qubits)\n",
    "\n",
    "qml.draw_mpl(var_state)(params_init)"
   ]
  },
  {
   "cell_type": "code",
   "execution_count": 45,
   "metadata": {},
   "outputs": [],
   "source": [
    "dev = qml.device( \"lightning.qubit\", \n",
    "                    wires=num_qubits, shots = 1000)\n",
    "\n",
    "#Xs, Ps = varfourier.grid_op()\n",
    "def state_in():\n",
    "    #qml.QubitStateVector(gaussian_GS(Xs)/np.linalg.norm(gaussian_GS(Xs)),wires=[0,1,2])\n",
    "    pass\n",
    "varfourier = VarFourier( num_qubits, \n",
    "                        lambda x : 0.5 * x**2, \n",
    "                        lambda p : 0.5 * p**2,\n",
    "                        dev,\n",
    "                        var_state,\n",
    "                        state_in=state_in, \n",
    "                        semi_classical=False,\n",
    "                        xmin = -5,\n",
    "                        xmax = +5  )"
   ]
  },
  {
   "cell_type": "code",
   "execution_count": 46,
   "metadata": {},
   "outputs": [
    {
     "ename": "NameError",
     "evalue": "name 'Xs' is not defined",
     "output_type": "error",
     "traceback": [
      "\u001b[0;31m---------------------------------------------------------------------------\u001b[0m",
      "\u001b[0;31mNameError\u001b[0m                                 Traceback (most recent call last)",
      "Cell \u001b[0;32mIn[46], line 1\u001b[0m\n\u001b[0;32m----> 1\u001b[0m \u001b[43mXs\u001b[49m\n",
      "\u001b[0;31mNameError\u001b[0m: name 'Xs' is not defined"
     ]
    }
   ],
   "source": [
    "Xs"
   ]
  },
  {
   "cell_type": "code",
   "execution_count": 47,
   "metadata": {},
   "outputs": [
    {
     "name": "stderr",
     "output_type": "stream",
     "text": [
      "/home/ctabares/.virtualenvs/qhack/lib/python3.11/site-packages/pennylane/_qubit_device.py:551: UserWarning: Requested measurement MyMP with finite shots; the returned state information is analytic and is unaffected by sampling. To silence this warning, set shots=None on the device.\n",
      "  warnings.warn(\n"
     ]
    },
    {
     "data": {
      "text/plain": [
       "12.361521395329577"
      ]
     },
     "execution_count": 47,
     "metadata": {},
     "output_type": "execute_result"
    }
   ],
   "source": [
    "varfourier.energy_eval( params_init )"
   ]
  },
  {
   "cell_type": "code",
   "execution_count": 38,
   "metadata": {},
   "outputs": [],
   "source": [
    "import optax\n",
    "import jax\n",
    "\n",
    "max_iterations = 1000\n",
    "conv_tol = 1e-04\n",
    "\n",
    "opt = optax.adam(learning_rate=1.0) # ADAM and SPSA are recommended on García-Molina et. al."
   ]
  },
  {
   "cell_type": "code",
   "execution_count": 39,
   "metadata": {},
   "outputs": [
    {
     "data": {
      "text/plain": [
       "array([-80.28365962, -53.70913673,  47.22355274,   6.9372762 ,\n",
       "         1.05186245,  44.27048089, -73.32422512, -17.35852426,\n",
       "        64.82434908,  -6.04254736,  14.16659059,   0.1748661 ,\n",
       "       -19.73255385,   7.47319999, -34.14781238,  24.40980369])"
      ]
     },
     "execution_count": 39,
     "metadata": {},
     "output_type": "execute_result"
    }
   ],
   "source": [
    "qml.gradients.param_shift(varfourier.X_eval())( params_init )"
   ]
  },
  {
   "cell_type": "code",
   "execution_count": 43,
   "metadata": {},
   "outputs": [],
   "source": [
    "cost_fn = lambda params : varfourier.X_eval()( np.copy(params) )  + varfourier.P_eval()( np.copy(params) )\n",
    "grad_fn = lambda params : qml.gradients.param_shift(varfourier.X_eval())( np.copy(params) ) \\\n",
    "                            + qml.gradients.param_shift(varfourier.P_eval())(np.copy(params))"
   ]
  },
  {
   "cell_type": "code",
   "execution_count": 48,
   "metadata": {},
   "outputs": [
    {
     "name": "stdout",
     "output_type": "stream",
     "text": [
      "Step = 0,  Energy = 7.78505745 Ha\n",
      "Step = 2,  Energy = 7.32327453 Ha\n",
      "Step = 4,  Energy = 6.94139349 Ha\n",
      "Step = 6,  Energy = 6.64264738 Ha\n",
      "Step = 8,  Energy = 6.39632464 Ha\n",
      "Step = 10,  Energy = 6.18597126 Ha\n",
      "Step = 12,  Energy = 6.00215475 Ha\n",
      "Step = 14,  Energy = 5.83900654 Ha\n",
      "Step = 16,  Energy = 5.69262562 Ha\n",
      "Step = 18,  Energy = 5.56027447 Ha\n",
      "Step = 20,  Energy = 5.43994173 Ha\n",
      "Step = 22,  Energy = 5.33008873 Ha\n",
      "Step = 24,  Energy = 5.22949457 Ha\n",
      "Step = 26,  Energy = 5.13715829 Ha\n",
      "Step = 28,  Energy = 5.05223507 Ha\n",
      "Step = 30,  Energy = 4.97399341 Ha\n",
      "Step = 32,  Energy = 4.90178657 Ha\n",
      "Step = 34,  Energy = 4.83503272 Ha\n",
      "Step = 36,  Energy = 4.77320208 Ha\n",
      "Step = 38,  Energy = 4.71580747 Ha\n",
      "Step = 40,  Energy = 4.66239847 Ha\n",
      "Step = 42,  Energy = 4.61255694 Ha\n",
      "Step = 44,  Energy = 4.56589440 Ha\n",
      "Step = 46,  Energy = 4.52205003 Ha\n",
      "Step = 48,  Energy = 4.48068892 Ha\n",
      "Step = 50,  Energy = 4.44150147 Ha\n",
      "Step = 52,  Energy = 4.40420191 Ha\n",
      "Step = 54,  Energy = 4.36852764 Ha\n",
      "Step = 56,  Energy = 4.33423808 Ha\n",
      "Step = 58,  Energy = 4.30111406 Ha\n",
      "Step = 60,  Energy = 4.26895642 Ha\n",
      "Step = 62,  Energy = 4.23758523 Ha\n",
      "Step = 64,  Energy = 4.20683868 Ha\n",
      "Step = 66,  Energy = 4.17657178 Ha\n",
      "Step = 68,  Energy = 4.14665538 Ha\n",
      "Step = 70,  Energy = 4.11697500 Ha\n",
      "Step = 72,  Energy = 4.08742971 Ha\n",
      "Step = 74,  Energy = 4.05793106 Ha\n",
      "Step = 76,  Energy = 4.02840185 Ha\n",
      "Step = 78,  Energy = 3.99877562 Ha\n",
      "Step = 80,  Energy = 3.96899511 Ha\n",
      "Step = 82,  Energy = 3.93901207 Ha\n",
      "Step = 84,  Energy = 3.90878578 Ha\n",
      "Step = 86,  Energy = 3.87828290 Ha\n",
      "Step = 88,  Energy = 3.84747655 Ha\n",
      "Step = 90,  Energy = 3.81634575 Ha\n",
      "Step = 92,  Energy = 3.78487511 Ha\n",
      "Step = 94,  Energy = 3.75305405 Ha\n",
      "Step = 96,  Energy = 3.72087698 Ha\n",
      "Step = 98,  Energy = 3.68834216 Ha\n",
      "Step = 100,  Energy = 3.65545228 Ha\n",
      "Step = 102,  Energy = 3.62221386 Ha\n",
      "Step = 104,  Energy = 3.58863672 Ha\n",
      "Step = 106,  Energy = 3.55473435 Ha\n",
      "Step = 108,  Energy = 3.52052373 Ha\n",
      "Step = 110,  Energy = 3.48602490 Ha\n",
      "Step = 112,  Energy = 3.45126117 Ha\n",
      "Step = 114,  Energy = 3.41625889 Ha\n",
      "Step = 116,  Energy = 3.38104726 Ha\n",
      "Step = 118,  Energy = 3.34565854 Ha\n",
      "Step = 120,  Energy = 3.31012781 Ha\n",
      "Step = 122,  Energy = 3.27449289 Ha\n",
      "Step = 124,  Energy = 3.23879395 Ha\n",
      "Step = 126,  Energy = 3.20307394 Ha\n",
      "Step = 128,  Energy = 3.16737787 Ha\n",
      "Step = 130,  Energy = 3.13175314 Ha\n",
      "Step = 132,  Energy = 3.09624874 Ha\n",
      "Step = 134,  Energy = 3.06091540 Ha\n",
      "Step = 136,  Energy = 3.02580533 Ha\n",
      "Step = 138,  Energy = 2.99097174 Ha\n",
      "Step = 140,  Energy = 2.95646847 Ha\n",
      "Step = 142,  Energy = 2.92234971 Ha\n",
      "Step = 144,  Energy = 2.88866980 Ha\n",
      "Step = 146,  Energy = 2.85548245 Ha\n",
      "Step = 148,  Energy = 2.82284055 Ha\n",
      "Step = 150,  Energy = 2.79079562 Ha\n",
      "Step = 152,  Energy = 2.75939752 Ha\n",
      "Step = 154,  Energy = 2.72869387 Ha\n",
      "Step = 156,  Energy = 2.69872968 Ha\n",
      "Step = 158,  Energy = 2.66954691 Ha\n",
      "Step = 160,  Energy = 2.64118429 Ha\n",
      "Step = 162,  Energy = 2.61367670 Ha\n",
      "Step = 164,  Energy = 2.58705511 Ha\n",
      "Step = 166,  Energy = 2.56134615 Ha\n",
      "Step = 168,  Energy = 2.53657221 Ha\n",
      "Step = 170,  Energy = 2.51275095 Ha\n",
      "Step = 172,  Energy = 2.48989543 Ha\n",
      "Step = 174,  Energy = 2.46801415 Ha\n",
      "Step = 176,  Energy = 2.44711096 Ha\n",
      "Step = 178,  Energy = 2.42718522 Ha\n",
      "Step = 180,  Energy = 2.40823200 Ha\n",
      "Step = 182,  Energy = 2.39024220 Ha\n",
      "Step = 184,  Energy = 2.37320293 Ha\n",
      "Step = 186,  Energy = 2.35709762 Ha\n",
      "Step = 188,  Energy = 2.34190652 Ha\n",
      "Step = 190,  Energy = 2.32760687 Ha\n",
      "Step = 192,  Energy = 2.31417334 Ha\n",
      "Step = 194,  Energy = 2.30157833 Ha\n",
      "Step = 196,  Energy = 2.28979246 Ha\n",
      "Step = 198,  Energy = 2.27878474 Ha\n",
      "Step = 200,  Energy = 2.26852300 Ha\n",
      "Step = 202,  Energy = 2.25897420 Ha\n",
      "Step = 204,  Energy = 2.25010481 Ha\n",
      "Step = 206,  Energy = 2.24188095 Ha\n",
      "Step = 208,  Energy = 2.23426877 Ha\n",
      "Step = 210,  Energy = 2.22723461 Ha\n",
      "Step = 212,  Energy = 2.22074527 Ha\n",
      "Step = 214,  Energy = 2.21476815 Ha\n",
      "Step = 216,  Energy = 2.20927142 Ha\n",
      "Step = 218,  Energy = 2.20422415 Ha\n",
      "Step = 220,  Energy = 2.19959645 Ha\n",
      "Step = 222,  Energy = 2.19535953 Ha\n",
      "Step = 224,  Energy = 2.19148576 Ha\n",
      "Step = 226,  Energy = 2.18794876 Ha\n",
      "Step = 228,  Energy = 2.18472339 Ha\n",
      "Step = 230,  Energy = 2.18178580 Ha\n",
      "Step = 232,  Energy = 2.17911344 Ha\n",
      "Step = 234,  Energy = 2.17668503 Ha\n",
      "Step = 236,  Energy = 2.17448057 Ha\n",
      "Step = 238,  Energy = 2.17248131 Ha\n",
      "Step = 240,  Energy = 2.17066970 Ha\n",
      "Step = 242,  Energy = 2.16902940 Ha\n",
      "Step = 244,  Energy = 2.16754518 Ha\n",
      "Step = 246,  Energy = 2.16620292 Ha\n",
      "Step = 248,  Energy = 2.16498955 Ha\n",
      "Step = 250,  Energy = 2.16389299 Ha\n",
      "Step = 252,  Energy = 2.16290211 Ha\n",
      "Step = 254,  Energy = 2.16200669 Ha\n",
      "Step = 256,  Energy = 2.16119733 Ha\n",
      "Step = 258,  Energy = 2.16046544 Ha\n",
      "Step = 260,  Energy = 2.15980317 Ha\n",
      "Step = 262,  Energy = 2.15920337 Ha\n",
      "Step = 264,  Energy = 2.15865951 Ha\n",
      "Step = 266,  Energy = 2.15816568 Ha\n",
      "Step = 268,  Energy = 2.15771652 Ha\n",
      "Step = 270,  Energy = 2.15730719 Ha\n",
      "Step = 272,  Energy = 2.15693329 Ha\n",
      "Step = 274,  Energy = 2.15659088 Ha\n",
      "Step = 276,  Energy = 2.15627641 Ha\n",
      "Step = 278,  Energy = 2.15598669 Ha\n",
      "Step = 280,  Energy = 2.15571884 Ha\n",
      "Step = 282,  Energy = 2.15547031 Ha\n",
      "Step = 284,  Energy = 2.15523881 Ha\n",
      "Step = 286,  Energy = 2.15502229 Ha\n",
      "Step = 288,  Energy = 2.15481893 Ha\n"
     ]
    }
   ],
   "source": [
    "param = params_init\n",
    "opt_state = opt.init(param)\n",
    "\n",
    "Params   = [param]\n",
    "Energies = [cost_fn(param)]\n",
    "\n",
    "for n in range(max_iterations):\n",
    "\n",
    "    gradient = grad_fn(param)\n",
    "    updates, opt_state = opt.update(gradient, opt_state)\n",
    "    param = optax.apply_updates(param, updates)\n",
    "\n",
    "    Params.append(param)\n",
    "    Energies.append(cost_fn(param))\n",
    "\n",
    "    conv = np.abs(Energies[-1] - Energies[-2])\n",
    "\n",
    "    if n % 2 == 0:\n",
    "        print(f\"Step = {n},  Energy = {Energies[-1]:.8f} Ha\")\n",
    "\n",
    "    if conv <= conv_tol:\n",
    "        break"
   ]
  },
  {
   "cell_type": "code",
   "execution_count": 49,
   "metadata": {},
   "outputs": [
    {
     "data": {
      "text/plain": [
       "[<matplotlib.lines.Line2D at 0x7f389c647b10>]"
      ]
     },
     "execution_count": 49,
     "metadata": {},
     "output_type": "execute_result"
    },
    {
     "data": {
      "image/png": "[encoded data removed]",
      "text/plain": [
       "<Figure size 640x480 with 1 Axes>"
      ]
     },
     "metadata": {},
     "output_type": "display_data"
    }
   ],
   "source": [
    "plt.plot( Energies )"
   ]
  },
  {
   "cell_type": "code",
   "execution_count": null,
   "metadata": {},
   "outputs": [],
   "source": [
    "Xs, Ps = varfourier.grid_op()\n",
    "\n",
    "def gaussian_GS(x):\n",
    "  return 1/np.pi**(0.25)*np.exp(-x*x / 2)"
   ]
  },
  {
   "cell_type": "code",
   "execution_count": null,
   "metadata": {},
   "outputs": [
    {
     "data": {
      "text/plain": [
       "0.8299921333924053"
      ]
     },
     "execution_count": 147,
     "metadata": {},
     "output_type": "execute_result"
    },
    {
     "data": {
      "image/png": "[encoded data removed]",
      "text/plain": [
       "<Figure size 640x480 with 1 Axes>"
      ]
     },
     "metadata": {},
     "output_type": "display_data"
    }
   ],
   "source": [
    "np.linalg.norm(gaussian_GS(Xs))"
   ]
  },
  {
   "cell_type": "code",
   "execution_count": null,
   "metadata": {},
   "outputs": [
    {
     "data": {
      "text/plain": [
       "QubitStateVector(tensor([3.37254328e-06, 1.53781233e-03, 9.11032516e-02, 7.01211689e-01,\n",
       "        7.01211689e-01, 9.11032516e-02, 1.53781233e-03, 3.37254328e-06], requires_grad=True), wires=[0, 1, 2])"
      ]
     },
     "execution_count": 148,
     "metadata": {},
     "output_type": "execute_result"
    }
   ],
   "source": [
    "qml.QubitStateVector(gaussian_GS(Xs)/np.linalg.norm(gaussian_GS(Xs)),wires=[0,1,2])"
   ]
  },
  {
   "cell_type": "code",
   "execution_count": null,
   "metadata": {},
   "outputs": [
    {
     "data": {
      "text/plain": [
       "tensor([ 0.        ,  0.54977871,  1.09955743,  1.64933614, -2.19911486,\n",
       "        -1.64933614, -1.09955743, -0.54977871], requires_grad=True)"
      ]
     },
     "execution_count": 149,
     "metadata": {},
     "output_type": "execute_result"
    }
   ],
   "source": [
    "Ps"
   ]
  },
  {
   "cell_type": "code",
   "execution_count": null,
   "metadata": {},
   "outputs": [
    {
     "data": {
      "text/plain": [
       "Array([[ 1.3898583e-01,  1.4334956e+00,  4.8518986e-02, -1.2214710e-03,\n",
       "         7.0080520e-03,  6.5410174e-03, -3.0874240e-03]], dtype=float32)"
      ]
     },
     "execution_count": 150,
     "metadata": {},
     "output_type": "execute_result"
    }
   ],
   "source": [
    "Params[-1]"
   ]
  },
  {
   "cell_type": "markdown",
   "metadata": {},
   "outputs": [],
   "source": [
    "@qml.qnode(dev)\n",
    "def output_statevec(params):\n",
    "    # num_params = sum_{i=0}^{num_qubits} 2^{i} \n",
    "    #            = 2^{num_qubits+1} - 1\n",
    "    qml.QubitStateVector(gaussian_GS(Xs)/np.linalg.norm(gaussian_GS(Xs)),wires=[0,1,2])\n",
    "    for layer, params_per_layer in enumerate(params):\n",
    "        qml.RY(params_per_layer[0], wires=0)\n",
    "        i = 1\n",
    "        for qubit in range(num_qubits):\n",
    "            for _ in range(2):\n",
    "                for ctrl in range(qubit):\n",
    "                    qml.CNOT(wires=[ctrl, qubit])\n",
    "                    qml.RY(params_per_layer[qubit], wires=qubit)\n",
    "                    i += 1\n",
    "                        \n",
    "        return qml.state()"
   ]
  },
  {
   "cell_type": "code",
   "execution_count": null,
   "metadata": {},
   "outputs": [
    {
     "data": {
      "text/plain": [
       "Array([-0.02893247+0.j, -0.6996865 +0.j, -0.03580392+0.j,  0.09099621+0.j,\n",
       "        0.69951946+0.j,  0.09099014+0.j,  0.00786004+0.j,  0.0486934 +0.j],      dtype=complex64)"
      ]
     },
     "execution_count": 153,
     "metadata": {},
     "output_type": "execute_result"
    }
   ],
   "source": [
    "output_statevec(Params[-1])"
   ]
  },
  {
   "cell_type": "code",
   "execution_count": null,
   "metadata": {},
   "outputs": [],
   "source": []
  }
 ],
 "metadata": {
  "kernelspec": {
   "display_name": "pennylame_environment",
   "language": "python",
   "name": "python3"
  },
  "language_info": {
   "codemirror_mode": {
    "name": "ipython",
    "version": 3
   },
   "file_extension": ".py",
   "mimetype": "text/x-python",
   "name": "python",
   "nbconvert_exporter": "python",
   "pygments_lexer": "ipython3",
   "version": "3.11.6"
  }
 },
 "nbformat": 4,
 "nbformat_minor": 2
}
