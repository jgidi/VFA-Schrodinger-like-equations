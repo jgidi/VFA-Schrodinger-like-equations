{
 "cells": [
  {
   "cell_type": "code",
   "execution_count": 1,
   "metadata": {},
   "outputs": [],
   "source": [
    "import sys\n",
    "sys.path.append('../')"
   ]
  },
  {
   "cell_type": "code",
   "execution_count": 2,
   "metadata": {},
   "outputs": [],
   "source": [
    "import pennylane as qml \n",
    "from pennylane import numpy as np \n",
    "import matplotlib.pyplot as plt \n",
    "from main import VarFourier\n",
    "from main import RY_ansatz, Rot_ansatz#, ZGR_ansatz, symmetric_ansatz#, interpolation\n",
    "from main import QFT"
   ]
  },
  {
   "cell_type": "code",
   "execution_count": 3,
   "metadata": {},
   "outputs": [],
   "source": [
    "class interpolation():\n",
    "    def __init__(self, base_ansatz, extra_qubits) -> None:\n",
    "        self.base_ansatz = base_ansatz\n",
    "        self.extra_qubits = extra_qubits\n",
    "        self.num_qubits_tot = self.base_ansatz.num_qubits + self.extra_qubits\n",
    "        self.num_params = self.base_ansatz.num_params\n",
    "\n",
    "    \n",
    "    def construct_circuit(self, params):\n",
    "        \n",
    "        # Make previous circuit\n",
    "        self.base_ansatz.construct_circuit(params)\n",
    "        \n",
    "        qml.Barrier()\n",
    "\n",
    "        # now we transform to momentum space\n",
    "        QFT( self.base_ansatz.num_qubits , n_init=self.extra_qubits )\n",
    "        #qml.QFT(range(self.base_ansatz.num_qubits))\n",
    "        qml.Barrier()\n",
    "        # we entangle everything\n",
    "        last_qubit_prev = self.base_ansatz.num_qubits - 1\n",
    "        \n",
    "        for wire in range(0,self.extra_qubits):\n",
    "            qml.CNOT([self.extra_qubits, wire])\n",
    "        \n",
    "        # and finnaly we undo the QFT\n",
    "        \n",
    "        qml.Barrier()\n",
    "        QFT(self.num_qubits_tot, inverse = True, n_init=0)\n",
    "        #qml.adjoint( qml.QFT( range(self.num_qubits_tot) ) )\n",
    "\n",
    "\n",
    "def QFT(n_wires, semi_classical=False, inverse=False, n_init=0):\n",
    "    if semi_classical:\n",
    "        mid_measures = []\n",
    "        for n in range( n_init, n_wires ):\n",
    "            qml.Hadamard( wires=n )\n",
    "            if n < n_wires-1:\n",
    "                mid_measure = qml.measure( wires=n ) \n",
    "                mid_measures.append( mid_measure )\n",
    "                for m in range(1,n_wires-n):\n",
    "                    qml.cond( mid_measure, \n",
    "                                qml.PhaseShift )( np.pi/2**m, \n",
    "                                            wires=n+m ) \n",
    "    else:\n",
    "        '''\n",
    "        for n in range( n_wires ):\n",
    "            qml.Hadamard(wires=num_qubits-n-1)\n",
    "            for m in range(1,n_wires-n):\n",
    "                qml.ControlledPhaseShift( np.pi/2**m, wires=[num_qubits-n-1-m,num_qubits-n-1]  )\n",
    "        '''\n",
    "        if inverse:\n",
    "            for n in reversed(range( n_init , n_wires )):\n",
    "                qml.Hadamard(wires=n)\n",
    "                for m in reversed(range(1,n_wires-n)):\n",
    "                    qml.ControlledPhaseShift( -np.pi/2**m, \n",
    "                                                wires=[n,n+m]  )\n",
    "        else:\n",
    "            for n in range( n_init , n_wires ):\n",
    "                qml.Hadamard(wires=n)\n",
    "                for m in range(1,n_wires-n):\n",
    "                    qml.ControlledPhaseShift( np.pi/2**m, \n",
    "                                                wires=[n,n+m]  )"
   ]
  },
  {
   "cell_type": "code",
   "execution_count": 41,
   "metadata": {},
   "outputs": [],
   "source": [
    "class ZGR_ansatz():\n",
    "    \"\"\" Class to construct the ZGR variational circuit.\"\"\"\n",
    "\n",
    "    def __init__(self, num_qubits, layers=1, bond_dim = np.inf, n_initial = 0):\n",
    "        \"\"\"Constructor.\n",
    "        \n",
    "        Args:\n",
    "            num_qubits (int): number of qubits of the circuit.\n",
    "        \"\"\"\n",
    "        super().__init__()\n",
    "        self.num_qubits = num_qubits\n",
    "        self.layers = layers\n",
    "        self.bond_dim = bond_dim\n",
    "        self.N_init = n_initial\n",
    "        self.num_cx = self.num_entangling_gates()\n",
    "        self.num_params = self.num_cx + self.layers\n",
    "        \n",
    "\n",
    "    def num_entangling_gates(self):\n",
    "        \"\"\"\n",
    "        Obtain the number of entangling gates.\n",
    "        \"\"\"\n",
    "        num_cx = 0\n",
    "        for _ in range(self.layers):\n",
    "            for target in range(self.N_init,self.num_qubits):\n",
    "                last = 2**target - 1\n",
    "                max_l = 2 ** min(target, (self.bond_dim-1))\n",
    "                for l in range(max_l):\n",
    "                    min_control = max(0, target + 1 - self.bond_dim)\n",
    "                    for control in range(min_control, target):\n",
    "                        if (last ^ l) & (1 << (target-control-1)):\n",
    "                            num_cx += 1\n",
    "                            break\n",
    "                    last = l\n",
    "                    \n",
    "        return self.layers * num_cx\n",
    "\n",
    "    def construct_circuit(self, parameters ):\n",
    "        \"\"\"\n",
    "        Construct the variational form, given its parameters.\n",
    "\n",
    "        Returns:\n",
    "            QuantumCircuit: a quantum circuit with given 'parameters'.\n",
    "\n",
    "        \"\"\"\n",
    "        wires = list(range(self.N_init,self.num_qubits))[::-1]\n",
    "        param_idx = 0\n",
    "        for _ in range(self.layers):\n",
    "            for target in range(self.N_init,self.num_qubits):\n",
    "                last = 2**target - 1\n",
    "                max_l = 2 ** min(target, (self.bond_dim-1))\n",
    "                for l in range(max_l):\n",
    "                    min_control = max(0, target + 1 - self.bond_dim)\n",
    "                    for control in range(min_control, target):\n",
    "                        if (last ^ l) & (1 << (target-control-1)):\n",
    "                            print(f'First parameter = {self.num_qubits-1-control}')\n",
    "                            print(f'Second parameter = {self.num_qubits-1-target}')\n",
    "\n",
    "                            qml.CNOT(wires=[wires[self.num_qubits-1-control], wires[self.num_qubits-1-target]])\n",
    "                            break\n",
    "                    last = l\n",
    "                    qml.RY(parameters[param_idx], wires=wires[self.num_qubits-1-target])\n",
    "                    param_idx += 1\n",
    "                    \n",
    "    def extend_params(self, old_ansatz : 'ZGR_ansatz', old_params):\n",
    "\n",
    "        old_bond_dim = old_ansatz.bond_dim\n",
    "        err_msg = \"Both circuits must have the same number of qubits\"\n",
    "        assert old_ansatz.num_qubits == self.num_qubits, err_msg\n",
    "\n",
    "        err_msg = \"Can not extend the parameters from a circuit with a larger bond dimension\"\n",
    "        assert self.bond_dim >= old_ansatz.bond_dim, err_msg\n",
    "\n",
    "\n",
    "        new_params = np.zeros(self.num_params)\n",
    "        new_params_idx = 0\n",
    "        old_params_idx = 0\n",
    "        \n",
    "        for _ in range(self.layers):\n",
    "            for target in range(self.N_init,self.num_qubits):\n",
    "                last = 2**target - 1\n",
    "                max_l = 2 ** min(target, (self.bond_dim-1))\n",
    "                for l in range(max_l):\n",
    "                    min_control = max(0, target + 1 - self.bond_dim)\n",
    "                    for control in range(min_control, target):\n",
    "                        if (last ^ l) & (1 << (target-control-1)):\n",
    "                            #qml.CNOT(wires=[wires[self.num_qubits-1-control], wires[self.num_qubits-1-target]])\n",
    "                            break\n",
    "                    last = l\n",
    "                    # Is l considered in the smaller circuit?\n",
    "                    if l > max_l - 2**(old_bond_dim-1) - 1:\n",
    "                        new_params[new_params_idx] = old_params[old_params_idx]\n",
    "                        old_params_idx += 1\n",
    "                        new_params_idx += 1\n",
    "                        #qml.RY(parameters[param_idx], wires=wires[self.num_qubits-1-target])\n",
    "                    else:\n",
    "                        new_params_idx += 1\n",
    "        return new_params"
   ]
  },
  {
   "cell_type": "code",
   "execution_count": 27,
   "metadata": {},
   "outputs": [],
   "source": [
    "num_qubits = 3"
   ]
  },
  {
   "cell_type": "code",
   "execution_count": 28,
   "metadata": {},
   "outputs": [],
   "source": [
    "def init_state():\n",
    "    #qml.AmplitudeEmbedding(features=vecs[:,0], wires=range(num_qubits))\n",
    "    pass "
   ]
  },
  {
   "cell_type": "code",
   "execution_count": 29,
   "metadata": {},
   "outputs": [],
   "source": [
    "num_layers = 1\n",
    "var_state_class = ZGR_ansatz(num_qubits, num_layers, n_initial=0)\n",
    "#var_state_class = symmetric_ansatz(var_state_class)\n",
    "\n",
    "#var_state_class = Rot_ansatz(num_qubits,num_layers)\n",
    "#var_state_class = RY_ansatz(num_qubits,num_layers)\n",
    "var_state = var_state_class.construct_circuit\n",
    "num_params = var_state_class.num_params\n"
   ]
  },
  {
   "cell_type": "code",
   "execution_count": 30,
   "metadata": {},
   "outputs": [
    {
     "data": {
      "text/plain": [
       "(<Figure size 1600x400 with 1 Axes>, <Axes: >)"
      ]
     },
     "execution_count": 30,
     "metadata": {},
     "output_type": "execute_result"
    },
    {
     "data": {
      "image/png": "[encoded data removed]",
      "text/plain": [
       "<Figure size 1600x400 with 1 Axes>"
      ]
     },
     "metadata": {},
     "output_type": "display_data"
    }
   ],
   "source": [
    "qml.draw_mpl( var_state )( num_params*[0] )"
   ]
  },
  {
   "cell_type": "code",
   "execution_count": 14,
   "metadata": {},
   "outputs": [],
   "source": [
    "device = qml.device( \"lightning.qubit\", \n",
    "                    wires=num_qubits)\n",
    "\n",
    "varqft = VarFourier( num_qubits,\n",
    "                    lambda x : -0.5/(0.0+np.abs(x)),\n",
    "                    lambda p : 0.5*p**2,\n",
    "                    device,\n",
    "                    xmin=-10,\n",
    "                    xmax=10,\n",
    "                    var_state  = var_state,\n",
    "                    init_state = init_state,\n",
    "                    semi_classical=False\n",
    "                    )"
   ]
  },
  {
   "cell_type": "code",
   "execution_count": 15,
   "metadata": {},
   "outputs": [
    {
     "data": {
      "text/plain": [
       "array([-0.29447935, -0.13488428, -0.05024293,  0.00694895,  0.04197499,\n",
       "        0.18295047,  0.24502973,  0.49178057])"
      ]
     },
     "execution_count": 15,
     "metadata": {},
     "output_type": "execute_result"
    }
   ],
   "source": [
    "vals, vecs = varqft.energy_eigens()\n",
    "val = vals[0]\n",
    "vec = vecs[:,0]\n",
    "val2 = vals[1]\n",
    "vec2 = vecs[:,1] \n",
    "val3 = vals[2]\n",
    "vec3 = vecs[:,2] \n",
    "val4 = vals[3]\n",
    "vec4 = vecs[:,3] \n",
    "val5 = vals[4]\n",
    "vec5 = vecs[:,4] \n",
    "vals"
   ]
  },
  {
   "cell_type": "code",
   "execution_count": 16,
   "metadata": {},
   "outputs": [],
   "source": [
    "beta = np.exp(-0.5*np.sqrt(np.abs(val)))/(2*np.sqrt(np.abs(val)))"
   ]
  },
  {
   "cell_type": "code",
   "execution_count": 17,
   "metadata": {},
   "outputs": [
    {
     "data": {
      "text/plain": [
       "0.7024340622313099"
      ]
     },
     "execution_count": 17,
     "metadata": {},
     "output_type": "execute_result"
    }
   ],
   "source": [
    "beta"
   ]
  },
  {
   "cell_type": "code",
   "execution_count": 18,
   "metadata": {},
   "outputs": [
    {
     "data": {
      "text/plain": [
       "0.0625"
      ]
     },
     "execution_count": 18,
     "metadata": {},
     "output_type": "execute_result"
    }
   ],
   "source": [
    "1/16"
   ]
  },
  {
   "cell_type": "code",
   "execution_count": 19,
   "metadata": {},
   "outputs": [
    {
     "data": {
      "text/plain": [
       "-0.023597399438534738"
      ]
     },
     "execution_count": 19,
     "metadata": {},
     "output_type": "execute_result"
    }
   ],
   "source": [
    "vals[3]/vals[0]"
   ]
  },
  {
   "cell_type": "code",
   "execution_count": 20,
   "metadata": {},
   "outputs": [
    {
     "name": "stdout",
     "output_type": "stream",
     "text": [
      "Step:    140, Energy:    -0.294395\r"
     ]
    }
   ],
   "source": [
    "params_init = np.random.randn( num_params )*0.001\n",
    "#params_pre = params_ground[-1]\n",
    "#params_ground, energies_ground = varqft.run( np.concatenate((params_pre,np.random.randn(num_qubits)*1e-3)), max_iterations=500, learning_rate=0.5, conv_tol=1e-6 )\n",
    "params_ground, energies_ground = varqft.run( params_init , max_iterations=300, learning_rate=0.2, conv_tol=1e-6 )"
   ]
  },
  {
   "cell_type": "code",
   "execution_count": 21,
   "metadata": {},
   "outputs": [],
   "source": [
    "#params_init"
   ]
  },
  {
   "cell_type": "code",
   "execution_count": 22,
   "metadata": {},
   "outputs": [
    {
     "data": {
      "text/plain": [
       "<matplotlib.legend.Legend at 0x7f36b4522c50>"
      ]
     },
     "execution_count": 22,
     "metadata": {},
     "output_type": "execute_result"
    },
    {
     "data": {
      "image/png": "[encoded data removed]",
      "text/plain": [
       "<Figure size 1000x300 with 2 Axes>"
      ]
     },
     "metadata": {},
     "output_type": "display_data"
    }
   ],
   "source": [
    "fig, ax = plt.subplots( 1, 2, figsize=(10,3) ) \n",
    "\n",
    "ax[0].plot( energies_ground )\n",
    "ax[0].hlines( val, 0, len(energies_ground), colors='tab:red', linestyles='--' ) \n",
    "\n",
    "ground_state = varqft.state( params_ground[-1] )\n",
    "\n",
    "ax[1].plot( np.abs(vecs[:,0])**2) \n",
    "ax[1].plot( np.abs(ground_state)**2, '--' ) \n",
    "ax[1].legend(['Optimal','VarFourier']) "
   ]
  },
  {
   "cell_type": "code",
   "execution_count": 23,
   "metadata": {},
   "outputs": [
    {
     "data": {
      "text/plain": [
       "0.999838068675178"
      ]
     },
     "execution_count": 23,
     "metadata": {},
     "output_type": "execute_result"
    }
   ],
   "source": [
    "abs(np.vdot( ground_state, vec ))**2"
   ]
  },
  {
   "cell_type": "code",
   "execution_count": 42,
   "metadata": {},
   "outputs": [],
   "source": [
    "num_layers = 1\n",
    "extra = 2\n",
    "var_state_class = ZGR_ansatz(num_qubits, num_layers, n_initial=extra)\n",
    "\n",
    "var_state_interpol = interpolation(var_state_class, extra_qubits=extra)\n",
    "\n",
    "#var_state_class = Rot_ansatz(num_qubits,num_layers)\n",
    "#var_state_class = RY_ansatz(num_qubits,num_layers)\n",
    "var_state = var_state_interpol.construct_circuit\n",
    "#num_params = var_state_class.num_params\n"
   ]
  },
  {
   "cell_type": "code",
   "execution_count": 43,
   "metadata": {},
   "outputs": [
    {
     "name": "stdout",
     "output_type": "stream",
     "text": [
      "First parameter = 2\n",
      "Second parameter = 0\n"
     ]
    },
    {
     "ename": "IndexError",
     "evalue": "list index out of range",
     "output_type": "error",
     "traceback": [
      "\u001b[0;31m---------------------------------------------------------------------------\u001b[0m",
      "\u001b[0;31mIndexError\u001b[0m                                Traceback (most recent call last)",
      "Cell \u001b[0;32mIn[43], line 1\u001b[0m\n\u001b[0;32m----> 1\u001b[0m fig, ax \u001b[38;5;241m=\u001b[39m \u001b[43mqml\u001b[49m\u001b[38;5;241;43m.\u001b[39;49m\u001b[43mdraw_mpl\u001b[49m\u001b[43m(\u001b[49m\u001b[43m \u001b[49m\u001b[43mvar_state\u001b[49m\u001b[43m \u001b[49m\u001b[43m,\u001b[49m\u001b[43m \u001b[49m\u001b[43mstyle\u001b[49m\u001b[38;5;241;43m=\u001b[39;49m\u001b[38;5;124;43m'\u001b[39;49m\u001b[38;5;124;43mpennylane\u001b[39;49m\u001b[38;5;124;43m'\u001b[39;49m\u001b[43m \u001b[49m\u001b[43m)\u001b[49m\u001b[43m(\u001b[49m\u001b[43m \u001b[49m\u001b[43mparams_ground\u001b[49m\u001b[43m[\u001b[49m\u001b[38;5;241;43m-\u001b[39;49m\u001b[38;5;241;43m1\u001b[39;49m\u001b[43m]\u001b[49m\u001b[43m \u001b[49m\u001b[43m)\u001b[49m\n\u001b[1;32m      2\u001b[0m fig\u001b[38;5;241m.\u001b[39mshow()\n",
      "File \u001b[0;32m~/.virtualenvs/qhack/lib/python3.11/site-packages/pennylane/drawer/draw.py:540\u001b[0m, in \u001b[0;36mdraw_mpl.<locals>.wrapper\u001b[0;34m(*args, **kwargs)\u001b[0m\n\u001b[1;32m    538\u001b[0m \u001b[38;5;129m@wraps\u001b[39m(qnode)\n\u001b[1;32m    539\u001b[0m \u001b[38;5;28;01mdef\u001b[39;00m \u001b[38;5;21mwrapper\u001b[39m(\u001b[38;5;241m*\u001b[39margs, \u001b[38;5;241m*\u001b[39m\u001b[38;5;241m*\u001b[39mkwargs):\n\u001b[0;32m--> 540\u001b[0m     tape \u001b[38;5;241m=\u001b[39m \u001b[43mqml\u001b[49m\u001b[38;5;241;43m.\u001b[39;49m\u001b[43mtape\u001b[49m\u001b[38;5;241;43m.\u001b[39;49m\u001b[43mmake_qscript\u001b[49m\u001b[43m(\u001b[49m\u001b[43mqnode\u001b[49m\u001b[43m)\u001b[49m\u001b[43m(\u001b[49m\u001b[38;5;241;43m*\u001b[39;49m\u001b[43margs\u001b[49m\u001b[43m,\u001b[49m\u001b[43m \u001b[49m\u001b[38;5;241;43m*\u001b[39;49m\u001b[38;5;241;43m*\u001b[39;49m\u001b[43mkwargs\u001b[49m\u001b[43m)\u001b[49m\n\u001b[1;32m    541\u001b[0m     _wire_order \u001b[38;5;241m=\u001b[39m wire_order \u001b[38;5;129;01mor\u001b[39;00m tape\u001b[38;5;241m.\u001b[39mwires\n\u001b[1;32m    543\u001b[0m     \u001b[38;5;28;01mreturn\u001b[39;00m tape_mpl(\n\u001b[1;32m    544\u001b[0m         tape,\n\u001b[1;32m    545\u001b[0m         wire_order\u001b[38;5;241m=\u001b[39m_wire_order,\n\u001b[0;32m   (...)\u001b[0m\n\u001b[1;32m    550\u001b[0m         \u001b[38;5;241m*\u001b[39m\u001b[38;5;241m*\u001b[39mkwargs,\n\u001b[1;32m    551\u001b[0m     )\n",
      "File \u001b[0;32m~/.virtualenvs/qhack/lib/python3.11/site-packages/pennylane/tape/qscript.py:1261\u001b[0m, in \u001b[0;36mmake_qscript.<locals>.wrapper\u001b[0;34m(*args, **kwargs)\u001b[0m\n\u001b[1;32m   1259\u001b[0m \u001b[38;5;28;01mdef\u001b[39;00m \u001b[38;5;21mwrapper\u001b[39m(\u001b[38;5;241m*\u001b[39margs, \u001b[38;5;241m*\u001b[39m\u001b[38;5;241m*\u001b[39mkwargs):\n\u001b[1;32m   1260\u001b[0m     \u001b[38;5;28;01mwith\u001b[39;00m AnnotatedQueue() \u001b[38;5;28;01mas\u001b[39;00m q:\n\u001b[0;32m-> 1261\u001b[0m         \u001b[43mfn\u001b[49m\u001b[43m(\u001b[49m\u001b[38;5;241;43m*\u001b[39;49m\u001b[43margs\u001b[49m\u001b[43m,\u001b[49m\u001b[43m \u001b[49m\u001b[38;5;241;43m*\u001b[39;49m\u001b[38;5;241;43m*\u001b[39;49m\u001b[43mkwargs\u001b[49m\u001b[43m)\u001b[49m\n\u001b[1;32m   1263\u001b[0m     \u001b[38;5;28;01mreturn\u001b[39;00m QuantumScript\u001b[38;5;241m.\u001b[39mfrom_queue(q, shots)\n",
      "Cell \u001b[0;32mIn[3], line 12\u001b[0m, in \u001b[0;36minterpolation.construct_circuit\u001b[0;34m(self, params)\u001b[0m\n\u001b[1;32m      9\u001b[0m \u001b[38;5;28;01mdef\u001b[39;00m \u001b[38;5;21mconstruct_circuit\u001b[39m(\u001b[38;5;28mself\u001b[39m, params):\n\u001b[1;32m     10\u001b[0m     \n\u001b[1;32m     11\u001b[0m     \u001b[38;5;66;03m# Make previous circuit\u001b[39;00m\n\u001b[0;32m---> 12\u001b[0m     \u001b[38;5;28;43mself\u001b[39;49m\u001b[38;5;241;43m.\u001b[39;49m\u001b[43mbase_ansatz\u001b[49m\u001b[38;5;241;43m.\u001b[39;49m\u001b[43mconstruct_circuit\u001b[49m\u001b[43m(\u001b[49m\u001b[43mparams\u001b[49m\u001b[43m)\u001b[49m\n\u001b[1;32m     14\u001b[0m     qml\u001b[38;5;241m.\u001b[39mBarrier()\n\u001b[1;32m     16\u001b[0m     \u001b[38;5;66;03m# now we transform to momentum space\u001b[39;00m\n",
      "Cell \u001b[0;32mIn[41], line 59\u001b[0m, in \u001b[0;36mZGR_ansatz.construct_circuit\u001b[0;34m(self, parameters)\u001b[0m\n\u001b[1;32m     56\u001b[0m         \u001b[38;5;28mprint\u001b[39m(\u001b[38;5;124mf\u001b[39m\u001b[38;5;124m'\u001b[39m\u001b[38;5;124mFirst parameter = \u001b[39m\u001b[38;5;132;01m{\u001b[39;00m\u001b[38;5;28mself\u001b[39m\u001b[38;5;241m.\u001b[39mnum_qubits\u001b[38;5;241m-\u001b[39m\u001b[38;5;241m1\u001b[39m\u001b[38;5;241m-\u001b[39mcontrol\u001b[38;5;132;01m}\u001b[39;00m\u001b[38;5;124m'\u001b[39m)\n\u001b[1;32m     57\u001b[0m         \u001b[38;5;28mprint\u001b[39m(\u001b[38;5;124mf\u001b[39m\u001b[38;5;124m'\u001b[39m\u001b[38;5;124mSecond parameter = \u001b[39m\u001b[38;5;132;01m{\u001b[39;00m\u001b[38;5;28mself\u001b[39m\u001b[38;5;241m.\u001b[39mnum_qubits\u001b[38;5;241m-\u001b[39m\u001b[38;5;241m1\u001b[39m\u001b[38;5;241m-\u001b[39mtarget\u001b[38;5;132;01m}\u001b[39;00m\u001b[38;5;124m'\u001b[39m)\n\u001b[0;32m---> 59\u001b[0m         qml\u001b[38;5;241m.\u001b[39mCNOT(wires\u001b[38;5;241m=\u001b[39m[\u001b[43mwires\u001b[49m\u001b[43m[\u001b[49m\u001b[38;5;28;43mself\u001b[39;49m\u001b[38;5;241;43m.\u001b[39;49m\u001b[43mnum_qubits\u001b[49m\u001b[38;5;241;43m-\u001b[39;49m\u001b[38;5;241;43m1\u001b[39;49m\u001b[38;5;241;43m-\u001b[39;49m\u001b[43mcontrol\u001b[49m\u001b[43m]\u001b[49m, wires[\u001b[38;5;28mself\u001b[39m\u001b[38;5;241m.\u001b[39mnum_qubits\u001b[38;5;241m-\u001b[39m\u001b[38;5;241m1\u001b[39m\u001b[38;5;241m-\u001b[39mtarget]])\n\u001b[1;32m     60\u001b[0m         \u001b[38;5;28;01mbreak\u001b[39;00m\n\u001b[1;32m     61\u001b[0m last \u001b[38;5;241m=\u001b[39m l\n",
      "\u001b[0;31mIndexError\u001b[0m: list index out of range"
     ]
    }
   ],
   "source": [
    "fig, ax = qml.draw_mpl( var_state , style='pennylane' )( params_ground[-1] )\n",
    "fig.show()"
   ]
  },
  {
   "cell_type": "code",
   "execution_count": 158,
   "metadata": {},
   "outputs": [],
   "source": [
    "device2 = qml.device( \"lightning.qubit\", \n",
    "                    wires=num_qubits + extra)\n",
    "\n",
    "varqft2 = VarFourier( num_qubits+extra,\n",
    "                    lambda x : -0.5/(0.0+np.abs(x)),\n",
    "                    lambda p : 0.5*p**2,\n",
    "                    device2,\n",
    "                    xmin=-10,\n",
    "                    xmax=10,\n",
    "                    var_state  = var_state,\n",
    "                    init_state = init_state,\n",
    "                    semi_classical=False\n",
    "                    )"
   ]
  },
  {
   "cell_type": "code",
   "execution_count": 159,
   "metadata": {},
   "outputs": [],
   "source": [
    "vals2, vecs2 = varqft2.energy_eigens()\n",
    "val2 = vals2[0]\n",
    "vec2 = vecs2[:,0]"
   ]
  },
  {
   "cell_type": "code",
   "execution_count": 160,
   "metadata": {},
   "outputs": [],
   "source": [
    "ground_state = varqft2.state( params_ground[-1] )\n"
   ]
  },
  {
   "cell_type": "code",
   "execution_count": 161,
   "metadata": {},
   "outputs": [
    {
     "data": {
      "text/plain": [
       "<matplotlib.legend.Legend at 0x7efe60247c50>"
      ]
     },
     "execution_count": 161,
     "metadata": {},
     "output_type": "execute_result"
    },
    {
     "data": {
      "image/png": "[encoded data removed]",
      "text/plain": [
       "<Figure size 500x300 with 1 Axes>"
      ]
     },
     "metadata": {},
     "output_type": "display_data"
    }
   ],
   "source": [
    "fig, ax = plt.subplots( 1, 1, figsize=(5,3) ) \n",
    "\n",
    "ground_state2 = varqft2.state( params_ground[-1] )\n",
    "\n",
    "ax.plot( np.abs(vecs2[:,0])**2) \n",
    "ax.plot( np.abs(ground_state2)**2, '--' ) \n",
    "ax.legend(['Optimal','VarFourier']) "
   ]
  },
  {
   "cell_type": "code",
   "execution_count": null,
   "metadata": {},
   "outputs": [],
   "source": []
  }
 ],
 "metadata": {
  "kernelspec": {
   "display_name": "pennylane",
   "language": "python",
   "name": "python3"
  },
  "language_info": {
   "codemirror_mode": {
    "name": "ipython",
    "version": 3
   },
   "file_extension": ".py",
   "mimetype": "text/x-python",
   "name": "python",
   "nbconvert_exporter": "python",
   "pygments_lexer": "ipython3",
   "version": "3.11.6"
  }
 },
 "nbformat": 4,
 "nbformat_minor": 2
}
