{
 "cells": [
  {
   "cell_type": "code",
   "execution_count": 37,
   "metadata": {},
   "outputs": [],
   "source": [
    "import sys\n",
    "sys.path.append('../')\n",
    "\n",
    "import matplotlib.pyplot as plt \n",
    "import pennylane as qml\n",
    "import pennylane.numpy as np \n",
    "from main.operators import *\n",
    "from main.VarQFT import *\n",
    "from main.circuits import *"
   ]
  },
  {
   "cell_type": "code",
   "execution_count": 38,
   "metadata": {},
   "outputs": [],
   "source": [
    "num_wires = 2\n",
    "dev = qml.device( \"default.qubit\", \n",
    "                    wires=2*num_wires, shots=100)"
   ]
  },
  {
   "cell_type": "code",
   "execution_count": 39,
   "metadata": {},
   "outputs": [],
   "source": [
    "var_state = RY_ansatz( num_wires, 2 )\n",
    "num_params = var_state.num_params\n",
    "params     = np.zeros(num_params)\n",
    "init_state = var_state.construct_circuit"
   ]
  },
  {
   "cell_type": "code",
   "execution_count": 40,
   "metadata": {},
   "outputs": [
    {
     "data": {
      "text/plain": [
       "[<Hamiltonian: terms=1, wires=[0, 1]>,\n",
       " <Hamiltonian: terms=1, wires=[2, 3]>,\n",
       " <Hamiltonian: terms=1, wires=[0, 1]>,\n",
       " <Hamiltonian: terms=1, wires=[2, 3]>,\n",
       "   (1) [Hermitian0,1] @   (1) [Hermitian2,3]]"
      ]
     },
     "execution_count": 40,
     "metadata": {},
     "output_type": "execute_result"
    }
   ],
   "source": [
    "X1, P1 = X_and_P_ops( range(num_wires), -5, 5, True )    \n",
    "X2, P2 = X_and_P_ops( range(num_wires,2*num_wires), -5, 5, True )    \n",
    "\n",
    "H12 = [ \n",
    "        X1.pow(2),\n",
    "        X2.pow(2),\n",
    "        P1.pow(2),\n",
    "        P2.pow(2),\n",
    "        qml.prod( X1, X2 )\n",
    "        ]\n",
    "H12 "
   ]
  },
  {
   "cell_type": "code",
   "execution_count": 41,
   "metadata": {},
   "outputs": [
    {
     "name": "stdout",
     "output_type": "stream",
     "text": [
      "[[25.          0.          0.          0.        ]\n",
      " [ 0.          2.77777778  0.          0.        ]\n",
      " [ 0.          0.          2.77777778  0.        ]\n",
      " [ 0.          0.          0.         25.        ]]\n"
     ]
    }
   ],
   "source": [
    "H_kron = 0\n",
    "for h in H12[:1]:\n",
    "    # try:\n",
    "        h_wires  = list(h.wires)\n",
    "        print( h.matrix() )\n",
    "        h_matrix = np.kron( h.matrix(), np.eye( 2**(2*num_wires-len(h_wires)) ) )\n",
    "        H_kron   = h_matrix.transpose(h_wires)\n",
    "    # except:\n",
    "    #     h_kron = 1\n",
    "    #     for h_idx in h.operands:\n",
    "    #         h_kron = np.kron( h_kron, h_idx.matrix() )"
   ]
  },
  {
   "cell_type": "code",
   "execution_count": 42,
   "metadata": {},
   "outputs": [
    {
     "data": {
      "text/plain": [
       "(16, 16)"
      ]
     },
     "execution_count": 42,
     "metadata": {},
     "output_type": "execute_result"
    }
   ],
   "source": [
    "h_matrix.shape "
   ]
  },
  {
   "cell_type": "code",
   "execution_count": 43,
   "metadata": {},
   "outputs": [
    {
     "data": {
      "text/plain": [
       "75.66619829707354"
      ]
     },
     "execution_count": 43,
     "metadata": {},
     "output_type": "execute_result"
    }
   ],
   "source": [
    "exp_val_XP( params, init_state, H12,  dev ) "
   ]
  },
  {
   "cell_type": "code",
   "execution_count": 44,
   "metadata": {},
   "outputs": [
    {
     "data": {
      "text/plain": [
       "array([-0.2220661 , -0.2220661 ,  0.11103305, -0.2220661 ])"
      ]
     },
     "execution_count": 44,
     "metadata": {},
     "output_type": "execute_result"
    }
   ],
   "source": [
    "qml.grad(exp_val_XP)( params, init_state, H12,  dev )"
   ]
  },
  {
   "cell_type": "code",
   "execution_count": 45,
   "metadata": {},
   "outputs": [],
   "source": [
    "ortho_params = np.random.randn(num_params)\n",
    "def ortho_state():\n",
    "    init_state( ortho_params )"
   ]
  },
  {
   "cell_type": "code",
   "execution_count": 46,
   "metadata": {},
   "outputs": [
    {
     "data": {
      "text/plain": [
       "(0.635654239808516,)"
      ]
     },
     "execution_count": 46,
     "metadata": {},
     "output_type": "execute_result"
    }
   ],
   "source": [
    "fidelity( params, init_state, [ ortho_state ],  dev ) "
   ]
  },
  {
   "cell_type": "code",
   "execution_count": 47,
   "metadata": {},
   "outputs": [],
   "source": [
    "varqft = VarFourier( H12, \n",
    "                    dev, \n",
    "                    init_state, \n",
    "                    ortho_values = [1000],\n",
    "                    ortho_params = [ortho_params],\n",
    "                    ortho_circuits = [init_state], )"
   ]
  },
  {
   "cell_type": "code",
   "execution_count": 48,
   "metadata": {},
   "outputs": [
    {
     "data": {
      "text/plain": [
       "75.66619829707354"
      ]
     },
     "execution_count": 48,
     "metadata": {},
     "output_type": "execute_result"
    }
   ],
   "source": [
    "varqft.hamiltonia_eval(params)"
   ]
  },
  {
   "cell_type": "code",
   "execution_count": 49,
   "metadata": {},
   "outputs": [
    {
     "data": {
      "text/plain": [
       "tensor(635.65423981, requires_grad=True)"
      ]
     },
     "execution_count": 49,
     "metadata": {},
     "output_type": "execute_result"
    }
   ],
   "source": [
    "varqft.ortho_eval(params)"
   ]
  },
  {
   "cell_type": "code",
   "execution_count": 50,
   "metadata": {},
   "outputs": [
    {
     "data": {
      "text/plain": [
       "tensor(1346.97467791, requires_grad=True)"
      ]
     },
     "execution_count": 50,
     "metadata": {},
     "output_type": "execute_result"
    }
   ],
   "source": [
    "varqft.energy_eval(params)"
   ]
  },
  {
   "cell_type": "code",
   "execution_count": 51,
   "metadata": {},
   "outputs": [
    {
     "data": {
      "text/plain": [
       "tensor([224.82770506, 275.19186906, 894.47755395, 224.82770506], requires_grad=True)"
      ]
     },
     "execution_count": 51,
     "metadata": {},
     "output_type": "execute_result"
    }
   ],
   "source": [
    "varqft.energy_grad( params )"
   ]
  },
  {
   "cell_type": "code",
   "execution_count": 52,
   "metadata": {},
   "outputs": [
    {
     "name": "stdout",
     "output_type": "stream",
     "text": [
      "Step:    100, Energy:    35.616462\n"
     ]
    }
   ],
   "source": [
    "Params, Energies = varqft.run( params, max_iterations=100 )"
   ]
  },
  {
   "cell_type": "code",
   "execution_count": 53,
   "metadata": {},
   "outputs": [
    {
     "data": {
      "text/plain": [
       "[<matplotlib.lines.Line2D at 0x2052b1b6210>]"
      ]
     },
     "execution_count": 53,
     "metadata": {},
     "output_type": "execute_result"
    },
    {
     "data": {
      "image/png": "[encoded data removed]",
      "text/plain": [
       "<Figure size 640x480 with 1 Axes>"
      ]
     },
     "metadata": {},
     "output_type": "display_data"
    }
   ],
   "source": [
    "plt.plot( Energies )"
   ]
  },
  {
   "cell_type": "code",
   "execution_count": 62,
   "metadata": {},
   "outputs": [],
   "source": [
    "def distance( X1, X2, tol=1e-6 ):\n",
    "    wires = X1.wires+X2.wires\n",
    "    eigvals1 = X1.eigvals()\n",
    "    eigvals2 = X2.eigvals()\n",
    "    eigvals = tol + np.kron(X1.eigvals(),np.ones_like(eigvals2)) \\\n",
    "                - np.kron(np.ones_like(eigvals1),X2.eigvals())\n",
    "    return X_op( eigvals, wires )"
   ]
  },
  {
   "cell_type": "code",
   "execution_count": 63,
   "metadata": {},
   "outputs": [
    {
     "data": {
      "text/plain": [
       "tensor([ 1.00000000e-06, -3.33333233e+00, -6.66666567e+00,\n",
       "        -9.99999900e+00,  3.33333433e+00,  1.00000000e-06,\n",
       "        -3.33333233e+00, -6.66666567e+00,  6.66666767e+00,\n",
       "         3.33333433e+00,  1.00000000e-06, -3.33333233e+00,\n",
       "         1.00000010e+01,  6.66666767e+00,  3.33333433e+00,\n",
       "         1.00000000e-06], requires_grad=True)"
      ]
     },
     "execution_count": 63,
     "metadata": {},
     "output_type": "execute_result"
    }
   ],
   "source": [
    "distance( X1, X2 ).eigvals()"
   ]
  },
  {
   "cell_type": "code",
   "execution_count": 64,
   "metadata": {},
   "outputs": [
    {
     "data": {
      "text/plain": [
       "tensor([ 1.00000000e+06, -3.00000090e-01, -1.50000023e-01,\n",
       "        -1.00000010e-01,  2.99999910e-01,  1.00000000e+06,\n",
       "        -3.00000090e-01, -1.50000023e-01,  1.49999978e-01,\n",
       "         2.99999910e-01,  1.00000000e+06, -3.00000090e-01,\n",
       "         9.99999900e-02,  1.49999978e-01,  2.99999910e-01,\n",
       "         1.00000000e+06], requires_grad=True)"
      ]
     },
     "execution_count": 64,
     "metadata": {},
     "output_type": "execute_result"
    }
   ],
   "source": [
    "distance( X1, X2 ).pow(-1).eigvals()"
   ]
  },
  {
   "cell_type": "code",
   "execution_count": null,
   "metadata": {},
   "outputs": [],
   "source": []
  },
  {
   "cell_type": "code",
   "execution_count": null,
   "metadata": {},
   "outputs": [],
   "source": []
  }
 ],
 "metadata": {
  "kernelspec": {
   "display_name": "pennylane",
   "language": "python",
   "name": "python3"
  },
  "language_info": {
   "codemirror_mode": {
    "name": "ipython",
    "version": 3
   },
   "file_extension": ".py",
   "mimetype": "text/x-python",
   "name": "python",
   "nbconvert_exporter": "python",
   "pygments_lexer": "ipython3",
   "version": "3.12.1"
  }
 },
 "nbformat": 4,
 "nbformat_minor": 2
}
