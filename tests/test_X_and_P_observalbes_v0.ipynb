{
 "cells": [
  {
   "cell_type": "code",
   "execution_count": 265,
   "metadata": {},
   "outputs": [],
   "source": [
    "import sys\n",
    "sys.path.append('../')\n",
    "from main import VarFourier, QFT "
   ]
  },
  {
   "cell_type": "code",
   "execution_count": 266,
   "metadata": {},
   "outputs": [],
   "source": [
    "import pennylane as qml\n",
    "import pennylane.numpy as np "
   ]
  },
  {
   "cell_type": "code",
   "execution_count": 267,
   "metadata": {},
   "outputs": [],
   "source": [
    "def Outer2Kron( A, Dims ):\n",
    "    # From vec(A) outer vec(B) to A kron B\n",
    "    N   = len(Dims)\n",
    "    Dim = A.shape\n",
    "    A   = np.transpose( A.reshape(2*Dims), np.array([range(N),range(N,2*N) ]).T.flatten() ).flatten()\n",
    "    return A.reshape(Dim)\n",
    "\n",
    "def LocalProduct( Psi, Operators , Dims=[] ):\n",
    "    \"\"\"\n",
    "    Calculate the product (A1xA2x...xAn)|psi>\n",
    "    \"\"\"\n",
    "    sz = Psi\n",
    "    if not Dims: \n",
    "        Dims = [ Operators[k].shape[-1] for k in range( len(Operators) ) ]\n",
    "    N = len(Dims)\n",
    "    for k in range(N):\n",
    "        Psi  = (( Operators[k]@Psi.reshape(Dims[k],-1) ).T ).flatten()\n",
    "    return Psi\n",
    "\n",
    "def InnerProductMatrices( X, B, Vectorized = False ):\n",
    "    \"\"\"\n",
    "    Calculate the inner product tr( X [B1xB2x...xBn])\n",
    "    \"\"\"\n",
    "    X = np.array(X)\n",
    "    \n",
    "    if isinstance(B, list): \n",
    "        B = B.copy()\n",
    "        nsys = len(B)\n",
    "        nops = []\n",
    "        Dims = []\n",
    "        if Vectorized == False :\n",
    "            for j in range(nsys):\n",
    "                B[j] = np.array(B[j])\n",
    "                if B[j].ndim == 2 :\n",
    "                    B[j] = np.array([B[j]])\n",
    "                nops.append( B[j].shape[0] )\n",
    "                Dims.append( B[j].shape[1] )\n",
    "                B[j] = B[j].reshape(nops[j],Dims[j]**2)\n",
    "        elif Vectorized == True :\n",
    "            for j in range(nsys):\n",
    "                nops.append( B[j].shape[0] )\n",
    "                Dims.append( int(np.sqrt(B[j].shape[1])) )                \n",
    "        \n",
    "        if X.ndim == 2 :       \n",
    "            TrXB = LocalProduct( Outer2Kron( X.flatten(), Dims ), B ) \n",
    "        elif X.ndim == 3 :\n",
    "            TrXB = []\n",
    "            for j in range( X.shape[0] ):\n",
    "                TrXB.append( LocalProduct( Outer2Kron( X[j].flatten(), Dims ), B ) )\n",
    "        elif X.ndim == 1:\n",
    "            TrXB = LocalProduct( Outer2Kron( X, Dims ), B ) \n",
    "        \n",
    "        return np.array( TrXB ).reshape(nops)\n",
    "        \n",
    "    elif isinstance(B, np.ndarray):     \n",
    "        \n",
    "        if B.ndim == 2 and Vectorized == False :\n",
    "            return np.trace( X @ B )\n",
    "        \n",
    "        elif B.ndim == 4 :\n",
    "            nsys = B.shape[0]\n",
    "            nops = nsys*[ B[0].shape[0] ]\n",
    "            Dims = nsys*[ B[0].shape[1] ]\n",
    "            B = B.reshape(nsys,nops[0],Dims[0]**2)\n",
    "            \n",
    "        elif B.ndim == 3 :\n",
    "            if Vectorized == False :\n",
    "                nsys = 1\n",
    "                nops = B.shape[0]       \n",
    "                Dims = [ B.shape[1] ]\n",
    "                B = B.reshape(nsys,nops,Dims[0]**2)\n",
    "            if Vectorized == True :\n",
    "                nsys = B.shape[0]\n",
    "                nops = nsys*[ B[0].shape[0] ]\n",
    "                Dims = nsys*[ int(np.sqrt(B[0].shape[1])) ]\n",
    "        if X.ndim == 2 :       \n",
    "            TrXB = LocalProduct( Outer2Kron( X.flatten(), Dims ), B ) \n",
    "        elif X.ndim == 3 :\n",
    "            TrXB = []\n",
    "            for j in range( X.shape[0] ):\n",
    "                TrXB.append( LocalProduct( Outer2Kron( X[j].flatten(), Dims ), B ) )\n",
    "        elif X.ndim == 1:\n",
    "            TrXB = LocalProduct( Outer2Kron( X, Dims ), B ) \n",
    "\n",
    "        return np.array( TrXB ).reshape(nops)"
   ]
  },
  {
   "cell_type": "code",
   "execution_count": 268,
   "metadata": {},
   "outputs": [],
   "source": [
    "from itertools import product"
   ]
  },
  {
   "cell_type": "code",
   "execution_count": 269,
   "metadata": {},
   "outputs": [],
   "source": [
    "class QFT(qml.operation.Operation):\n",
    "\n",
    "    # Define how many wires the operator acts on in total.\n",
    "    # In our case this may be one or two, which is why we\n",
    "    # use the AnyWires Enumeration to indicate a variable number.\n",
    "    num_wires = qml.operation.AnyWires\n",
    "\n",
    "    # This attribute tells PennyLane what differentiation method to use. Here\n",
    "    # we request parameter-shift (or \"analytic\") differentiation.\n",
    "    grad_method = \"A\"\n",
    "\n",
    "    def __init__(self, \n",
    "                    wires, \n",
    "                    semi_classical=False,\n",
    "                    mid_measures = [], \n",
    "                    id=None):\n",
    "\n",
    "        # checking the inputs --------------\n",
    "\n",
    "        if wires is None:\n",
    "            raise ValueError(\"Expected a wires; got None.\")\n",
    "\n",
    "        #------------------------------------\n",
    "\n",
    "        self._hyperparameters = {'semi_classical' : semi_classical,\n",
    "                                    'mid_measures' : mid_measures}\n",
    "        self.semi_classical   = semi_classical\n",
    "        self.mid_measures     = mid_measures\n",
    "        self.num_wires        = len(wires) \n",
    "\n",
    "        super().__init__(wires=wires, id=id)\n",
    "\n",
    "    @property\n",
    "    def num_params(self):\n",
    "        # if it is known before creation, define the number of parameters to expect here,\n",
    "        # which makes sure an error is raised if the wrong number was passed. The angle\n",
    "        # parameter is the only trainable parameter of the operation\n",
    "        return 0\n",
    "\n",
    "    @property\n",
    "    def ndim_params(self):\n",
    "        # if it is known before creation, define the number of dimensions each parameter\n",
    "        # is expected to have. This makes sure to raise an error if a wrongly-shaped\n",
    "        # parameter was passed. The angle parameter is expected to be a scalar\n",
    "        return (0,)\n",
    "\n",
    "    @staticmethod\n",
    "    def compute_decomposition( wires, semi_classical=False, mid_measures=[] ):  # pylint: disable=arguments-differ\n",
    "        # Overwriting this method defines the decomposition of the new gate, as it is\n",
    "        # called by Operator.decomposition().\n",
    "        # The general signature of this function is (*parameters, wires, **hyperparameters).\n",
    "        \n",
    "        n_wires = len(wires)\n",
    "\n",
    "        # def circuit():\n",
    "        with qml.tape.OperationRecorder() as ops:\n",
    "            if semi_classical:\n",
    "                for n, wire_n in enumerate(wires):\n",
    "                    qml.Hadamard( wires=wire_n )\n",
    "                    if n < n_wires-1:\n",
    "                        mid_measure = qml.measure( wires=wire_n ) \n",
    "                        mid_measures.append( mid_measure )\n",
    "                        for m, wire_m in enumerate(wires[n+1:]):\n",
    "                            qml.cond( mid_measure, \n",
    "                                        qml.PhaseShift )( np.pi/2**(m+1), \n",
    "                                                    wires=wire_m ) \n",
    "            else:\n",
    "                for n, wire_n in enumerate(wires):\n",
    "                    qml.Hadamard(wires=wire_n)\n",
    "                    for m, wire_m in enumerate(wires[n+1:]):\n",
    "                        qml.ControlledPhaseShift( np.pi/2**(m+1), \n",
    "                                                    wires=[wire_n,wire_m]  )\n",
    "        return ops.queue\n",
    "\n",
    "    def adjoint(self):\n",
    "        # the adjoint operator of this gate simply negates the angle\n",
    "        if self.semi_classical:\n",
    "            raise ValueError(\"Only adjoint for semmiclassical=False\")\n",
    "        else:\n",
    "            return qml.adjoint( QFT( self.wires ) )\n",
    "        \n",
    "    def matrix(self):\n",
    "        return np.fft.fft(np.eye( 2 ** self.num_wires), norm='ortho')"
   ]
  },
  {
   "cell_type": "code",
   "execution_count": 270,
   "metadata": {},
   "outputs": [],
   "source": [
    "def grid_op( num_wires, x_min, x_max ):\n",
    "    dim = 2 ** num_wires\n",
    "    L   = x_max - x_min\n",
    "    dx  = L / (2**num_wires - 1)\n",
    "    k  = np.linspace( -np.pi / dx, \n",
    "                        np.pi / dx, \n",
    "                        dim + 1)[:-1]\n",
    "    x_values = x_min + dx * np.arange(dim)\n",
    "    p_values = np.fft.fftshift(k)\n",
    "    return x_values, p_values\n",
    "\n",
    "def classical_swaps( probs, n_wires ):\n",
    "    return probs.reshape(n_wires*[2]\n",
    "                        ).transpose(np.arange(n_wires)[::-1]\n",
    "                                    ).reshape(2**n_wires)\n",
    "\n",
    "# def Fourier(num_wires):\n",
    "#     return np.fft.fft(np.eye( 2 ** num_wires ), norm='ortho')\n",
    "\n",
    "\n",
    "# def create_op( wires, \n",
    "#                 matrix, \n",
    "#                 eigvals = None, \n",
    "#                 diagonalizing_gates = [],\n",
    "#                 label = None ):\n",
    "\n",
    "#     # I = np.eye(2)\n",
    "#     # Z = np.array([1,0,0,-1]).reshape(2,2)\n",
    "\n",
    "#     # op_comp = InnerProductMatrices( np.diag(eigvals), num_wires*[ [I, Z] ] ).reshape(-1)\n",
    "#     # iter_labels = product(['I','Z'], repeat=num_wires)\n",
    "\n",
    "#     # coeffs = []\n",
    "#     # obs  = []\n",
    "\n",
    "#     # wire_map = {}\n",
    "#     # for integer, key in enumerate(wires):\n",
    "#     #     wire_map[key] = integer\n",
    "\n",
    "#     # for j, label_str in enumerate( iter_labels ):\n",
    "#     #     component_j = op_comp[j]\n",
    "#     #     if not np.isclose( component_j, 0 ):\n",
    "#     #         op_label = qml.pauli.string_to_pauli_word(''.join( label_str ), \n",
    "#     #                                                     wire_map)\n",
    "#     #         coeffs.append( component_j )\n",
    "#     #         obs.append( op_label )\n",
    "\n",
    "#     Obs = qml.Hermitian(matrix, wires=wires, id=label )\n",
    "#     Op = qml.Hamiltonian( (1,), (Obs,), id=label )\n",
    "#     Op.label( base_label=label )\n",
    "#     Op.diagonalizing_gates = lambda : diagonalizing_gates\n",
    "#     Op.eigvals             = lambda : eigvals\n",
    "#     Op.matrix              = lambda : matrix\n",
    "#     # Op.has_diagonalizing_gates = True\n",
    "\n",
    "#     Op.pow = lambda p : create_op( Op.wires, \n",
    "#                                     np.linalg.matrix_power( Op.matrix(), p ),\n",
    "#                                     Op.eigvals()**p,\n",
    "#                                     Op.diagonalizing_gates(),\n",
    "#                                     Op.label() )\n",
    "#     return Op\n",
    "\n",
    "# def X_and_P_ops( wires, x_min, x_max, semiclassical=False ):\n",
    "    \n",
    "#     num_wires = len(wires)\n",
    "#     x_values, p_values = grid_op( num_wires, x_min, x_max )\n",
    "    \n",
    "#     F = QFT( wires, semiclassical )\n",
    "#     F_matrix = F.matrix()\n",
    "#     F_decom  = F.decomposition()\n",
    "#     P_matrix = F_matrix.T.conj() @ np.diag(p_values) @ F_matrix\n",
    "    \n",
    "#     X = create_op( wires, \n",
    "#                     matrix = np.diag(x_values), \n",
    "#                     eigvals = x_values, \n",
    "#                     label='X' )\n",
    "#     P = create_op( wires, \n",
    "#                     matrix  = P_matrix,\n",
    "#                     eigvals = classical_swaps(p_values,num_wires), \n",
    "#                     # eigvals = p_values, \n",
    "#                     label   = 'P',\n",
    "#                     diagonalizing_gates = F_decom )\n",
    "\n",
    "#     return X, P"
   ]
  },
  {
   "cell_type": "code",
   "execution_count": 271,
   "metadata": {},
   "outputs": [],
   "source": [
    "from typing import Sequence, Tuple\n",
    "from pennylane.wires import Wires\n",
    "from pennylane.measurements import Expectation, SampleMeasurement, StateMeasurement\n",
    "\n",
    "class expval_XP(SampleMeasurement, StateMeasurement):\n",
    "\n",
    "    @property\n",
    "    def return_type(self):\n",
    "        return Expectation\n",
    "\n",
    "    @property\n",
    "    def numeric_type(self):\n",
    "        return float\n",
    "\n",
    "    def shape(self, device, shots):\n",
    "        if not shots.has_partitioned_shots:\n",
    "            return ()\n",
    "        num_shot_elements = sum(s.copies for s in shots.shot_vector)\n",
    "        return tuple(() for _ in range(num_shot_elements))\n",
    "\n",
    "    def process_samples(\n",
    "        self,\n",
    "        samples: Sequence[complex],\n",
    "        wire_order: Wires,\n",
    "        shot_range: Tuple[int] = None,\n",
    "        bin_size: int = None,\n",
    "    ):\n",
    "        \n",
    "        # estimate the ev\n",
    "        # This also covers statistics for mid-circuit measurements manipulated using\n",
    "        # arithmetic operators\n",
    "        eigvals = qml.math.asarray(self.obs.eigvals(), dtype=\"float64\")\n",
    "        with qml.queuing.QueuingManager.stop_recording():\n",
    "            prob = qml.probs(wires=self.wires\n",
    "                                ).process_samples(samples=samples, \n",
    "                                                    wire_order=wire_order, \n",
    "                                                    shot_range=shot_range, \n",
    "                                                    bin_size=bin_size\n",
    "                                                    )\n",
    "        return qml.math.dot(prob, eigvals)\n",
    "    \n",
    "    def process_state(self, \n",
    "                        state: Sequence[complex], \n",
    "                        wire_order: Wires):\n",
    "        # This also covers statistics for mid-circuit \n",
    "        # measurements manipulated using\n",
    "        # arithmetic operators\n",
    "        eigvals = qml.math.asarray(self.obs.eigvals(), \n",
    "                                    dtype=\"float64\")\n",
    "        # we use ``self.wires`` instead of ``self.obs`` \n",
    "        # because the observable was\n",
    "        # already applied to the state\n",
    "        with qml.queuing.QueuingManager.stop_recording():\n",
    "            prob = qml.probs(wires=self.wires\n",
    "                            ).process_state(state=state, \n",
    "                                            wire_order=wire_order)\n",
    "        # In case of broadcasting, `prob` has two axes \n",
    "        # and this is a matrix-vector product\n",
    "        return qml.math.dot(prob, eigvals)"
   ]
  },
  {
   "cell_type": "code",
   "execution_count": 272,
   "metadata": {},
   "outputs": [],
   "source": [
    "from pennylane.ops.qubit.hamiltonian import Hamiltonian\n",
    "\n",
    "class X_op(Hamiltonian):\n",
    "    r\"\"\"X( wires, eigvals )\n",
    "    The Position operator X\n",
    "    \"\"\"\n",
    "    \n",
    "    def __init__(self, eigvals, wires, id='X'):\n",
    "\n",
    "        matrix = np.diag( eigvals )\n",
    "        Obs = qml.Hermitian(matrix, wires=wires, id=id )\n",
    "        \n",
    "        super().__init__( (1,), (Obs,), id=id )\n",
    "\n",
    "        self._hyperparameters['eigvals'] = eigvals \n",
    "        self.power   = 1\n",
    "\n",
    "    def compute_eigvals( *parameters, **hyperparameters ):\n",
    "        return hyperparameters['eigvals']\n",
    "    \n",
    "    def compute_matrix( *parameters, **hyperparameters  ):\n",
    "        return hyperparameters['ops'][0].matrix()\n",
    "    \n",
    "    def compute_diagonalizing_gates( *parameters, wires, **hyperparameters ):\n",
    "        return []\n",
    "\n",
    "    def label(self, decimals=None, base_label=None, cache=None):\n",
    "        return base_label or \"X\"\n",
    "\n",
    "    def pow(self, z):\n",
    "        self.power = z\n",
    "        return X_op( self.eigvals()**z, self.wires, id=None )\n",
    "    \n",
    "\n",
    "class P_op(Hamiltonian):\n",
    "    r\"\"\"X( wires, eigvals )\n",
    "    The Momentum operator P\n",
    "    \"\"\"\n",
    "    \n",
    "    def __init__(self, eigvals, wires, semiclassical=False, mid_measures=[], id='P'):\n",
    "\n",
    "        F = QFT( wires, semiclassical, mid_measures )\n",
    "        F_matrix = F.matrix()\n",
    "        matrix =  F_matrix.T.conj() @ np.diag(eigvals) @ F_matrix\n",
    "        Obs = qml.Hermitian(matrix, wires=wires, id=id )\n",
    "\n",
    "        super().__init__( (1,), (Obs,), id=id )\n",
    "\n",
    "        self._hyperparameters['eigvals_without_swaps'] = eigvals\n",
    "        self._hyperparameters['eigvals']       = classical_swaps( eigvals, len(wires) )  \n",
    "        self._hyperparameters['semiclassical'] = semiclassical \n",
    "        self._hyperparameters['mid_measures']  = mid_measures \n",
    "        self._hyperparameters['decomposition'] = F.compute_decomposition\n",
    "        self.power = 1\n",
    "\n",
    "    def compute_eigvals( *parameters, **hyperparameters ):\n",
    "        return hyperparameters['eigvals']\n",
    "    \n",
    "    def compute_matrix( *parameters, **hyperparameters  ):\n",
    "        return hyperparameters['ops'][0].matrix()\n",
    "    \n",
    "    def compute_diagonalizing_gates( *parameters, wires, **hyperparameters ):\n",
    "        return hyperparameters['decomposition'](wires, \n",
    "                                                hyperparameters['semiclassical'], \n",
    "                                                hyperparameters['mid_measures']) \n",
    "\n",
    "    def label(self, decimals=None, base_label=None, cache=None):\n",
    "        return base_label or \"X\"\n",
    "\n",
    "    def pow(self, z):\n",
    "        self.power = z\n",
    "        eigvals       = self._hyperparameters['eigvals_without_swaps']       \n",
    "        semiclassical = self._hyperparameters['semiclassical'] \n",
    "        mid_measures  = self._hyperparameters['mid_measures'] \n",
    "        return P_op( eigvals**z, self.wires, semiclassical, mid_measures, id=self.id )\n",
    "    \n",
    "def X_and_P_ops( wires, x_min, x_max, semiclassical=False, mid_measures=[] ):\n",
    "    \n",
    "    num_wires = len(wires)\n",
    "    x_values, p_values = grid_op( num_wires, x_min, x_max )\n",
    "    \n",
    "    X = X_op( x_values, wires )\n",
    "    P = P_op( p_values, wires, semiclassical, mid_measures)\n",
    "\n",
    "    return X, P"
   ]
  },
  {
   "cell_type": "code",
   "execution_count": 293,
   "metadata": {},
   "outputs": [],
   "source": [
    "num_wires = 2\n",
    "dev = qml.device( \"default.qubit\", \n",
    "                    wires=2*num_wires)"
   ]
  },
  {
   "cell_type": "code",
   "execution_count": 294,
   "metadata": {},
   "outputs": [],
   "source": [
    "X, P = X_and_P_ops( range(num_wires), -5, 5, False )    \n",
    "X2, P2 = X_and_P_ops( range(num_wires,2*num_wires), -5, 5, False )    "
   ]
  },
  {
   "cell_type": "code",
   "execution_count": 295,
   "metadata": {},
   "outputs": [],
   "source": [
    "fun_X = qml.s_prod( 0.5, X.pow(2) ) + qml.s_prod( 0.5, X2.pow(2) ) \n",
    "fun_P = qml.s_prod( 0.5, P.pow(2) ) + qml.s_prod( 0.5, P2.pow(2) ) \n",
    "fun_XX = qml.prod( X, X2 )\n",
    "H = fun_X + fun_P + fun_XX "
   ]
  },
  {
   "cell_type": "code",
   "execution_count": 296,
   "metadata": {},
   "outputs": [],
   "source": [
    "def init_state():\n",
    "    # qml.MottonenStatePreparation(min_state, wires=range(num_wires) )\n",
    "    for k in range(num_wires):\n",
    "        qml.RX(np.pi/4,k)\n",
    "        qml.RZ(np.pi/3,k)\n",
    "    pass \n"
   ]
  },
  {
   "cell_type": "code",
   "execution_count": 297,
   "metadata": {},
   "outputs": [
    {
     "data": {
      "text/plain": [
       "tensor([ 0.       , -0.9424778,  0.4712389, -0.4712389], requires_grad=True)"
      ]
     },
     "execution_count": 297,
     "metadata": {},
     "output_type": "execute_result"
    }
   ],
   "source": [
    "P.eigvals()"
   ]
  },
  {
   "cell_type": "code",
   "execution_count": 298,
   "metadata": {},
   "outputs": [
    {
     "data": {
      "text/plain": [
       "array([0.        , 0.4441322 , 0.11103305, 0.11103305, 0.4441322 ,\n",
       "       0.8882644 , 0.55516525, 0.55516525, 0.11103305, 0.55516525,\n",
       "       0.2220661 , 0.2220661 , 0.11103305, 0.55516525, 0.2220661 ,\n",
       "       0.2220661 ])"
      ]
     },
     "execution_count": 298,
     "metadata": {},
     "output_type": "execute_result"
    }
   ],
   "source": [
    "fun_P.eigvals()"
   ]
  },
  {
   "cell_type": "code",
   "execution_count": 299,
   "metadata": {},
   "outputs": [
    {
     "data": {
      "text/plain": [
       "tensor(22.22222222, requires_grad=True)"
      ]
     },
     "execution_count": 299,
     "metadata": {},
     "output_type": "execute_result"
    }
   ],
   "source": [
    "@qml.qnode(dev) \n",
    "def fun():\n",
    "    init_state()\n",
    "    return expval_XP( fun_X )  \n",
    "fun()"
   ]
  },
  {
   "cell_type": "code",
   "execution_count": 300,
   "metadata": {},
   "outputs": [
    {
     "data": {
      "text/plain": [
       "tensor(0.25746497, requires_grad=True)"
      ]
     },
     "execution_count": 300,
     "metadata": {},
     "output_type": "execute_result"
    }
   ],
   "source": [
    "@qml.qnode(dev) \n",
    "def fun():\n",
    "    init_state()\n",
    "    return expval_XP( fun_P )\n",
    "fun()"
   ]
  },
  {
   "cell_type": "code",
   "execution_count": 301,
   "metadata": {},
   "outputs": [
    {
     "data": {
      "text/plain": [
       "tensor(40.15735672, requires_grad=True)"
      ]
     },
     "execution_count": 301,
     "metadata": {},
     "output_type": "execute_result"
    }
   ],
   "source": [
    "@qml.qnode(dev) \n",
    "def fun():\n",
    "    init_state()\n",
    "    return qml.expval( H )\n",
    "fun()"
   ]
  },
  {
   "cell_type": "code",
   "execution_count": 302,
   "metadata": {},
   "outputs": [
    {
     "data": {
      "text/plain": [
       "(<Figure size 500x500 with 1 Axes>, <Axes: >)"
      ]
     },
     "execution_count": 302,
     "metadata": {},
     "output_type": "execute_result"
    },
    {
     "data": {
      "image/png": "[encoded data removed]",
      "text/plain": [
       "<Figure size 500x500 with 1 Axes>"
      ]
     },
     "metadata": {},
     "output_type": "display_data"
    }
   ],
   "source": [
    "qml.draw_mpl( fun, expansion_strategy ='device' )()"
   ]
  },
  {
   "cell_type": "code",
   "execution_count": 283,
   "metadata": {},
   "outputs": [],
   "source": [
    "# fun2 = qml.from_qasm( fun.tape.to_openqasm() )\n",
    "# qml.draw_mpl( fun2 )()"
   ]
  },
  {
   "cell_type": "code",
   "execution_count": 284,
   "metadata": {},
   "outputs": [
    {
     "data": {
      "text/plain": [
       "tensor([ 0.        , -0.83716947,  0.10464618, -0.10464618], requires_grad=True)"
      ]
     },
     "execution_count": 284,
     "metadata": {},
     "output_type": "execute_result"
    }
   ],
   "source": [
    "P.pow(3).eigvals()"
   ]
  },
  {
   "cell_type": "code",
   "execution_count": 285,
   "metadata": {},
   "outputs": [
    {
     "data": {
      "text/plain": [
       "array([-8.37169470e-01, -1.04646184e-01,  1.35561280e-16,  1.04646184e-01])"
      ]
     },
     "execution_count": 285,
     "metadata": {},
     "output_type": "execute_result"
    }
   ],
   "source": [
    "np.linalg.eigh( P.matrix() @ P.matrix() @ P.matrix() )[0]"
   ]
  },
  {
   "cell_type": "code",
   "execution_count": null,
   "metadata": {},
   "outputs": [],
   "source": []
  },
  {
   "cell_type": "code",
   "execution_count": null,
   "metadata": {},
   "outputs": [],
   "source": []
  },
  {
   "cell_type": "code",
   "execution_count": null,
   "metadata": {},
   "outputs": [],
   "source": []
  },
  {
   "cell_type": "code",
   "execution_count": null,
   "metadata": {},
   "outputs": [],
   "source": []
  }
 ],
 "metadata": {
  "kernelspec": {
   "display_name": "pennylane",
   "language": "python",
   "name": "python3"
  },
  "language_info": {
   "codemirror_mode": {
    "name": "ipython",
    "version": 3
   },
   "file_extension": ".py",
   "mimetype": "text/x-python",
   "name": "python",
   "nbconvert_exporter": "python",
   "pygments_lexer": "ipython3",
   "version": "3.12.1"
  }
 },
 "nbformat": 4,
 "nbformat_minor": 2
}
