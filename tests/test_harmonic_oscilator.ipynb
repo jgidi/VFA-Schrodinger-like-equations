{
 "cells": [
  {
   "cell_type": "code",
   "execution_count": 79,
   "metadata": {},
   "outputs": [],
   "source": [
    "import sys\n",
    "sys.path.append('../')"
   ]
  },
  {
   "cell_type": "code",
   "execution_count": 80,
   "metadata": {},
   "outputs": [],
   "source": [
    "import pennylane as qml \n",
    "from pennylane import numpy as np \n",
    "import matplotlib.pyplot as plt \n",
    "from main import Rot_ansatz, VarFourier"
   ]
  },
  {
   "cell_type": "code",
   "execution_count": 81,
   "metadata": {},
   "outputs": [],
   "source": [
    "num_qubits = 4"
   ]
  },
  {
   "cell_type": "code",
   "execution_count": 82,
   "metadata": {},
   "outputs": [],
   "source": [
    "def init_state():\n",
    "    pass "
   ]
  },
  {
   "cell_type": "code",
   "execution_count": 83,
   "metadata": {},
   "outputs": [],
   "source": [
    "var_state_class = Rot_ansatz(num_qubits)\n",
    "var_state = var_state_class.construct_circuit\n",
    "\n",
    "num_layers = 3\n",
    "num_params = var_state_class.num_params\n",
    "params_init = np.random.randn( num_layers, \n",
    "                                num_params )"
   ]
  },
  {
   "cell_type": "code",
   "execution_count": 84,
   "metadata": {},
   "outputs": [],
   "source": [
    "device = qml.device( \"lightning.qubit\", \n",
    "                    wires=num_qubits)\n",
    "\n",
    "varqft = VarFourier( num_qubits,\n",
    "                    lambda x : x**2/2,\n",
    "                    lambda p : p**2/2,\n",
    "                    device,\n",
    "                    var_state  = var_state,\n",
    "                    init_state = init_state\n",
    "                    )"
   ]
  },
  {
   "cell_type": "code",
   "execution_count": 85,
   "metadata": {},
   "outputs": [
    {
     "data": {
      "text/plain": [
       "0.5000000011276804"
      ]
     },
     "execution_count": 85,
     "metadata": {},
     "output_type": "execute_result"
    }
   ],
   "source": [
    "val, vec = varqft.min_energy_eigens()\n",
    "val "
   ]
  },
  {
   "cell_type": "code",
   "execution_count": 86,
   "metadata": {},
   "outputs": [],
   "source": [
    "import optax\n",
    "import jax\n",
    "\n",
    "max_iterations = 1000\n",
    "conv_tol = 1e-04\n",
    "\n",
    "opt = optax.adam(learning_rate=0.5) # ADAM and SPSA are recommended on García-Molina et. al."
   ]
  },
  {
   "cell_type": "code",
   "execution_count": 87,
   "metadata": {},
   "outputs": [
    {
     "data": {
      "text/plain": [
       "7.150292612487525"
      ]
     },
     "execution_count": 87,
     "metadata": {},
     "output_type": "execute_result"
    }
   ],
   "source": [
    "cost_fn = varqft.energy_eval\n",
    "grad_fn = varqft.energy_grad\n",
    "cost_fn( params_init )"
   ]
  },
  {
   "cell_type": "code",
   "execution_count": 88,
   "metadata": {},
   "outputs": [
    {
     "name": "stdout",
     "output_type": "stream",
     "text": [
      "Step = 0,  Energy = 11.12996674\n",
      "Step = 2,  Energy = 5.45628166\n",
      "Step = 4,  Energy = 4.45159912\n",
      "Step = 6,  Energy = 3.31269789\n",
      "Step = 8,  Energy = 2.65597153\n",
      "Step = 10,  Energy = 2.18786526\n",
      "Step = 12,  Energy = 1.92281795\n",
      "Step = 14,  Energy = 1.87644601\n",
      "Step = 16,  Energy = 1.96873415\n",
      "Step = 18,  Energy = 1.67218280\n",
      "Step = 20,  Energy = 1.71542203\n",
      "Step = 22,  Energy = 1.56907964\n",
      "Step = 24,  Energy = 1.34357345\n",
      "Step = 26,  Energy = 1.22572386\n",
      "Step = 28,  Energy = 1.24653041\n",
      "Step = 30,  Energy = 1.19420671\n",
      "Step = 32,  Energy = 1.16332495\n",
      "Step = 34,  Energy = 1.03958857\n",
      "Step = 36,  Energy = 1.01804149\n",
      "Step = 38,  Energy = 0.88869047\n",
      "Step = 40,  Energy = 0.80419159\n",
      "Step = 42,  Energy = 0.69297469\n",
      "Step = 44,  Energy = 0.68220961\n",
      "Step = 46,  Energy = 0.58697814\n",
      "Step = 48,  Energy = 0.59828287\n",
      "Step = 50,  Energy = 0.56255776\n",
      "Step = 52,  Energy = 0.56560045\n",
      "Step = 54,  Energy = 0.56851548\n",
      "Step = 56,  Energy = 0.55044484\n",
      "Step = 58,  Energy = 0.54848248\n",
      "Step = 60,  Energy = 0.53329539\n",
      "Step = 62,  Energy = 0.52291244\n",
      "Step = 64,  Energy = 0.51474965\n",
      "Step = 66,  Energy = 0.51268160\n",
      "Step = 68,  Energy = 0.50874972\n",
      "Step = 70,  Energy = 0.51418543\n",
      "Step = 72,  Energy = 0.50692254\n",
      "Step = 74,  Energy = 0.50751388\n",
      "Step = 76,  Energy = 0.50561237\n",
      "Step = 78,  Energy = 0.50702286\n",
      "Step = 80,  Energy = 0.50287521\n",
      "Step = 82,  Energy = 0.50296026\n",
      "Step = 84,  Energy = 0.50248158\n",
      "Step = 86,  Energy = 0.50177163\n"
     ]
    }
   ],
   "source": [
    "param = np.copy(params_init)\n",
    "opt_state = opt.init(params_init)\n",
    "\n",
    "Params   = [param]\n",
    "Energies = [cost_fn(param)]\n",
    "\n",
    "for n in range(max_iterations):\n",
    "\n",
    "    gradient = grad_fn(np.copy(param))\n",
    "    updates, opt_state = opt.update(gradient, opt_state)\n",
    "    param = optax.apply_updates(param, updates)\n",
    "\n",
    "    Params.append(param)\n",
    "    Energies.append(cost_fn(param))\n",
    "\n",
    "    conv = np.abs(Energies[-1] - Energies[-2])\n",
    "\n",
    "    if n % 2 == 0:\n",
    "        print(f\"Step = {n},  Energy = {Energies[-1]:.8f}\")\n",
    "\n",
    "    if conv <= conv_tol:\n",
    "        break"
   ]
  },
  {
   "cell_type": "code",
   "execution_count": 89,
   "metadata": {},
   "outputs": [
    {
     "data": {
      "text/plain": [
       "<matplotlib.collections.LineCollection at 0x1dcaa1f31a0>"
      ]
     },
     "execution_count": 89,
     "metadata": {},
     "output_type": "execute_result"
    },
    {
     "data": {
      "image/png": "[encoded data removed]",
      "text/plain": [
       "<Figure size 400x300 with 1 Axes>"
      ]
     },
     "metadata": {},
     "output_type": "display_data"
    }
   ],
   "source": [
    "plt.figure( figsize=(4,3) ) \n",
    "plt.plot( Energies )\n",
    "plt.hlines( val, 0, n+1, colors='tab:red', linestyles='--' ) "
   ]
  },
  {
   "cell_type": "code",
   "execution_count": 90,
   "metadata": {},
   "outputs": [],
   "source": [
    "def theo_state( params ):\n",
    "    var_state( params )\n",
    "    return qml.state()\n",
    "\n",
    "final_state = qml.QNode( theo_state, device )(param)"
   ]
  },
  {
   "cell_type": "code",
   "execution_count": 91,
   "metadata": {},
   "outputs": [
    {
     "data": {
      "text/plain": [
       "<matplotlib.legend.Legend at 0x1dcaa0047d0>"
      ]
     },
     "execution_count": 91,
     "metadata": {},
     "output_type": "execute_result"
    },
    {
     "data": {
      "image/png": "[encoded data removed]",
      "text/plain": [
       "<Figure size 640x480 with 1 Axes>"
      ]
     },
     "metadata": {},
     "output_type": "display_data"
    }
   ],
   "source": [
    "plt.plot( np.abs(vec)**2)\n",
    "plt.plot( np.abs(final_state)**2, '--' )\n",
    "plt.legend(['Optimal','VarFourier'])"
   ]
  },
  {
   "cell_type": "code",
   "execution_count": null,
   "metadata": {},
   "outputs": [],
   "source": []
  },
  {
   "cell_type": "code",
   "execution_count": null,
   "metadata": {},
   "outputs": [],
   "source": []
  },
  {
   "cell_type": "code",
   "execution_count": null,
   "metadata": {},
   "outputs": [],
   "source": []
  }
 ],
 "metadata": {
  "kernelspec": {
   "display_name": "pennylane",
   "language": "python",
   "name": "python3"
  },
  "language_info": {
   "codemirror_mode": {
    "name": "ipython",
    "version": 3
   },
   "file_extension": ".py",
   "mimetype": "text/x-python",
   "name": "python",
   "nbconvert_exporter": "python",
   "pygments_lexer": "ipython3",
   "version": "3.12.1"
  }
 },
 "nbformat": 4,
 "nbformat_minor": 2
}
