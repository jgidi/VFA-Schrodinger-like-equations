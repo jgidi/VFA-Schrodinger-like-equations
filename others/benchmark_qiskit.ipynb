{
 "cells": [
  {
   "cell_type": "code",
   "execution_count": 3,
   "metadata": {},
   "outputs": [],
   "source": [
    "import pennylane.numpy as np \n",
    "import matplotlib.pyplot as plt \n",
    "import pennylane as qml \n",
    "#from VarQFT import QFT, classical_swaps"
   ]
  },
  {
   "cell_type": "code",
   "execution_count": 4,
   "metadata": {},
   "outputs": [],
   "source": [
    "def empty_state():\n",
    "    pass\n",
    "\n",
    "class VarFourier:\n",
    "\n",
    "    def __init__( self, \n",
    "                    num_qubits, \n",
    "                    fun_x, \n",
    "                    fun_p,\n",
    "                    dev,\n",
    "                    var_state = None, \n",
    "                    state_in  = None, \n",
    "                    semi_classical = False,\n",
    "                    xmin = -1, \n",
    "                    xmax = 1 ):\n",
    "\n",
    "        if var_state is None:\n",
    "            self.var_state = empty_state\n",
    "        else:\n",
    "            self.var_state = var_state\n",
    "\n",
    "        if state_in is None:\n",
    "            self.state_in = empty_state\n",
    "        else:\n",
    "            self.state_in = state_in\n",
    "\n",
    "        self.num_qubits = num_qubits\n",
    "        self.fun_x = fun_x\n",
    "        self.fun_p = fun_p\n",
    "        self.dev   = dev\n",
    "        self.semi_classical = semi_classical\n",
    "        self.xmin  = xmin\n",
    "        self.xmax  = xmax\n",
    "\n",
    "        x_values, p_values = self.grid_op()\n",
    "        self.x_values = x_values\n",
    "        self.p_values = p_values\n",
    "\n",
    "        self.fun_x_values = fun_x(x_values)\n",
    "        self.fun_p_values = fun_p(p_values)\n",
    "\n",
    "    def Fourier( self, dim ):\n",
    "        F = np.exp( -2j*np.pi*np.outer(np.arange(dim),\n",
    "                                        np.arange(dim))/dim \n",
    "                                        ) / np.sqrt(dim) \n",
    "        return F \n",
    "\n",
    "    def grid_op(self):\n",
    "\n",
    "        dim = 2 ** self.num_qubits \n",
    "        L   = self.xmax - self.xmin\n",
    "        dx  = L / (2**self.num_qubits - 1)\n",
    "        k  = np.linspace( -np.pi / dx, \n",
    "                            np.pi / dx, \n",
    "                            dim + 1)[:-1]\n",
    "        \n",
    "        x_values = self.xmin + dx * np.arange(dim)\n",
    "        p_values = np.fft.fftshift(k)\n",
    "\n",
    "        return x_values, p_values\n",
    "    \n",
    "    def matrix_op( self ):\n",
    "\n",
    "        x_values, p_values = self.grid_op()\n",
    "\n",
    "        dim = 2 ** self.num_qubits \n",
    "        F = self.Fourier(dim)\n",
    "\n",
    "        Op = np.diag( self.fun_x(x_values) ) \\\n",
    "            + F.T.conj()@np.diag( self.fun_p(p_values) )@F\n",
    "        \n",
    "        return Op\n",
    "\n",
    "    def X_eval(self):\n",
    "        \n",
    "        @qml.qnode(self.dev)\n",
    "        def circuit_x(params):\n",
    "            self.state_in()\n",
    "            self.var_state(params)\n",
    "            return MyMP( wires=list(range(self.num_qubits)), eigvals=self.fun_x_values  )\n",
    "        \n",
    "        return circuit_x\n",
    "    \n",
    "    def P_eval(self):\n",
    "\n",
    "        @qml.qnode(self.dev)\n",
    "        def circuit_p(params):\n",
    "            self.state_in()\n",
    "            self.var_state(params)\n",
    "            QFT( self.num_qubits, self.semi_classical )\n",
    "            return MyMP( wires=list(range(self.num_qubits)), eigvals=self.fun_p_values )\n",
    "        \n",
    "        return circuit_p\n",
    "\n",
    "\n",
    "    def energy_eval( self, \n",
    "                    params ):\n",
    "        \n",
    "        circuit_x = self.X_eval()\n",
    "        circuit_p = self.P_eval()\n",
    "\n",
    "        ExpVal = circuit_x(params) + circuit_p(params)\n",
    "        \n",
    "        return ExpVal"
   ]
  },
  {
   "cell_type": "code",
   "execution_count": 5,
   "metadata": {},
   "outputs": [
    {
     "data": {
      "text/plain": [
       "(<Figure size 800x300 with 1 Axes>, <Axes: >)"
      ]
     },
     "execution_count": 5,
     "metadata": {},
     "output_type": "execute_result"
    },
    {
     "data": {
      "image/png": "[encoded data removed]",
      "text/plain": [
       "<Figure size 800x300 with 1 Axes>"
      ]
     },
     "metadata": {},
     "output_type": "display_data"
    }
   ],
   "source": [
    "num_qubits = 2\n",
    "ansatz = \"ry ansatzw\"\n",
    "if ansatz == \"ry ansatz\":\n",
    "    def var_state(params):\n",
    "        for layer, params_per_layer in enumerate(params):\n",
    "            for wire in range(num_qubits):\n",
    "                qml.Rot(*params_per_layer[wire], wires=wire)\n",
    "\n",
    "            if layer < len(params)-1:\n",
    "                for wire in range(num_qubits-1):\n",
    "                    qml.CNOT([wire,wire+1])\n",
    "\n",
    "    num_layers = 4\n",
    "    params_init = 0.01 * np.random.randn( num_layers, num_qubits, 3, requires_grad=True)\n",
    "\n",
    "\n",
    "else: # Use ZGR ansatz instead\n",
    "\n",
    "    def var_state(params):\n",
    "        # num_params = sum_{i=0}^{num_qubits} 2^{i} \n",
    "        #            = 2^{num_qubits+1} - 1\n",
    "        #qml.QubitStateVector(gaussian_GS(Xs)/np.linalg.norm(gaussian_GS(Xs)),wires=[0,1,2])\n",
    "        for layer, params_per_layer in enumerate(params):\n",
    "            qml.RY(params_per_layer[0], wires=0)\n",
    "            i = 1\n",
    "            for qubit in range(num_qubits):\n",
    "                for _ in range(2):\n",
    "                    for ctrl in range(qubit):\n",
    "                        qml.CNOT(wires=[ctrl, qubit])\n",
    "                        qml.RY(params_per_layer[qubit], wires=qubit)\n",
    "                        i += 1\n",
    "                        \n",
    "        #return circuit\n",
    "    '''\n",
    "    def var_state(params):\n",
    "    # num_params = sum_{i=0}^{num_qubits} 2^{i} \n",
    "    #            = 2^{num_qubits+1} - 1\n",
    "    for layer, params_per_layer in enumerate(params):\n",
    "        qml.Rot(*params_per_layer[0], wires=0)\n",
    "        i = 1\n",
    "        for qubit in range(num_qubits):\n",
    "            for _ in range(2):\n",
    "                for ctrl in range(qubit):\n",
    "                    qml.CNOT(wires=[ctrl, qubit])\n",
    "                    qml.Rot(*params_per_layer[qubit], wires=qubit)\n",
    "                    i += 1\n",
    "                        \n",
    "        #return circuit\n",
    "    '''\n",
    "    num_layers = 1\n",
    "    params_init = 0.01 * np.random.randn( num_layers, 2**(num_qubits) - 1, requires_grad=True)\n",
    "    #var_state = zgr_ansatz(num_qubits)\n",
    "\n",
    "qml.draw_mpl(var_state)(params_init)"
   ]
  },
  {
   "cell_type": "code",
   "execution_count": 100,
   "metadata": {},
   "outputs": [],
   "source": [
    "num_qubits = 3\n",
    "def state_in():\n",
    "    #qml.QubitStateVector(gaussian_GS(Xs)/np.linalg.norm(gaussian_GS(Xs)),wires=[0,1,2])\n",
    "    qml.Identity(wires=0)\n",
    "dev = qml.device( \"lightning.qubit\", \n",
    "                    wires=num_qubits)\n",
    "                    #shots = 10000)"
   ]
  },
  {
   "cell_type": "code",
   "execution_count": 101,
   "metadata": {},
   "outputs": [],
   "source": [
    "varfourier = VarFourier( num_qubits, \n",
    "                        lambda x : x**2/2, \n",
    "                        lambda p : p**2/2,\n",
    "                        dev,\n",
    "                        var_state,\n",
    "                        state_in=state_in, \n",
    "                        semi_classical=False,\n",
    "                        xmin = -5,\n",
    "                        xmax = +5  )"
   ]
  },
  {
   "cell_type": "code",
   "execution_count": 102,
   "metadata": {},
   "outputs": [],
   "source": [
    "Xs, Ps = varfourier.grid_op()\n",
    "\n",
    "fourier = varfourier.Fourier(dim=2**num_qubits)"
   ]
  },
  {
   "cell_type": "code",
   "execution_count": 103,
   "metadata": {},
   "outputs": [],
   "source": [
    "operator = varfourier.matrix_op()"
   ]
  },
  {
   "cell_type": "code",
   "execution_count": 104,
   "metadata": {},
   "outputs": [],
   "source": [
    "vals, vecs = np.linalg.eigh(operator)"
   ]
  },
  {
   "cell_type": "code",
   "execution_count": 105,
   "metadata": {},
   "outputs": [
    {
     "data": {
      "text/plain": [
       "0.5175191349133402"
      ]
     },
     "execution_count": 105,
     "metadata": {},
     "output_type": "execute_result"
    }
   ],
   "source": [
    "vals[0]"
   ]
  },
  {
   "cell_type": "code",
   "execution_count": 106,
   "metadata": {},
   "outputs": [],
   "source": [
    "psi  = np.exp(-(Xs**2) / 2)\n",
    "psi_norm = psi/np.linalg.norm(psi)"
   ]
  },
  {
   "cell_type": "code",
   "execution_count": 107,
   "metadata": {},
   "outputs": [
    {
     "data": {
      "text/plain": [
       "tensor([-2.26128597e-04+0.00000000e+00j, -1.34434618e-04-7.16777267e-18j,\n",
       "        -1.01296521e-01-3.35970018e-15j, -6.99813508e-01-2.30077753e-14j,\n",
       "        -6.99813508e-01-2.30680730e-14j, -1.01296521e-01-3.29531571e-15j,\n",
       "        -1.34434618e-04-3.61812052e-18j, -2.26128597e-04-6.32348893e-18j], requires_grad=True)"
      ]
     },
     "execution_count": 107,
     "metadata": {},
     "output_type": "execute_result"
    }
   ],
   "source": [
    "vecs[:,0]"
   ]
  },
  {
   "cell_type": "code",
   "execution_count": 108,
   "metadata": {},
   "outputs": [
    {
     "data": {
      "text/plain": [
       "[<matplotlib.lines.Line2D at 0x7f23b382a6d0>]"
      ]
     },
     "execution_count": 108,
     "metadata": {},
     "output_type": "execute_result"
    },
    {
     "data": {
      "image/png": "[encoded data removed]",
      "text/plain": [
       "<Figure size 640x480 with 1 Axes>"
      ]
     },
     "metadata": {},
     "output_type": "display_data"
    }
   ],
   "source": [
    "plt.plot(Xs,np.abs(psi_norm))\n",
    "plt.plot(Xs,np.abs(vecs[:,0]),'o')\n"
   ]
  },
  {
   "cell_type": "code",
   "execution_count": 109,
   "metadata": {},
   "outputs": [
    {
     "data": {
      "text/plain": [
       "(<Figure size 400x400 with 1 Axes>, <Axes: >)"
      ]
     },
     "execution_count": 109,
     "metadata": {},
     "output_type": "execute_result"
    },
    {
     "data": {
      "image/png": "[encoded data removed]",
      "text/plain": [
       "<Figure size 400x400 with 1 Axes>"
      ]
     },
     "metadata": {},
     "output_type": "display_data"
    }
   ],
   "source": [
    "def circuit(params):\n",
    "    qml.AmplitudeEmbedding(params, normalize=True, wires=range(num_qubits))\n",
    "\n",
    "\n",
    "\n",
    "qml.draw_mpl(circuit)(vecs[:, 0])\n"
   ]
  },
  {
   "cell_type": "code",
   "execution_count": 200,
   "metadata": {},
   "outputs": [],
   "source": [
    "def QFT(n_wires, semi_classical=False):\n",
    "\n",
    "    if semi_classical:\n",
    "        mid_measures = []\n",
    "        for n in range( n_wires ):\n",
    "            qml.Hadamard( wires=n )\n",
    "            if n < n_wires-1:\n",
    "                mid_measure = qml.measure( wires=n ) \n",
    "                mid_measures.append( mid_measure )\n",
    "                for m in range(1,n_wires-n):\n",
    "                    qml.cond( mid_measure, \n",
    "                                qml.ControlledPhaseShift )( np.pi/2**m, \n",
    "                                            wires=n+m ) \n",
    "\n",
    "    else:\n",
    "        '''\n",
    "        for n in range( n_wires ):\n",
    "            qml.Hadamard(wires=num_qubits-n-1)\n",
    "            for m in range(1,n_wires-n):\n",
    "                qml.ControlledPhaseShift( np.pi/2**m, wires=[num_qubits-n-1-m,num_qubits-n-1]  )\n",
    "        '''\n",
    "        for n in range( n_wires ):\n",
    "            qml.Hadamard(wires=n)\n",
    "            for m in range(1,n_wires-n):\n",
    "                qml.ControlledPhaseShift( np.pi/2**m, wires=[n,n+m]  )\n",
    "\n",
    "\n",
    "def classical_swaps( probs, n_wires ):\n",
    "    return probs.reshape(n_wires*[2]).transpose(np.arange(n_wires)[::-1]).reshape(2**n_wires)"
   ]
  },
  {
   "cell_type": "code",
   "execution_count": 201,
   "metadata": {},
   "outputs": [
    {
     "data": {
      "text/plain": [
       "0.7853981633974483"
      ]
     },
     "execution_count": 201,
     "metadata": {},
     "output_type": "execute_result"
    }
   ],
   "source": [
    "np.pi/4"
   ]
  },
  {
   "cell_type": "code",
   "execution_count": 202,
   "metadata": {},
   "outputs": [
    {
     "data": {
      "text/plain": [
       "(<Figure size 1100x400 with 1 Axes>, <Axes: >)"
      ]
     },
     "execution_count": 202,
     "metadata": {},
     "output_type": "execute_result"
    },
    {
     "data": {
      "image/png": "[encoded data removed]",
      "text/plain": [
       "<Figure size 1000x400 with 1 Axes>"
      ]
     },
     "metadata": {},
     "output_type": "display_data"
    },
    {
     "data": {
      "image/png": "[encoded data removed]",
      "text/plain": [
       "<Figure size 1100x400 with 1 Axes>"
      ]
     },
     "metadata": {},
     "output_type": "display_data"
    }
   ],
   "source": [
    "@qml.qnode(dev)\n",
    "def circuit_X(params):\n",
    "    qml.AmplitudeEmbedding(params, normalize=True, wires=range(num_qubits))\n",
    "    #QFT(num_qubits)\n",
    "    return qml.probs()\n",
    "\n",
    "@qml.qnode(dev)\n",
    "def circuit_P(params):\n",
    "    qml.AmplitudeEmbedding(params, normalize=True, wires=range(num_qubits))\n",
    "    QFT(num_qubits)\n",
    "    #qml.QFT(wires = range(num_qubits))\n",
    "    #qml.QFT.compute_decomposition(wires = range(num_qubits), n_wires=num_qubits)\n",
    "    return qml.probs()\n",
    "\n",
    "@qml.qnode(dev)\n",
    "def circuit_P_qml(params):\n",
    "    qml.AmplitudeEmbedding(params, normalize=True, wires=range(num_qubits))\n",
    "    #QFT(num_qubits)\n",
    "    #qml.QFT(wires = range(num_qubits))\n",
    "    qml.QFT.compute_decomposition(wires = range(num_qubits), n_wires=num_qubits)\n",
    "    #qml.SWAP([0,2])\n",
    "    return qml.probs()\n",
    "\n",
    "qml.draw_mpl(circuit_P, decimals=2 )(vecs[:, 0])\n",
    "qml.draw_mpl(circuit_P_qml, decimals=2 )(vecs[:, 0])\n",
    "\n"
   ]
  },
  {
   "cell_type": "code",
   "execution_count": 203,
   "metadata": {},
   "outputs": [
    {
     "data": {
      "text/plain": [
       "[Hadamard(wires=[0]),\n",
       " ControlledPhaseShift(1.5707963267948966, wires=[1, 0]),\n",
       " ControlledPhaseShift(0.7853981633974483, wires=[2, 0]),\n",
       " Hadamard(wires=[1]),\n",
       " ControlledPhaseShift(1.5707963267948966, wires=[2, 1]),\n",
       " Hadamard(wires=[2]),\n",
       " SWAP(wires=[0, 2])]"
      ]
     },
     "execution_count": 203,
     "metadata": {},
     "output_type": "execute_result"
    }
   ],
   "source": [
    "qml.QFT.compute_decomposition(wires = range(num_qubits), n_wires=num_qubits)\n"
   ]
  },
  {
   "cell_type": "code",
   "execution_count": 204,
   "metadata": {},
   "outputs": [
    {
     "data": {
      "text/plain": [
       "tensor([0.        , 0.30225663, 1.20902654, 2.72030971, 4.83610616,\n",
       "        2.72030971, 1.20902654, 0.30225663], requires_grad=True)"
      ]
     },
     "execution_count": 204,
     "metadata": {},
     "output_type": "execute_result"
    }
   ],
   "source": [
    "Ps**2"
   ]
  },
  {
   "cell_type": "code",
   "execution_count": 209,
   "metadata": {},
   "outputs": [],
   "source": [
    "probsx = circuit_X(vecs[:,0])\n",
    "probsp_qml = circuit_P_qml(vecs[:,0])\n",
    "probsp =  classical_swaps(circuit_P(vecs[:,0]),num_qubits)"
   ]
  },
  {
   "cell_type": "code",
   "execution_count": 210,
   "metadata": {},
   "outputs": [
    {
     "data": {
      "text/plain": [
       "tensor([-5.        , -3.57142857, -2.14285714, -0.71428571,  0.71428571,\n",
       "         2.14285714,  3.57142857,  5.        ], requires_grad=True)"
      ]
     },
     "execution_count": 210,
     "metadata": {},
     "output_type": "execute_result"
    }
   ],
   "source": [
    "Xs"
   ]
  },
  {
   "cell_type": "code",
   "execution_count": 211,
   "metadata": {},
   "outputs": [
    {
     "data": {
      "text/plain": [
       "array([3.21177555e-01, 2.34645049e-01, 8.95830883e-02, 1.51830854e-02,\n",
       "       2.97702547e-29, 1.51830854e-02, 8.95830883e-02, 2.34645049e-01])"
      ]
     },
     "execution_count": 211,
     "metadata": {},
     "output_type": "execute_result"
    }
   ],
   "source": [
    "probsp"
   ]
  },
  {
   "cell_type": "code",
   "execution_count": 212,
   "metadata": {},
   "outputs": [
    {
     "data": {
      "text/plain": [
       "array([3.21177555e-01, 2.34645049e-01, 8.95830883e-02, 1.51830854e-02,\n",
       "       2.97702547e-29, 1.51830854e-02, 8.95830883e-02, 2.34645049e-01])"
      ]
     },
     "execution_count": 212,
     "metadata": {},
     "output_type": "execute_result"
    }
   ],
   "source": [
    "probsp_qml"
   ]
  },
  {
   "cell_type": "code",
   "execution_count": 199,
   "metadata": {},
   "outputs": [
    {
     "data": {
      "text/plain": [
       "0.9145571077474718"
      ]
     },
     "execution_count": 199,
     "metadata": {},
     "output_type": "execute_result"
    }
   ],
   "source": [
    "(np.vdot(probsx,Xs**2)+np.vdot(probsp,Ps**2))/2"
   ]
  },
  {
   "cell_type": "code",
   "execution_count": null,
   "metadata": {},
   "outputs": [],
   "source": []
  },
  {
   "cell_type": "code",
   "execution_count": null,
   "metadata": {},
   "outputs": [],
   "source": []
  }
 ],
 "metadata": {
  "kernelspec": {
   "display_name": "qhack",
   "language": "python",
   "name": "python3"
  },
  "language_info": {
   "codemirror_mode": {
    "name": "ipython",
    "version": 3
   },
   "file_extension": ".py",
   "mimetype": "text/x-python",
   "name": "python",
   "nbconvert_exporter": "python",
   "pygments_lexer": "ipython3",
   "version": "3.11.6"
  }
 },
 "nbformat": 4,
 "nbformat_minor": 2
}
