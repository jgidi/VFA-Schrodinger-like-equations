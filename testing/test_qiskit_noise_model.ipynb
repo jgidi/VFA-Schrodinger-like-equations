{
 "cells": [
  {
   "cell_type": "code",
   "execution_count": 1,
   "metadata": {},
   "outputs": [],
   "source": [
    "import sys\n",
    "\n",
    "sys.path.append(\"../\")\n",
    "\n",
    "import pennylane as qml\n",
    "import pennylane.numpy as np\n",
    "from main import *\n",
    "\n",
    "np.random.seed(0)  # For reproducibility"
   ]
  },
  {
   "cell_type": "markdown",
   "metadata": {},
   "source": [
    "In this notebook we present the syntaxis to create and evaluate quantum states and operators in first quantization in a qubit-based quantum computer.\n",
    "\n",
    "In the first place let us define the number of qubits and the device to perform the simulations."
   ]
  },
  {
   "cell_type": "code",
   "execution_count": 2,
   "metadata": {},
   "outputs": [],
   "source": [
    "import qiskit\n",
    "import qiskit.providers.aer.noise as noise\n",
    "\n",
    "# create a bit flip error with probability p = 0.01\n",
    "p = 0.01\n",
    "my_bitflip = noise.pauli_error([('X', p), ('I', 1 - p)])\n",
    "\n",
    "# create an empty noise model\n",
    "my_noise_model = noise.NoiseModel()\n",
    "\n",
    "# attach the error to the hadamard gate 'h' \n",
    "my_noise_model.add_quantum_error(my_bitflip, ['h'], [0]) "
   ]
  },
  {
   "cell_type": "code",
   "execution_count": 3,
   "metadata": {},
   "outputs": [],
   "source": [
    "num_wires = 3\n",
    "dev1 = qml.device( 'lightning.qubit', wires=2*num_wires ) \n",
    "dev2 = qml.device( 'qiskit.aer', wires=2*num_wires, noise_model = my_noise_model ) \n",
    "# dev3 = qml.device( 'qiskit.ibmq', wires=2*num_wires, backend='ibmq_qasm_simulator' ) \n",
    "# dev4 = qml.device( 'qiskit.ibmq', wires=2*num_wires, backend='ibm_brisbane' ) "
   ]
  },
  {
   "cell_type": "markdown",
   "metadata": {},
   "source": [
    "Second, we create discrete versions of the position operator $X$ and the momentum operator $P$ between $x_{min}=-5$ and $x_{max}=5$ with the function ```X_and_P_ops``` "
   ]
  },
  {
   "cell_type": "code",
   "execution_count": 4,
   "metadata": {},
   "outputs": [
    {
     "data": {
      "text/plain": [
       "(<Hamiltonian: terms=1, wires=[0, 1, 2]>,\n",
       " <Hamiltonian: terms=1, wires=[0, 1, 2]>)"
      ]
     },
     "execution_count": 4,
     "metadata": {},
     "output_type": "execute_result"
    }
   ],
   "source": [
    "X, P = X_and_P_ops(range(num_wires), x_min=-5, x_max=5)\n",
    "X, P"
   ]
  },
  {
   "cell_type": "markdown",
   "metadata": {},
   "source": [
    "We now will evaluate the expected value of those operators in a random quantum state $|\\psi\\rangle$."
   ]
  },
  {
   "cell_type": "code",
   "execution_count": 5,
   "metadata": {},
   "outputs": [
    {
     "data": {
      "text/plain": [
       "(<Figure size 400x400 with 1 Axes>, <Axes: >)"
      ]
     },
     "execution_count": 5,
     "metadata": {},
     "output_type": "execute_result"
    },
    {
     "data": {
      "image/png": "[encoded data removed]",
      "text/plain": [
       "<Figure size 400x400 with 1 Axes>"
      ]
     },
     "metadata": {},
     "output_type": "display_data"
    }
   ],
   "source": [
    "def psi(params):\n",
    "    qml.MottonenStatePreparation(params, range(num_wires))\n",
    "\n",
    "\n",
    "params = np.random.randn(2**num_wires) + 1j * np.random.randn(2**num_wires)\n",
    "params = params / np.linalg.norm(params)\n",
    "\n",
    "qml.draw_mpl(psi)(params)"
   ]
  },
  {
   "cell_type": "markdown",
   "metadata": {},
   "source": [
    "We can evaluate the expecting value of $X$ or $P$ over $|\\psi\\rangle$ creating the corresponding __quantum tape__ with the function ```tapes_XP```."
   ]
  },
  {
   "cell_type": "code",
   "execution_count": 6,
   "metadata": {},
   "outputs": [
    {
     "name": "stdout",
     "output_type": "stream",
     "text": [
      "0: ─╭MottonenStatePreparation(M0)─┤ ╭Probs\n",
      "1: ─├MottonenStatePreparation(M0)─┤ ├Probs\n",
      "2: ─╰MottonenStatePreparation(M0)─┤ ╰Probs\n",
      "M0 = \n",
      "[ 0.41768427-0.02443969j  0.0947474 +0.09721964j  0.23174112+0.03410598j\n",
      "  0.53058848+0.34433625j  0.44219187+0.18019504j -0.2313954 +0.02880966j\n",
      "  0.2249576 +0.10509591j -0.03583767+0.07900589j]\n"
     ]
    }
   ],
   "source": [
    "tape_X = tapes_XP(params, psi, X)\n",
    "print(tape_X[0].draw())"
   ]
  },
  {
   "cell_type": "markdown",
   "metadata": {},
   "source": [
    "The expected value is given by the function ```exp_val_XP```."
   ]
  },
  {
   "cell_type": "code",
   "execution_count": 7,
   "metadata": {},
   "outputs": [
    {
     "data": {
      "text/plain": [
       "(-0.8072673075874343, -0.7672991071428571)"
      ]
     },
     "execution_count": 7,
     "metadata": {},
     "output_type": "execute_result"
    }
   ],
   "source": [
    "exp_val_XP(circuit_tapes=tape_X, device=dev1), exp_val_XP(circuit_tapes=tape_X, device=dev2)"
   ]
  },
  {
   "cell_type": "code",
   "execution_count": 8,
   "metadata": {},
   "outputs": [],
   "source": [
    "# exp_val_XP(circuit_tapes=tape_X, device=dev3)"
   ]
  },
  {
   "cell_type": "code",
   "execution_count": 9,
   "metadata": {},
   "outputs": [],
   "source": [
    "# exp_val_XP(circuit_tapes=tape_X, device=dev4) "
   ]
  },
  {
   "cell_type": "markdown",
   "metadata": {},
   "source": [
    "We can also directly give the arguments of ```tapes_XP``` to ```exp_val_XP``` and the device"
   ]
  },
  {
   "cell_type": "code",
   "execution_count": 10,
   "metadata": {},
   "outputs": [
    {
     "data": {
      "text/plain": [
       "(-0.8072673075874343, -0.7728794642857144)"
      ]
     },
     "execution_count": 10,
     "metadata": {},
     "output_type": "execute_result"
    }
   ],
   "source": [
    "exp_val_XP(params, psi, X, dev1), exp_val_XP(params, psi, X, dev2)"
   ]
  },
  {
   "cell_type": "markdown",
   "metadata": {},
   "source": [
    "For the evaluation of $P$, the tape includes the Fourier Transfom to change the basis from the eigenbasis of $X$ to the eigenbasis of $P$."
   ]
  },
  {
   "cell_type": "code",
   "execution_count": 11,
   "metadata": {},
   "outputs": [
    {
     "name": "stdout",
     "output_type": "stream",
     "text": [
      "0: ─╭MottonenStatePreparation(M0)──H─╭●──╭●────────────┤ ╭Probs\n",
      "1: ─├MottonenStatePreparation(M0)────╰Rϕ─│────H─╭●─────┤ ├Probs\n",
      "2: ─╰MottonenStatePreparation(M0)────────╰Rϕ────╰Rϕ──H─┤ ╰Probs\n",
      "M0 = \n",
      "[ 0.41768427-0.02443969j  0.0947474 +0.09721964j  0.23174112+0.03410598j\n",
      "  0.53058848+0.34433625j  0.44219187+0.18019504j -0.2313954 +0.02880966j\n",
      "  0.2249576 +0.10509591j -0.03583767+0.07900589j]\n"
     ]
    }
   ],
   "source": [
    "tape_P = tapes_XP(params, psi, P)\n",
    "print(tape_P[0].draw())"
   ]
  },
  {
   "cell_type": "code",
   "execution_count": 12,
   "metadata": {},
   "outputs": [
    {
     "data": {
      "text/plain": [
       "(-0.3321309682481336, -0.336095190625744)"
      ]
     },
     "execution_count": 12,
     "metadata": {},
     "output_type": "execute_result"
    }
   ],
   "source": [
    "exp_val_XP(circuit_tapes=tape_P, device=dev1), exp_val_XP(circuit_tapes=tape_P, device=dev2)"
   ]
  },
  {
   "cell_type": "markdown",
   "metadata": {},
   "source": [
    "Setting the input ```semiclassical=True``` of ```X_and_P_ops```, the evaluation of $P$ is performed with a semiclassical implementation of the Fourier transform. This replaces the controlled operations with mid-circuit measurements and classical controls, thus reducing the depth of the quantum circuit."
   ]
  },
  {
   "cell_type": "code",
   "execution_count": 13,
   "metadata": {},
   "outputs": [
    {
     "name": "stdout",
     "output_type": "stream",
     "text": [
      "0: ─╭MottonenStatePreparation(M0)──H──┤↗├─────────────────────┤ ╭Probs\n",
      "1: ─├MottonenStatePreparation(M0)──────║───Rϕ──H───┤↗├────────┤ ├Probs\n",
      "2: ─╰MottonenStatePreparation(M0)──────║───║───Rϕ───║───Rϕ──H─┤ ╰Probs\n",
      "                                       ╚═══╩═══╝    ║   ║             \n",
      "                                                    ╚═══╝             \n",
      "M0 = \n",
      "[ 0.41768427-0.02443969j  0.0947474 +0.09721964j  0.23174112+0.03410598j\n",
      "  0.53058848+0.34433625j  0.44219187+0.18019504j -0.2313954 +0.02880966j\n",
      "  0.2249576 +0.10509591j -0.03583767+0.07900589j]\n"
     ]
    }
   ],
   "source": [
    "X, P = X_and_P_ops(range(num_wires), -5, 5, semiclassical=True)\n",
    "tape_P = tapes_XP(params, psi, P)\n",
    "print(tape_P[0].draw())"
   ]
  },
  {
   "cell_type": "code",
   "execution_count": 14,
   "metadata": {},
   "outputs": [
    {
     "data": {
      "text/plain": [
       "(40, 80, 120)"
      ]
     },
     "execution_count": 14,
     "metadata": {},
     "output_type": "execute_result"
    }
   ],
   "source": [
    "import pennylane as qml\n",
    "from pennylane.transforms import fold_global, poly_extrapolate\n",
    "\n",
    "out = qml.transforms.mitigate_with_zne( tape_P[0], \n",
    "                                        [1., 2., 3.], \n",
    "                                        fold_global, \n",
    "                                        poly_extrapolate, \n",
    "                                        extrapolate_kwargs={'order': 2})\n",
    "\n",
    "len( out[0][0].operations ), len( out[0][1].operations ), len( out[0][2].operations ) "
   ]
  },
  {
   "cell_type": "code",
   "execution_count": 15,
   "metadata": {},
   "outputs": [
    {
     "name": "stdout",
     "output_type": "stream",
     "text": [
      "0: ──RY─╭●─────╭●────────╭●────────────╭●──RZ─╭●─────╭●────────╭●────────────╭●──Rϕ──RX──Rϕ──┤↗├────\n",
      "1: ──RY─╰X──RY─╰X─╭●─────│──────╭●─────│───RZ─╰X──RZ─╰X─╭●─────│──────╭●─────│────────────────║───Rϕ\n",
      "2: ──RY───────────╰X──RY─╰X──RY─╰X──RY─╰X──RZ───────────╰X──RZ─╰X──RZ─╰X──RZ─╰X───────────────║───║─\n",
      "                                                                                              ╚═══╩═\n",
      "                                                                                                    \n",
      "\n",
      "───────────────────────────────────┤ ╭Probs\n",
      "───Rϕ──RX──Rϕ──┤↗├─────────────────┤ ├Probs\n",
      "───Rϕ───────────║───Rϕ──Rϕ──RX──Rϕ─┤ ╰Probs\n",
      "═══╝            ║   ║                      \n",
      "                ╚═══╝                      \n"
     ]
    }
   ],
   "source": [
    "print(out[0][0].draw())"
   ]
  },
  {
   "cell_type": "markdown",
   "metadata": {},
   "source": [
    "We show a better plot of the Fourier Transform from our implementation of the operation `QFT`, in the standard manner (```semi_classical=False```)"
   ]
  },
  {
   "cell_type": "code",
   "execution_count": 16,
   "metadata": {},
   "outputs": [
    {
     "data": {
      "text/plain": [
       "(<Figure size 900x400 with 1 Axes>, <Axes: >)"
      ]
     },
     "execution_count": 16,
     "metadata": {},
     "output_type": "execute_result"
    },
    {
     "data": {
      "image/png": "[encoded data removed]",
      "text/plain": [
       "<Figure size 900x400 with 1 Axes>"
      ]
     },
     "metadata": {},
     "output_type": "display_data"
    }
   ],
   "source": [
    "qft = QFT(range(num_wires), semi_classical=False)\n",
    "\n",
    "\n",
    "def fun():\n",
    "    qft.decomposition()\n",
    "\n",
    "\n",
    "qml.draw_mpl(fun, style=\"pennylane\")()"
   ]
  },
  {
   "cell_type": "markdown",
   "metadata": {},
   "source": [
    "and using the semiclassical variation"
   ]
  },
  {
   "cell_type": "code",
   "execution_count": 17,
   "metadata": {},
   "outputs": [
    {
     "data": {
      "text/plain": [
       "(<Figure size 1000x500 with 1 Axes>, <Axes: >)"
      ]
     },
     "execution_count": 17,
     "metadata": {},
     "output_type": "execute_result"
    },
    {
     "data": {
      "image/png": "[encoded data removed]",
      "text/plain": [
       "<Figure size 1000x500 with 1 Axes>"
      ]
     },
     "metadata": {},
     "output_type": "display_data"
    }
   ],
   "source": [
    "qft = QFT(range(num_wires), semi_classical=True)\n",
    "\n",
    "\n",
    "def fun():\n",
    "    qft.decomposition()\n",
    "\n",
    "\n",
    "qml.draw_mpl(fun, style=\"pennylane\")()"
   ]
  },
  {
   "cell_type": "markdown",
   "metadata": {},
   "source": [
    "This circuits gives the same expectied value than the standard implementation."
   ]
  },
  {
   "cell_type": "code",
   "execution_count": 18,
   "metadata": {},
   "outputs": [
    {
     "data": {
      "text/plain": [
       "(-0.3321309682481336, -0.3205252856287047)"
      ]
     },
     "execution_count": 18,
     "metadata": {},
     "output_type": "execute_result"
    }
   ],
   "source": [
    "exp_val_XP(circuit_tapes=tape_P, device=dev1 ), exp_val_XP(circuit_tapes=tape_P, device=dev2 )"
   ]
  },
  {
   "cell_type": "code",
   "execution_count": 19,
   "metadata": {},
   "outputs": [],
   "source": [
    "# exp_val_XP(circuit_tapes=tape_P, device=dev3 )"
   ]
  },
  {
   "cell_type": "code",
   "execution_count": 20,
   "metadata": {},
   "outputs": [],
   "source": [
    "# exp_val_XP(circuit_tapes=tape_P, device=dev4 )"
   ]
  },
  {
   "cell_type": "markdown",
   "metadata": {},
   "source": [
    "We can also evaluate arbitrary quadrature operator $Q=aX+bP$ puting each term of the sum in a ```list```."
   ]
  },
  {
   "cell_type": "code",
   "execution_count": 21,
   "metadata": {},
   "outputs": [
    {
     "data": {
      "text/plain": [
       "[<Hamiltonian: terms=1, wires=[0, 1, 2]>,\n",
       " <Hamiltonian: terms=1, wires=[0, 1, 2]>]"
      ]
     },
     "execution_count": 21,
     "metadata": {},
     "output_type": "execute_result"
    }
   ],
   "source": [
    "a = 1\n",
    "b = 1\n",
    "\n",
    "Q = [X.s_prod(a), P.s_prod(b)]\n",
    "Q"
   ]
  },
  {
   "cell_type": "markdown",
   "metadata": {},
   "source": [
    "In this case the program perform a simulation for each term in the list."
   ]
  },
  {
   "cell_type": "code",
   "execution_count": 22,
   "metadata": {},
   "outputs": [
    {
     "data": {
      "text/plain": [
       "-1.1393982758355679"
      ]
     },
     "execution_count": 22,
     "metadata": {},
     "output_type": "execute_result"
    }
   ],
   "source": [
    "exp_val_XP(params, psi, Q, dev1)"
   ]
  },
  {
   "cell_type": "markdown",
   "metadata": {},
   "source": [
    "Note that function ```exp_val_XP``` is differentiable, resulting convenient for expectation value optimization."
   ]
  },
  {
   "cell_type": "code",
   "execution_count": 23,
   "metadata": {},
   "outputs": [
    {
     "data": {
      "text/plain": [
       "1.4859744455937676"
      ]
     },
     "execution_count": 23,
     "metadata": {},
     "output_type": "execute_result"
    }
   ],
   "source": [
    "qml.grad(exp_val_XP)(params, psi, Q, dev1)"
   ]
  },
  {
   "cell_type": "code",
   "execution_count": 24,
   "metadata": {},
   "outputs": [],
   "source": [
    "# qml.grad(exp_val_XP)(params, psi, Q, dev2)"
   ]
  },
  {
   "cell_type": "code",
   "execution_count": 25,
   "metadata": {},
   "outputs": [
    {
     "name": "stdout",
     "output_type": "stream",
     "text": [
      "0: ─╭MottonenStatePreparation(M0)──H──┤↗├─────────────────────┤ ╭Probs\n",
      "1: ─├MottonenStatePreparation(M0)──────║───Rϕ──H───┤↗├────────┤ ├Probs\n",
      "2: ─╰MottonenStatePreparation(M0)──────║───║───Rϕ───║───Rϕ──H─┤ ╰Probs\n",
      "                                       ╚═══╩═══╝    ║   ║             \n",
      "                                                    ╚═══╝             \n",
      "M0 = \n",
      "[ 0.41768427-0.02443969j  0.0947474 +0.09721964j  0.23174112+0.03410598j\n",
      "  0.53058848+0.34433625j  0.44219187+0.18019504j -0.2313954 +0.02880966j\n",
      "  0.2249576 +0.10509591j -0.03583767+0.07900589j]\n"
     ]
    }
   ],
   "source": [
    "X, P = X_and_P_ops(range(num_wires), -5, 5, semiclassical=True)\n",
    "tape_P = tapes_XP(params, psi, P)\n",
    "print(tape_P[0].draw()) "
   ]
  },
  {
   "cell_type": "code",
   "execution_count": 26,
   "metadata": {},
   "outputs": [],
   "source": [
    "from qiskit import QuantumCircuit, QuantumRegister, ClassicalRegister"
   ]
  },
  {
   "cell_type": "code",
   "execution_count": 27,
   "metadata": {},
   "outputs": [],
   "source": [
    "tape = qml.transforms.merge_rotations( tape_P[0].expand() )[0][0]\n",
    "num_qubits = tape.num_wires"
   ]
  },
  {
   "cell_type": "code",
   "execution_count": 28,
   "metadata": {},
   "outputs": [
    {
     "data": {
      "text/plain": [
       "[RY(tensor(1.26936233, requires_grad=True), wires=[0]),\n",
       " RY(tensor(1.45252455, requires_grad=True), wires=[1]),\n",
       " CNOT(wires=[0, 1]),\n",
       " RY(tensor(0.53331577, requires_grad=True), wires=[1]),\n",
       " CNOT(wires=[0, 1]),\n",
       " RY(tensor(1.16014581, requires_grad=True), wires=[2]),\n",
       " CNOT(wires=[1, 2]),\n",
       " RY(tensor(-0.39212741, requires_grad=True), wires=[2]),\n",
       " CNOT(wires=[0, 2]),\n",
       " RY(tensor(-0.51026717, requires_grad=True), wires=[2]),\n",
       " CNOT(wires=[1, 2]),\n",
       " RY(tensor(0.36973048, requires_grad=True), wires=[2]),\n",
       " CNOT(wires=[0, 2]),\n",
       " RZ(tensor(1.09419383, requires_grad=True), wires=[0]),\n",
       " RZ(tensor(-0.2472611, requires_grad=True), wires=[1]),\n",
       " CNOT(wires=[0, 1]),\n",
       " RZ(tensor(0.23823345, requires_grad=True), wires=[1]),\n",
       " CNOT(wires=[0, 1]),\n",
       " RZ(tensor(1.36915329, requires_grad=True), wires=[2]),\n",
       " CNOT(wires=[1, 2]),\n",
       " RZ(tensor(0.37459118, requires_grad=True), wires=[2]),\n",
       " CNOT(wires=[0, 2]),\n",
       " RZ(tensor(-0.16099404, requires_grad=True), wires=[2]),\n",
       " CNOT(wires=[1, 2]),\n",
       " RZ(tensor(-0.7260288, requires_grad=True), wires=[2]),\n",
       " CNOT(wires=[0, 2]),\n",
       " PhaseShift(1.5707963267948966, wires=[0]),\n",
       " RX(1.5707963267948966, wires=[0]),\n",
       " PhaseShift(1.5707963267948966, wires=[0]),\n",
       " measure(wires=[0]),\n",
       " Conditional(wires=[1]),\n",
       " Conditional(wires=[2]),\n",
       " PhaseShift(1.5707963267948966, wires=[1]),\n",
       " RX(1.5707963267948966, wires=[1]),\n",
       " PhaseShift(1.5707963267948966, wires=[1]),\n",
       " measure(wires=[1]),\n",
       " Conditional(wires=[2]),\n",
       " PhaseShift(1.5707963267948966, wires=[2]),\n",
       " RX(1.5707963267948966, wires=[2]),\n",
       " PhaseShift(1.5707963267948966, wires=[2])]"
      ]
     },
     "execution_count": 28,
     "metadata": {},
     "output_type": "execute_result"
    }
   ],
   "source": [
    "tape.operations"
   ]
  },
  {
   "cell_type": "code",
   "execution_count": 32,
   "metadata": {},
   "outputs": [],
   "source": [
    "from main import tape2qiskit"
   ]
  },
  {
   "cell_type": "code",
   "execution_count": 33,
   "metadata": {},
   "outputs": [
    {
     "data": {
      "image/png": "[encoded data removed]",
      "text/plain": [
       "<Figure size 2210.55x785.944 with 1 Axes>"
      ]
     },
     "execution_count": 33,
     "metadata": {},
     "output_type": "execute_result"
    }
   ],
   "source": [
    "qc = tape2qiskit( tape )\n",
    "qc.draw('mpl')"
   ]
  },
  {
   "cell_type": "code",
   "execution_count": null,
   "metadata": {},
   "outputs": [],
   "source": [
    "gradient_tapes, fn = qml.gradients.param_shift(tape_P[0])"
   ]
  },
  {
   "cell_type": "code",
   "execution_count": null,
   "metadata": {},
   "outputs": [
    {
     "name": "stdout",
     "output_type": "stream",
     "text": [
      "0: ──RY─╭●─────╭●────────╭●────────────╭●──RZ─╭●─────╭●────────╭●────────────╭●──Rϕ──RX──Rϕ──┤↗├────\n",
      "1: ──RY─╰X──RY─╰X─╭●─────│──────╭●─────│───RZ─╰X──RZ─╰X─╭●─────│──────╭●─────│────────────────║───Rϕ\n",
      "2: ──RY───────────╰X──RY─╰X──RY─╰X──RY─╰X──RZ───────────╰X──RZ─╰X──RZ─╰X──RZ─╰X───────────────║───║─\n",
      "                                                                                              ╚═══╩═\n",
      "                                                                                                    \n",
      "\n",
      "───────────────────────────────────┤ ╭Probs\n",
      "───Rϕ──RX──Rϕ──┤↗├─────────────────┤ ├Probs\n",
      "───Rϕ───────────║───Rϕ──Rϕ──RX──Rϕ─┤ ╰Probs\n",
      "═══╝            ║   ║                      \n",
      "                ╚═══╝                      \n"
     ]
    }
   ],
   "source": [
    "print(gradient_tapes[0].expand().draw())"
   ]
  },
  {
   "cell_type": "code",
   "execution_count": null,
   "metadata": {},
   "outputs": [],
   "source": []
  },
  {
   "cell_type": "code",
   "execution_count": null,
   "metadata": {},
   "outputs": [],
   "source": []
  },
  {
   "cell_type": "code",
   "execution_count": null,
   "metadata": {},
   "outputs": [],
   "source": []
  }
 ],
 "metadata": {
  "kernelspec": {
   "display_name": "pennylane",
   "language": "python",
   "name": "python3"
  },
  "language_info": {
   "codemirror_mode": {
    "name": "ipython",
    "version": 3
   },
   "file_extension": ".py",
   "mimetype": "text/x-python",
   "name": "python",
   "nbconvert_exporter": "python",
   "pygments_lexer": "ipython3",
   "version": "3.12.1"
  }
 },
 "nbformat": 4,
 "nbformat_minor": 2
}
