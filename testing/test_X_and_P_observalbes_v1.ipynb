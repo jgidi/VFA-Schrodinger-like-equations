{
 "cells": [
  {
   "cell_type": "code",
   "execution_count": 79,
   "metadata": {},
   "outputs": [],
   "source": [
    "import sys\n",
    "sys.path.append('../')\n",
    "\n",
    "import pennylane as qml\n",
    "import pennylane.numpy as np \n",
    "from main.measurements import *\n",
    "from main.operators import *"
   ]
  },
  {
   "cell_type": "code",
   "execution_count": 80,
   "metadata": {},
   "outputs": [],
   "source": [
    "num_wires = 5\n",
    "dev = qml.device( \"default.qubit\", \n",
    "                    wires=num_wires, shots=100)"
   ]
  },
  {
   "cell_type": "code",
   "execution_count": 81,
   "metadata": {},
   "outputs": [],
   "source": [
    "X, P = X_and_P_ops( range(num_wires), -5, 5, False )    "
   ]
  },
  {
   "cell_type": "code",
   "execution_count": 82,
   "metadata": {},
   "outputs": [],
   "source": [
    "fun_X = qml.s_prod( 0.5, X.pow(2) ) \n",
    "fun_P = qml.s_prod( 0.5, P.pow(2) )\n",
    "H = [fun_X, fun_P]"
   ]
  },
  {
   "cell_type": "code",
   "execution_count": 83,
   "metadata": {},
   "outputs": [],
   "source": [
    "class expval_XP(SampleMeasurement, StateMeasurement):\n",
    "\n",
    "    @property\n",
    "    def return_type(self):\n",
    "        return Expectation\n",
    "\n",
    "    @property\n",
    "    def numeric_type(self):\n",
    "        return float\n",
    "\n",
    "    def shape(self, device, shots):\n",
    "        if not shots.has_partitioned_shots:\n",
    "            return ()\n",
    "        num_shot_elements = sum(s.copies for s in shots.shot_vector)\n",
    "        return tuple(() for _ in range(num_shot_elements))\n",
    "\n",
    "    def process_samples(\n",
    "        self,\n",
    "        samples: Sequence[complex],\n",
    "        wire_order: Wires,\n",
    "        shot_range: Tuple[int] = None,\n",
    "        bin_size: int = None,\n",
    "    ):\n",
    "        # print(samples)\n",
    "\n",
    "        # estimate the ev\n",
    "        # This also covers statistics for mid-circuit measurements manipulated using\n",
    "        # arithmetic operators\n",
    "        eigvals = qml.math.asarray(self.obs.eigvals(), dtype=\"float64\")\n",
    "        with qml.queuing.QueuingManager.stop_recording():\n",
    "            prob = qml.probs(wires=self.wires\n",
    "                                ).process_samples(samples=samples, \n",
    "                                                    wire_order=wire_order, \n",
    "                                                    shot_range=shot_range, \n",
    "                                                    bin_size=bin_size\n",
    "                                                    )\n",
    "        return qml.math.dot(prob, eigvals)\n",
    "    \n",
    "    def process_state(self, \n",
    "                        state: Sequence[complex], \n",
    "                        wire_order: Wires):\n",
    "        # print(state)\n",
    "        # This also covers statistics for mid-circuit \n",
    "        # measurements manipulated using\n",
    "        # arithmetic operators\n",
    "        eigvals = qml.math.asarray(self.obs.eigvals(), \n",
    "                                    dtype=\"float64\")\n",
    "        # we use ``self.wires`` instead of ``self.obs`` \n",
    "        # because the observable was\n",
    "        # already applied to the state\n",
    "        with qml.queuing.QueuingManager.stop_recording():\n",
    "            prob = qml.probs(wires=self.wires\n",
    "                            ).process_state(state=state, \n",
    "                                            wire_order=wire_order)\n",
    "        # In case of broadcasting, `prob` has two axes \n",
    "        # and this is a matrix-vector product\n",
    "        return qml.math.dot(prob, eigvals)"
   ]
  },
  {
   "cell_type": "code",
   "execution_count": 84,
   "metadata": {},
   "outputs": [],
   "source": [
    "def init_state():\n",
    "    # qml.MottonenStatePreparation(min_state, wires=range(num_wires) )\n",
    "    for k in range(num_wires):\n",
    "        qml.RX(np.pi/5,k)\n",
    "        qml.RZ(np.pi/3,k)"
   ]
  },
  {
   "cell_type": "code",
   "execution_count": 85,
   "metadata": {},
   "outputs": [],
   "source": [
    "def exp_val_XP( init_state, local_hamils, device ):\n",
    "    \n",
    "    if not isinstance( local_hamils, list ):\n",
    "        local_hamils = [local_hamils]\n",
    "        \n",
    "    circuit_tapes = []\n",
    "    eigenvals     = []\n",
    "    \n",
    "    for local_hamil in local_hamils :\n",
    "\n",
    "        with qml.tape.OperationRecorder() as circuit_tape:\n",
    "            init_state()\n",
    "\n",
    "        circuit_tape = circuit_tape.operations\n",
    "        circuit_tape =  circuit_tape + local_hamil.diagonalizing_gates()\n",
    "\n",
    "        circuit_tape = qml.tape.QuantumTape( ops= circuit_tape,\n",
    "                                measurements=[ qml.probs(wires=local_hamil.wires) ] )\n",
    "        \n",
    "        circuit_tapes.append( circuit_tape )\n",
    "        eigenvals.append( local_hamil.eigvals() )\n",
    "\n",
    "    probs = qml.execute( circuit_tapes, \n",
    "                        device,\n",
    "                        gradient_fn=qml.gradients.param_shift )\n",
    "\n",
    "    ExpVal = 0\n",
    "    for j, prob in enumerate(probs):\n",
    "        ExpVal += np.dot( eigenvals[j], prob)\n",
    "\n",
    "    return ExpVal\n"
   ]
  },
  {
   "cell_type": "code",
   "execution_count": 86,
   "metadata": {},
   "outputs": [
    {
     "data": {
      "text/plain": [
       "9.713778203124788"
      ]
     },
     "execution_count": 86,
     "metadata": {},
     "output_type": "execute_result"
    }
   ],
   "source": [
    "exp_val_XP( init_state, fun_X, dev )"
   ]
  },
  {
   "cell_type": "code",
   "execution_count": 87,
   "metadata": {},
   "outputs": [
    {
     "data": {
      "text/plain": [
       "10.759895143437808"
      ]
     },
     "execution_count": 87,
     "metadata": {},
     "output_type": "execute_result"
    }
   ],
   "source": [
    "exp_val_XP( init_state, fun_P, dev )"
   ]
  },
  {
   "cell_type": "code",
   "execution_count": 88,
   "metadata": {},
   "outputs": [
    {
     "data": {
      "text/plain": [
       "20.473673346562595"
      ]
     },
     "execution_count": 88,
     "metadata": {},
     "output_type": "execute_result"
    }
   ],
   "source": [
    "exp_val_XP( init_state, H, dev )"
   ]
  },
  {
   "cell_type": "code",
   "execution_count": null,
   "metadata": {},
   "outputs": [],
   "source": []
  },
  {
   "cell_type": "code",
   "execution_count": 211,
   "metadata": {},
   "outputs": [],
   "source": [
    "num_wires = 5\n",
    "dev = qml.device( \"default.qubit\", \n",
    "                    wires=2*num_wires, shots=100)"
   ]
  },
  {
   "cell_type": "code",
   "execution_count": 224,
   "metadata": {},
   "outputs": [],
   "source": [
    "def init_state(theta=0):\n",
    "    for k in range(2*num_wires):\n",
    "        qml.RX(np.pi/5,k)\n",
    "        qml.RZ(np.pi/3,k)\n",
    "    qml.RY(theta,0)"
   ]
  },
  {
   "cell_type": "code",
   "execution_count": 225,
   "metadata": {},
   "outputs": [
    {
     "data": {
      "text/plain": [
       "[<Hamiltonian: terms=1, wires=[0, 1, 2, 3, 4]>,\n",
       " <Hamiltonian: terms=1, wires=[5, 6, 7, 8, 9]>,\n",
       " <Hamiltonian: terms=1, wires=[0, 1, 2, 3, 4]>,\n",
       " <Hamiltonian: terms=1, wires=[5, 6, 7, 8, 9]>,\n",
       "   (1) [Hermitian0,1,2,3,4] @   (1) [Hermitian5,6,7,8,9]]"
      ]
     },
     "execution_count": 225,
     "metadata": {},
     "output_type": "execute_result"
    }
   ],
   "source": [
    "X1, P1 = X_and_P_ops( range(num_wires), -5, 5, False )    \n",
    "X2, P2 = X_and_P_ops( range(num_wires,2*num_wires), -5, 5, False )    \n",
    "\n",
    "H12 = [ \n",
    "        X1.pow(2),\n",
    "        X2.pow(2),\n",
    "        P1.pow(2),\n",
    "        P2.pow(2),\n",
    "        qml.prod( X1, X2 )\n",
    "        ]\n",
    "H12 "
   ]
  },
  {
   "cell_type": "code",
   "execution_count": 251,
   "metadata": {},
   "outputs": [],
   "source": [
    "def exp_val_XP( theta ):\n",
    "    \n",
    "    device       = dev\n",
    "    local_hamils = H12\n",
    "    \n",
    "    if not isinstance( local_hamils, list ):\n",
    "        local_hamils = [local_hamils]\n",
    "        \n",
    "    circuit_tapes = []\n",
    "    eigenvals     = []\n",
    "    \n",
    "    # ExpVal = 0\n",
    "    for local_hamil in local_hamils :\n",
    "\n",
    "        with qml.tape.OperationRecorder() as circuit_tape:\n",
    "            init_state(theta[0])\n",
    "\n",
    "        circuit_tape = circuit_tape.operations\n",
    "        circuit_tape =  circuit_tape + local_hamil.diagonalizing_gates()\n",
    "\n",
    "        circuit_tape = qml.tape.QuantumTape( ops= circuit_tape,\n",
    "                                measurements=[ qml.probs(wires=local_hamil.wires) ] )\n",
    "        \n",
    "        circuit_tapes.append( circuit_tape )\n",
    "        eigenvals.append( local_hamil.eigvals() )\n",
    "\n",
    "    probs = qml.execute( circuit_tapes, \n",
    "                        device,\n",
    "                        gradient_fn=qml.gradients.param_shift )\n",
    "\n",
    "    ExpVal = 0\n",
    "    for j, prob in enumerate(probs):\n",
    "        ExpVal += np.dot( eigenvals[j], prob)\n",
    "\n",
    "    return ExpVal\n"
   ]
  },
  {
   "cell_type": "code",
   "execution_count": 252,
   "metadata": {},
   "outputs": [
    {
     "data": {
      "text/plain": [
       "82.09319450576879"
      ]
     },
     "execution_count": 252,
     "metadata": {},
     "output_type": "execute_result"
    }
   ],
   "source": [
    "theta = np.array([1.], requires_grad=True) \n",
    "exp_val_XP( theta ) \n"
   ]
  },
  {
   "cell_type": "code",
   "execution_count": 253,
   "metadata": {},
   "outputs": [
    {
     "data": {
      "text/plain": [
       "array([-19.62778855])"
      ]
     },
     "execution_count": 253,
     "metadata": {},
     "output_type": "execute_result"
    }
   ],
   "source": [
    "qml.grad(exp_val_XP)( np.array([1.], requires_grad=True) )"
   ]
  },
  {
   "cell_type": "code",
   "execution_count": null,
   "metadata": {},
   "outputs": [],
   "source": []
  },
  {
   "cell_type": "code",
   "execution_count": null,
   "metadata": {},
   "outputs": [],
   "source": []
  }
 ],
 "metadata": {
  "kernelspec": {
   "display_name": "pennylane",
   "language": "python",
   "name": "python3"
  },
  "language_info": {
   "codemirror_mode": {
    "name": "ipython",
    "version": 3
   },
   "file_extension": ".py",
   "mimetype": "text/x-python",
   "name": "python",
   "nbconvert_exporter": "python",
   "pygments_lexer": "ipython3",
   "version": "3.12.1"
  }
 },
 "nbformat": 4,
 "nbformat_minor": 2
}
