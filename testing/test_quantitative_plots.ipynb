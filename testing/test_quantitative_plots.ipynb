{
 "cells": [
  {
   "cell_type": "code",
   "execution_count": 1,
   "metadata": {},
   "outputs": [],
   "source": [
    "import sys\n",
    "\n",
    "sys.path.append(\"../\")"
   ]
  },
  {
   "cell_type": "code",
   "execution_count": 2,
   "metadata": {},
   "outputs": [],
   "source": [
    "import pennylane as qml\n",
    "from pennylane import numpy as np\n",
    "import matplotlib.pyplot as plt\n",
    "from main import X_and_P_ops, RY_ansatz, VarFourier, tomatrix\n",
    "\n",
    "np.random.seed(0)  # For reproducibility"
   ]
  },
  {
   "cell_type": "markdown",
   "metadata": {},
   "source": [
    "In this notebook we show how to use our framework to obtain the ground state of the harmonic oscilator with Variational Fourier Analysis. \n",
    "\n",
    "We first define the number of qubits and the device for the simulation."
   ]
  },
  {
   "cell_type": "code",
   "execution_count": 3,
   "metadata": {},
   "outputs": [],
   "source": [
    "num_qubits = 6\n",
    "device = qml.device(\"default.qubit\", wires=num_qubits)"
   ]
  },
  {
   "cell_type": "markdown",
   "metadata": {},
   "source": [
    "We then assemble the Hamiltonian of the harmonic oscilator,\n",
    "\n",
    "$$H=\\frac{1}{2}( P^2 + X^2 )$$\n",
    "\n",
    "using `X_and_P_ops` which handles the space discretization and creates the \n",
    "`X` and `P` operators holding the information required for latter steps."
   ]
  },
  {
   "cell_type": "code",
   "execution_count": 69,
   "metadata": {},
   "outputs": [],
   "source": [
    "X, P = X_and_P_ops(range(num_qubits), x_min=-5, x_max=5, semiclassical=True)\n",
    "\n",
    "Hamil = [X.pow(2).s_prod(0.5), P.pow(2).s_prod(0.5)]"
   ]
  },
  {
   "cell_type": "markdown",
   "metadata": {},
   "source": [
    "For posterior checking, we obtain its ground state by matricial calculations."
   ]
  },
  {
   "cell_type": "code",
   "execution_count": 70,
   "metadata": {},
   "outputs": [
    {
     "data": {
      "text/plain": [
       "0.4999999999633249"
      ]
     },
     "execution_count": 70,
     "metadata": {},
     "output_type": "execute_result"
    }
   ],
   "source": [
    "Hamil_matrix = tomatrix(Hamil)\n",
    "\n",
    "vals, vecs = np.linalg.eigh(Hamil_matrix)\n",
    "val = vals[0]\n",
    "vec = vecs[:, 0]\n",
    "val"
   ]
  },
  {
   "cell_type": "markdown",
   "metadata": {},
   "source": [
    "Defining the initial state of the circuits and the variational circuit,"
   ]
  },
  {
   "cell_type": "code",
   "execution_count": 71,
   "metadata": {},
   "outputs": [],
   "source": [
    "def init_state():\n",
    "    pass"
   ]
  },
  {
   "cell_type": "code",
   "execution_count": 7,
   "metadata": {},
   "outputs": [
    {
     "name": "stdout",
     "output_type": "stream",
     "text": [
      "_____ Current layer = 1\n",
      "Step:    200, Energy:     3.838411\n",
      "_____ Current layer = 2\n",
      "Step:    224, Energy:     1.814588\n",
      "_____ Current layer = 3\n",
      "Step:    443, Energy:     0.944790\n",
      "_____ Current layer = 4\n",
      "Step:   1000, Energy:     0.590808\n",
      "_____ Current layer = 5\n",
      "Step:   1000, Energy:     0.510698\n",
      "_____ Current layer = 6\n",
      "Step:   1000, Energy:     0.504833\n",
      "_____ Current layer = 7\n",
      "Step:   1000, Energy:     0.506041\n"
     ]
    }
   ],
   "source": [
    "num_layers_max = num_qubits\n",
    "params_ground_vec = []\n",
    "energies_ground_vec = []\n",
    "\n",
    "for num_layers in range(1,num_layers_max+2):\n",
    "    print(f\"_____ Current layer = {num_layers}\")\n",
    "    var_state_class = RY_ansatz(num_qubits, num_layers)\n",
    "    var_state = var_state_class.construct_circuit\n",
    "    num_params = var_state_class.num_params\n",
    "    varqft = VarFourier(Hamil, device, var_state=var_state, init_state=init_state)\n",
    "    params_init = np.random.randn(num_params) * 0.01\n",
    "\n",
    "    params_ground, energies_ground = varqft.run(\n",
    "        params_init,\n",
    "        max_iterations=1000,\n",
    "        learning_rate=0.1,\n",
    "        conv_tol = 1e-6\n",
    "    )\n",
    "\n",
    "    params_ground_vec.append(params_ground)\n",
    "    energies_ground_vec.append(energies_ground)\n",
    "#qml.draw_mpl(var_state, style=\"pennylane\")(num_params * [0])"
   ]
  },
  {
   "cell_type": "code",
   "execution_count": 74,
   "metadata": {},
   "outputs": [
    {
     "name": "stdout",
     "output_type": "stream",
     "text": [
      "_____ Current layer = 1\n",
      "Step:    199, Energy:     3.838408\n",
      "_____ Current layer = 2\n",
      "Step:    285, Energy:     1.814592\n",
      "_____ Current layer = 3\n",
      "Step:    251, Energy:     0.944787\n",
      "_____ Current layer = 4\n",
      "Step:    481, Energy:     0.585146\n",
      "_____ Current layer = 5\n",
      "Step:   1000, Energy:     0.505248\n",
      "_____ Current layer = 6\n",
      "Step:   1000, Energy:     0.505775\n",
      "_____ Current layer = 7\n",
      "Step:    465, Energy:     0.501786\n"
     ]
    }
   ],
   "source": [
    "num_layers_max = num_qubits\n",
    "params_ground_SC_vec = []\n",
    "energies_ground_SC_vec = []\n",
    "\n",
    "for num_layers in range(1,num_layers_max+2):\n",
    "    print(f\"_____ Current layer = {num_layers}\")\n",
    "    var_state_class = RY_ansatz(num_qubits, num_layers)\n",
    "    var_state = var_state_class.construct_circuit\n",
    "    num_params = var_state_class.num_params\n",
    "    varqft = VarFourier(Hamil, device, var_state=var_state, init_state=init_state)\n",
    "    params_init = np.random.randn(num_params) * 0.01\n",
    "\n",
    "    params_ground, energies_ground = varqft.run(\n",
    "        params_init,\n",
    "        max_iterations=1000,\n",
    "        learning_rate=0.1,\n",
    "        conv_tol = 1e-6\n",
    "    )\n",
    "\n",
    "    params_ground_SC_vec.append(params_ground)\n",
    "    energies_ground_SC_vec.append(energies_ground)\n",
    "#qml.draw_mpl(var_state, style=\"pennylane\")(num_params * [0])"
   ]
  },
  {
   "cell_type": "code",
   "execution_count": 63,
   "metadata": {},
   "outputs": [],
   "source": [
    "optim_energies_vec = []\n",
    "optim_states_vec = []\n",
    "fidelities_vec = []\n",
    "for num_layers in range(0,num_layers_max+1):\n",
    "\n",
    "    var_state_class = RY_ansatz(num_qubits, num_layers+1)\n",
    "    var_state = var_state_class.construct_circuit\n",
    "    num_params = var_state_class.num_params\n",
    "    varqft = VarFourier(Hamil, device, var_state=var_state, init_state=init_state)\n",
    "    \n",
    "    optim_energies_vec.append(np.min(energies_ground_vec[num_layers]))\n",
    "    optim_params = params_ground_vec[num_layers][energies_ground_vec[num_layers].index(optim_energies_vec[-1])]\n",
    "    optim_states_vec.append(varqft.state( optim_params ))\n",
    "    fidelities_vec.append( np.abs( np.vdot( optim_states_vec[-1] , vec) ) ** 2)"
   ]
  },
  {
   "cell_type": "code",
   "execution_count": 77,
   "metadata": {},
   "outputs": [],
   "source": [
    "optim_energies_SC_vec = []\n",
    "optim_states_SC_vec = []\n",
    "fidelities_SC_vec = []\n",
    "for num_layers in range(0,num_layers_max+1):\n",
    "\n",
    "    var_state_class = RY_ansatz(num_qubits, num_layers+1)\n",
    "    var_state = var_state_class.construct_circuit\n",
    "    num_params = var_state_class.num_params\n",
    "    varqft = VarFourier(Hamil, device, var_state=var_state, init_state=init_state)\n",
    "    \n",
    "    optim_energies_SC_vec.append(np.min(energies_ground_SC_vec[num_layers]))\n",
    "    optim_params = params_ground_SC_vec[num_layers][energies_ground_SC_vec[num_layers].index(optim_energies_SC_vec[-1])]\n",
    "    optim_states_SC_vec.append(varqft.state( optim_params ))\n",
    "    fidelities_SC_vec.append( np.abs( np.vdot( optim_states_SC_vec[-1] , vec) ) ** 2)"
   ]
  },
  {
   "cell_type": "code",
   "execution_count": 78,
   "metadata": {},
   "outputs": [],
   "source": [
    "%matplotlib inline\n",
    "import matplotlib.pyplot as plt\n",
    "#%config InlineBackend.figure_format =\"retina\"\n",
    "import matplotlib as mpl\n",
    "mpl.rcParams[\"figure.dpi\"] = 120\n",
    "plt.rc('text', usetex=True)\n",
    "plt.rc('font', family='serif')"
   ]
  },
  {
   "cell_type": "code",
   "execution_count": 4,
   "metadata": {},
   "outputs": [],
   "source": [
    "optim_energies_vec = [3.8384109744499533, 1.8145879766108135, 0.9447890363131418, 0.5902683496051573, 0.5080829071158655, 0.5027335962864705, 0.500894604971506]\n",
    "fidelities_vec = [0.3698656387165926, 0.875528183131378, 0.9738518886545564, 0.9858220630651171, 0.9995933000109846, 0.9995892956178419, 0.9999599423116505]\n",
    "optim_energies_SC_vec = [3.838407420891319, 1.814591595290628, 0.9447865565794347, 0.5851457452130793, 0.5050733708264824, 0.5030171686507046, 0.5017862686186889]\n",
    "fidelities_SC_vec = [0.3700380856190093, 0.8755840823208622, 0.9736673554696159, 0.9890142911299019, 0.9995832344840315, 0.9994788468836684, 0.9998486217913376]"
   ]
  },
  {
   "cell_type": "code",
   "execution_count": 5,
   "metadata": {},
   "outputs": [
    {
     "name": "stdout",
     "output_type": "stream",
     "text": [
      "[3.8384109744499533, 1.8145879766108135, 0.9447890363131418, 0.5902683496051573, 0.5080829071158655, 0.5027335962864705, 0.500894604971506]\n",
      "[0.3698656387165926, 0.875528183131378, 0.9738518886545564, 0.9858220630651171, 0.9995933000109846, 0.9995892956178419, 0.9999599423116505]\n",
      "[3.838407420891319, 1.814591595290628, 0.9447865565794347, 0.5851457452130793, 0.5050733708264824, 0.5030171686507046, 0.5017862686186889]\n",
      "[0.3700380856190093, 0.8755840823208622, 0.9736673554696159, 0.9890142911299019, 0.9995832344840315, 0.9994788468836684, 0.9998486217913376]\n"
     ]
    }
   ],
   "source": [
    "print(optim_energies_vec)\n",
    "\n",
    "print(fidelities_vec)\n",
    "\n",
    "print(optim_energies_SC_vec)\n",
    "\n",
    "print(fidelities_SC_vec)"
   ]
  },
  {
   "cell_type": "code",
   "execution_count": 91,
   "metadata": {},
   "outputs": [
    {
     "data": {
      "image/png": "[encoded data removed]",
      "text/plain": [
       "<Figure size 420x240 with 1 Axes>"
      ]
     },
     "metadata": {},
     "output_type": "display_data"
    }
   ],
   "source": [
    "fig, ax = plt.subplots(1,1)\n",
    "fig.set_size_inches(3.5,2)\n",
    "Dmax = len(optim_energies_vec)\n",
    "colors = plt.cm.viridis(np.linspace(0,1,Dmax))\n",
    "#colors = sns.color_palette(\"tab10\",as_cmap=True)(np.linspace(0,1,M))\n",
    "total_layers = np.arange(1,int(Dmax)+1)\n",
    "\n",
    "ax.scatter(total_layers , optim_energies_vec - 0.5*np.ones( Dmax ) , label = 'Full QFT' , linewidth=1.25,marker='s',edgecolor='black',zorder=12)\n",
    "ax.plot(total_layers , optim_energies_vec - 0.5*np.ones( Dmax ) ,  linestyle = 'dashed' , linewidth=2,zorder=1)\n",
    "\n",
    "ax.scatter(total_layers , optim_energies_SC_vec - 0.5*np.ones( Dmax ) , label = 'Semiclassical QFT', linewidth=1.25,marker='o',edgecolor='black',zorder=12)\n",
    "ax.plot(total_layers , optim_energies_SC_vec - 0.5*np.ones( Dmax ) ,  linestyle = 'dashed' , linewidth=2,zorder=1)\n",
    "\n",
    "ax.set_yscale('log')\n",
    "\n",
    "ax.set_xlabel(r'$D$',fontsize=25)\n",
    "ax.set_ylabel(r\"$\\varepsilon$\",fontsize=25)\n",
    "ax.tick_params(axis='both', labelsize=17.5)\n",
    "#restore_minor_ticks_log_plot(ax)\n",
    "from matplotlib import ticker as mticker\n",
    "ax.yaxis.set_major_locator(mticker.LogLocator(numticks=999))\n",
    "ax.yaxis.set_minor_locator(mticker.LogLocator(numticks=999, subs=(.2, .4, .6, .8)))\n",
    "ax.set_yticks([10,1,1e-1,1e-2,1e-3])\n",
    "ax.set_yticklabels([r'$10^{1}$',r'$1$',r'$10^{-1}$',r'$10^{-2}$',r'$10^{-3}$'])\n",
    "ax.set_xticks([1,2,3,4,5,6,7])\n",
    "ax.set_xticklabels([r'$1$',r'$2$',r'$3$',r'$4$',r'$5$',r'$6$',r'$7$'])#,r'$7$',r'$9$'])\n",
    "ax.set_xlim([0.75,Dmax+0.25])\n",
    "ax.set_ylim([3*1e-4,5])\n",
    "\n",
    "box = ax.get_position()\n",
    "ax.set_position([box.x0, box.y0, box.width * 1., box.height])\n",
    "# Put a legend to the right of the current axis\n",
    "ax.legend(loc='center left', bbox_to_anchor=(1, 0.5))\n",
    "\n",
    "plt.grid()\n",
    "\n",
    "plt.savefig(\"../figures/residual_energy_oscillator.pdf\",bbox_inches='tight',dpi=600)\n"
   ]
  },
  {
   "cell_type": "code",
   "execution_count": 109,
   "metadata": {},
   "outputs": [
    {
     "data": {
      "image/png": "[encoded data removed]",
      "text/plain": [
       "<Figure size 420x240 with 1 Axes>"
      ]
     },
     "metadata": {},
     "output_type": "display_data"
    }
   ],
   "source": [
    "fig, ax = plt.subplots(1,1)\n",
    "fig.set_size_inches(3.5,2)\n",
    "Dmax = len(optim_energies_vec)\n",
    "colors = plt.cm.viridis(np.linspace(0,1,Dmax))\n",
    "#colors = sns.color_palette(\"tab10\",as_cmap=True)(np.linspace(0,1,M))\n",
    "total_layers = np.arange(1,int(Dmax)+1)\n",
    "\n",
    "ax.scatter(total_layers , np.ones( Dmax ) - fidelities_vec  , linewidth=1.25, marker='s',edgecolor='black',zorder=12)\n",
    "ax.plot(total_layers , np.ones( Dmax ) - fidelities_vec , label = 'Full QFT',  linestyle = 'dashed' , linewidth=2,zorder=1)\n",
    "\n",
    "ax.scatter(total_layers , np.ones( Dmax ) - fidelities_SC_vec  , linewidth=1.25,marker='o',edgecolor='black',zorder=12)\n",
    "ax.plot(total_layers , np.ones( Dmax ) - fidelities_SC_vec ,  label = 'Semiclassical QFT', linestyle = 'dashed' , linewidth=2,zorder=1)\n",
    "ax.set_yscale('log')\n",
    "\n",
    "ax.set_xlabel(r'$D$',fontsize=25)\n",
    "ax.set_ylabel(r\"$1-\\mathcal{F}$\",fontsize=25)\n",
    "ax.tick_params(axis='both', labelsize=17.5)\n",
    "#restore_minor_ticks_log_plot(ax)\n",
    "from matplotlib import ticker as mticker\n",
    "ax.yaxis.set_major_locator(mticker.LogLocator(numticks=999))\n",
    "ax.yaxis.set_minor_locator(mticker.LogLocator(numticks=999, subs=(.2, .4, .6, .8)))\n",
    "ax.set_yticks([1e-1,1e-2,1e-3,1e-4,1e-5])\n",
    "#ax.set_yticklabels([r'$10^{-1}$',r'$10^{-2}$',r'$10^{-3}$',r'$10^{-4}$',r'$10^{-5}'])\n",
    "ax.set_xticks([1,2,3,4,5,6,7])\n",
    "ax.set_xticklabels([r'$1$',r'$2$',r'$3$',r'$4$',r'$5$',r'$6$',r'$7$'])#,r'$7$',r'$9$'])\n",
    "ax.set_xlim([0.75,Dmax+0.25])\n",
    "ax.set_ylim([1e-5,1])\n",
    "\n",
    "box = ax.get_position()\n",
    "ax.set_position([box.x0, box.y0, box.width * 1., box.height])\n",
    "# Put a legend to the right of the current axis\n",
    "ax.legend(loc='center left', bbox_to_anchor=(1, 0.5))\n",
    "\n",
    "plt.grid()\n",
    "\n",
    "plt.savefig(\"../figures/rfidelity_oscillator.pdf\",bbox_inches='tight',dpi=600)\n"
   ]
  },
  {
   "cell_type": "code",
   "execution_count": 106,
   "metadata": {},
   "outputs": [
    {
     "data": {
      "image/png": "[encoded data removed]",
      "text/plain": [
       "<Figure size 240x180 with 1 Axes>"
      ]
     },
     "metadata": {},
     "output_type": "display_data"
    }
   ],
   "source": [
    "fig, ax = plt.subplots(1,1)\n",
    "fig.set_size_inches(2,1.5)\n",
    "ax.plot(np.linspace(-5,5,2**(num_qubits)), np.abs(optim_states_vec[-1])**2, '--', linewidth=2)\n",
    "ax.plot(np.linspace(-5,5,2**(num_qubits)), np.abs(optim_states_SC_vec[-1])**2, '--')\n",
    "ax.plot( np.linspace(-5,5,2**(num_qubits)), np.abs(vec)**2, color='tab:red', linewidth=2.5, zorder=0) \n",
    "\n",
    "ax.set_xlabel(r'Steps',fontsize=15)\n",
    "ax.set_xlabel(r'$x$',fontsize=15)\n",
    "ax.set_ylabel(r\"$\\langle H \\rangle_{\\theta}$\",fontsize=15)\n",
    "ax.set_ylabel(r\"$\\left|\\psi(x)\\right|^2$\",fontsize=15)\n",
    "\n",
    "ax.tick_params(axis='both', labelsize=15)\n",
    "ax.tick_params(axis='both', labelsize=15)\n",
    "\n",
    "plt.savefig(\"../figures/wfs_oscillator.pdf\",bbox_inches='tight',dpi=600)\n"
   ]
  },
  {
   "cell_type": "code",
   "execution_count": null,
   "metadata": {},
   "outputs": [],
   "source": []
  }
 ],
 "metadata": {
  "kernelspec": {
   "display_name": "pennylane",
   "language": "python",
   "name": "python3"
  },
  "language_info": {
   "codemirror_mode": {
    "name": "ipython",
    "version": 3
   },
   "file_extension": ".py",
   "mimetype": "text/x-python",
   "name": "python",
   "nbconvert_exporter": "python",
   "pygments_lexer": "ipython3",
   "version": "3.11.8"
  }
 },
 "nbformat": 4,
 "nbformat_minor": 2
}
