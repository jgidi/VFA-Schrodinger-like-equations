{
 "cells": [
  {
   "cell_type": "code",
   "execution_count": 1,
   "metadata": {},
   "outputs": [],
   "source": [
    "import sys\n",
    "\n",
    "sys.path.append(\"../\")\n",
    "\n",
    "import pennylane as qml\n",
    "import pennylane.numpy as np\n",
    "from main import *\n",
    "\n",
    "# np.random.seed(0)  # For reproducibility"
   ]
  },
  {
   "cell_type": "code",
   "execution_count": 2,
   "metadata": {},
   "outputs": [],
   "source": [
    "num_wires = 1 \n",
    "dev_ideal = qml.device(\"lightning.qubit\", wires=num_wires )\n",
    "dev_shots = qml.device(\"lightning.qubit\", wires=num_wires, shots=100 )"
   ]
  },
  {
   "cell_type": "code",
   "execution_count": 3,
   "metadata": {},
   "outputs": [],
   "source": [
    "from pennylane.measurements.probs import ProbabilityMP"
   ]
  },
  {
   "cell_type": "code",
   "execution_count": 4,
   "metadata": {},
   "outputs": [],
   "source": [
    "angle = np.pi*np.random.randn()\n",
    "def fun():\n",
    "    qml.RY( angle , 0 )\n",
    "    return ProbabilityMP( wires=[0], eigvals=np.random.rand(2) )\n",
    "\n",
    "angle2 = np.pi*np.random.randn()\n",
    "def fun2():\n",
    "    qml.RY( angle2 , 0 )\n",
    "    return ProbabilityMP( wires=[0], eigvals=np.random.rand(2) )"
   ]
  },
  {
   "cell_type": "code",
   "execution_count": 5,
   "metadata": {},
   "outputs": [
    {
     "data": {
      "text/plain": [
       "array([0.00557084, 0.99442916])"
      ]
     },
     "execution_count": 5,
     "metadata": {},
     "output_type": "execute_result"
    }
   ],
   "source": [
    "qml.QNode( fun, dev_ideal )()"
   ]
  },
  {
   "cell_type": "code",
   "execution_count": 6,
   "metadata": {},
   "outputs": [
    {
     "data": {
      "text/plain": [
       "array([0.02, 0.98])"
      ]
     },
     "execution_count": 6,
     "metadata": {},
     "output_type": "execute_result"
    }
   ],
   "source": [
    "qml.QNode( fun, dev_shots )()\n"
   ]
  },
  {
   "cell_type": "code",
   "execution_count": 7,
   "metadata": {},
   "outputs": [],
   "source": [
    "def to_tape( fun ):\n",
    "    with qml.tape.OperationRecorder() as tape:\n",
    "        fun()   \n",
    "\n",
    "    ops = tape.operations\n",
    "    meas= tape.measurements\n",
    "\n",
    "    tape = qml.tape.QuantumTape(\n",
    "                ops=ops,\n",
    "                measurements=meas ,\n",
    "            )\n",
    "    return tape"
   ]
  },
  {
   "cell_type": "code",
   "execution_count": 8,
   "metadata": {},
   "outputs": [],
   "source": [
    "tape1 = to_tape( fun )\n",
    "tape2 = to_tape( fun2 )"
   ]
  },
  {
   "cell_type": "code",
   "execution_count": 9,
   "metadata": {},
   "outputs": [
    {
     "data": {
      "text/plain": [
       "[array([0.00557084, 0.99442916]), array([0.91243046, 0.08756954])]"
      ]
     },
     "execution_count": 9,
     "metadata": {},
     "output_type": "execute_result"
    }
   ],
   "source": [
    "qml.execute( [tape1, tape2], device=dev_ideal )"
   ]
  },
  {
   "cell_type": "code",
   "execution_count": 12,
   "metadata": {},
   "outputs": [
    {
     "data": {
      "text/plain": [
       "array([0.23476531, 0.50801638])"
      ]
     },
     "execution_count": 12,
     "metadata": {},
     "output_type": "execute_result"
    }
   ],
   "source": [
    "tape1.measurements[0].eigvals()"
   ]
  },
  {
   "cell_type": "code",
   "execution_count": null,
   "metadata": {},
   "outputs": [],
   "source": []
  }
 ],
 "metadata": {
  "kernelspec": {
   "display_name": "pennylane",
   "language": "python",
   "name": "python3"
  },
  "language_info": {
   "codemirror_mode": {
    "name": "ipython",
    "version": 3
   },
   "file_extension": ".py",
   "mimetype": "text/x-python",
   "name": "python",
   "nbconvert_exporter": "python",
   "pygments_lexer": "ipython3",
   "version": "3.12.1"
  }
 },
 "nbformat": 4,
 "nbformat_minor": 2
}
